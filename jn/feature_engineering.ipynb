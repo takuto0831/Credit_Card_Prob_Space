{
 "cells": [
  {
   "cell_type": "markdown",
   "metadata": {},
   "source": [
    "# setting \n",
    "\n",
    "## path"
   ]
  },
  {
   "cell_type": "code",
   "execution_count": 1,
   "metadata": {},
   "outputs": [],
   "source": [
    "import sys, os\n",
    "home_path = os.path.expanduser(\"~\")\n",
    "sys.path.append(home_path + '/Desktop/Credit_Comp/py/models/')\n",
    "sys.path.append(home_path + '/Desktop/Credit_Comp/py/')\n",
    "sys.path.append(home_path + '/.pyenv/versions/3.6.5/lib/python3.6/site-packages')\n",
    "sys.path.append(home_path + '/.pyenv/versions/3.6.5/lib/python3.6/site-packages/xgboost-0.81-py3.6.egg')"
   ]
  },
  {
   "cell_type": "markdown",
   "metadata": {},
   "source": [
    "## module"
   ]
  },
  {
   "cell_type": "code",
   "execution_count": 16,
   "metadata": {},
   "outputs": [],
   "source": [
    "## module\n",
    "import numpy as np # linear algebra\n",
    "import pandas as pd # data processing\n",
    "import pandas_profiling as pdp\n",
    "from collections import Counter\n",
    "import scipy\n",
    "import Base, Classifier # my module\n",
    "# genetic algorithm\n",
    "from deap import algorithms, base, creator, tools, gp\n",
    "import operator, math, time\n",
    "from tqdm import tqdm\n",
    "# optuna\n",
    "from functools import partial\n",
    "import optuna\n",
    "# sklearn\n",
    "from sklearn.tree import DecisionTreeClassifier, export_graphviz\n",
    "from sklearn.ensemble import RandomForestClassifier , GradientBoostingClassifier, AdaBoostClassifier\n",
    "from sklearn.metrics import f1_score\n",
    "from sklearn.model_selection import KFold, cross_val_score\n",
    "from sklearn.externals.six import StringIO\n",
    "import sklearn.preprocessing as preproc\n",
    "# Boosting\n",
    "from xgboost import XGBClassifier\n",
    "import lightgbm as lgb\n",
    "# view\n",
    "import pydotplus\n",
    "from IPython.display import Image\n",
    "import matplotlib\n",
    "import matplotlib.pyplot as plt\n",
    "import seaborn as sns\n",
    "from ggplot import *\n",
    "%matplotlib inline"
   ]
  },
  {
   "cell_type": "code",
   "execution_count": 3,
   "metadata": {},
   "outputs": [],
   "source": [
    "# moduleの再読み込み(作業中に更新した内容をここで更新できる)\n",
    "import importlib\n",
    "importlib.reload(Base)\n",
    "importlib.reload(Classifier)\n",
    "\n",
    "# for instance\n",
    "Process = Base.Process()\n",
    "Applicate = Base.Applicate()\n",
    "LightGBM = Classifier.LightGBM()\n",
    "DecisionTree = Classifier.DecisionTree()"
   ]
  },
  {
   "cell_type": "markdown",
   "metadata": {},
   "source": [
    "## read data"
   ]
  },
  {
   "cell_type": "code",
   "execution_count": 8,
   "metadata": {},
   "outputs": [
    {
     "name": "stdout",
     "output_type": "stream",
     "text": [
      "27000 observations and 24 features in train set.\n",
      "3000 observations and 23 features in test set.\n"
     ]
    }
   ],
   "source": [
    "# base data\n",
    "train_base, test_base, target = Process.read_data1()\n",
    "\n",
    "# select features\n",
    "features_base = test_base.columns.values # 暫定的"
   ]
  },
  {
   "cell_type": "markdown",
   "metadata": {},
   "source": [
    "# Feature engineering\n",
    "\n",
    "- 機械学習のための特徴量エンジニアリングを参考に"
   ]
  },
  {
   "cell_type": "code",
   "execution_count": 19,
   "metadata": {},
   "outputs": [],
   "source": [
    "def feature_engineering(data):\n",
    "    data['Y11'] = np.log10(data['X1'] + 1) # 対数変換\n",
    "    tmp1, tmp2 = scipy.stats.boxcox(data['X1']) # Box-Cox変換 (分散安定化)\n",
    "    data['Y12'] = tmp1\n",
    "    data['Y13'] = preproc.StandardScaler().fit_transform(data[['X1']])\n",
    "    # data['X1'] = np.floor(np.log10(data['X1'] + 1)) # 対数変換 + 離散化 (指数幅の階級割り当て)\n",
    "    data['Y5'] = np.floor_divide(data['X5'], 10) # 離散化 (固定幅)\n",
    "    return data"
   ]
  },
  {
   "cell_type": "code",
   "execution_count": 20,
   "metadata": {},
   "outputs": [],
   "source": [
    "# execute\n",
    "train = feature_engineering(train_base.copy())\n",
    "test = feature_engineering(test_base.copy())\n",
    "features = test.columns.values"
   ]
  },
  {
   "cell_type": "code",
   "execution_count": 21,
   "metadata": {},
   "outputs": [
    {
     "name": "stdout",
     "output_type": "stream",
     "text": [
      "       X1  X2  X3  X4  X5  X6  X7  X8  X9  X10 ...    X19    X20   X21   X22  \\\n",
      "0   20000   2   2   1  24   2   2  -1  -1   -2 ...    689      0     0     0   \n",
      "1  120000   2   2   2  26  -1   2   0   0    0 ...   1000   1000  1000     0   \n",
      "2   90000   2   2   2  34   0   0   0   0    0 ...   1500   1000  1000  1000   \n",
      "3   50000   1   2   1  57  -1   0  -1   0    0 ...  36681  10000  9000   689   \n",
      "4   50000   1   1   2  37   0   0   0   0    0 ...   1815    657  1000  1000   \n",
      "\n",
      "    X23  y       Y11        Y12       Y13  Y5  \n",
      "0     0  1  4.301052  49.022150 -1.135245   2  \n",
      "1  2000  1  5.079185  81.420412 -0.362214   2  \n",
      "2  5000  0  4.954247  75.119764 -0.594123   3  \n",
      "3   679  0  4.698979  63.658328 -0.903336   5  \n",
      "4   800  0  4.698979  63.658328 -0.903336   3  \n",
      "\n",
      "[5 rows x 28 columns]\n",
      "       X1  X2  X3  X4  X5  X6  X7  X8  X9  X10 ...    X15    X16    X17   X18  \\\n",
      "0   20000   2   2   1  24   2   2  -1  -1   -2 ...      0      0      0     0   \n",
      "1  120000   2   2   2  26  -1   2   0   0    0 ...   3272   3455   3261     0   \n",
      "2   90000   2   2   2  34   0   0   0   0    0 ...  14331  14948  15549  1518   \n",
      "3   50000   1   2   1  57  -1   0  -1   0    0 ...  20940  19146  19131  2000   \n",
      "4   50000   1   1   2  37   0   0   0   0    0 ...  19394  19619  20024  2500   \n",
      "\n",
      "     X19    X20   X21   X22   X23  y  \n",
      "0    689      0     0     0     0  1  \n",
      "1   1000   1000  1000     0  2000  1  \n",
      "2   1500   1000  1000  1000  5000  0  \n",
      "3  36681  10000  9000   689   679  0  \n",
      "4   1815    657  1000  1000   800  0  \n",
      "\n",
      "[5 rows x 24 columns]\n"
     ]
    }
   ],
   "source": [
    "# check\n",
    "print(train.head())\n",
    "print(train_base.head())"
   ]
  },
  {
   "cell_type": "markdown",
   "metadata": {},
   "source": [
    "# model comparing\n",
    "\n",
    "- base lightgbm + new lightgbm\n",
    "- base Decision Tree + new Decision Tree"
   ]
  },
  {
   "cell_type": "code",
   "execution_count": 22,
   "metadata": {},
   "outputs": [
    {
     "name": "stdout",
     "output_type": "stream",
     "text": [
      "fold n°1\n",
      "Training until validation scores don't improve for 200 rounds.\n",
      "[100]\ttraining's binary_error: 0.164099\tvalid_1's binary_error: 0.173481\n",
      "[200]\ttraining's binary_error: 0.151506\tvalid_1's binary_error: 0.176444\n",
      "[300]\ttraining's binary_error: 0.137877\tvalid_1's binary_error: 0.175704\n",
      "Early stopping, best iteration is:\n",
      "[119]\ttraining's binary_error: 0.161086\tvalid_1's binary_error: 0.172\n",
      "fold n°2\n",
      "Training until validation scores don't improve for 200 rounds.\n",
      "[100]\ttraining's binary_error: 0.16242\tvalid_1's binary_error: 0.181481\n",
      "[200]\ttraining's binary_error: 0.150272\tvalid_1's binary_error: 0.183704\n",
      "Early stopping, best iteration is:\n",
      "[46]\ttraining's binary_error: 0.168938\tvalid_1's binary_error: 0.178963\n",
      "fold n°3\n",
      "Training until validation scores don't improve for 200 rounds.\n",
      "[100]\ttraining's binary_error: 0.160593\tvalid_1's binary_error: 0.183556\n",
      "[200]\ttraining's binary_error: 0.148494\tvalid_1's binary_error: 0.186815\n",
      "Early stopping, best iteration is:\n",
      "[32]\ttraining's binary_error: 0.16958\tvalid_1's binary_error: 0.181481\n",
      "fold n°4\n",
      "Training until validation scores don't improve for 200 rounds.\n",
      "[100]\ttraining's binary_error: 0.161728\tvalid_1's binary_error: 0.182222\n",
      "[200]\ttraining's binary_error: 0.147506\tvalid_1's binary_error: 0.182963\n",
      "Early stopping, best iteration is:\n",
      "[63]\ttraining's binary_error: 0.165975\tvalid_1's binary_error: 0.181481\n",
      "fold n°1\n",
      "Training until validation scores don't improve for 200 rounds.\n",
      "[100]\ttraining's binary_error: 0.164099\tvalid_1's binary_error: 0.173481\n",
      "[200]\ttraining's binary_error: 0.151506\tvalid_1's binary_error: 0.176444\n",
      "[300]\ttraining's binary_error: 0.137877\tvalid_1's binary_error: 0.175704\n",
      "Early stopping, best iteration is:\n",
      "[119]\ttraining's binary_error: 0.161086\tvalid_1's binary_error: 0.172\n",
      "fold n°2\n",
      "Training until validation scores don't improve for 200 rounds.\n",
      "[100]\ttraining's binary_error: 0.16242\tvalid_1's binary_error: 0.181481\n",
      "[200]\ttraining's binary_error: 0.150272\tvalid_1's binary_error: 0.183704\n",
      "Early stopping, best iteration is:\n",
      "[46]\ttraining's binary_error: 0.168938\tvalid_1's binary_error: 0.178963\n",
      "fold n°3\n",
      "Training until validation scores don't improve for 200 rounds.\n",
      "[100]\ttraining's binary_error: 0.160593\tvalid_1's binary_error: 0.183556\n",
      "[200]\ttraining's binary_error: 0.148494\tvalid_1's binary_error: 0.186815\n",
      "Early stopping, best iteration is:\n",
      "[32]\ttraining's binary_error: 0.16958\tvalid_1's binary_error: 0.181481\n",
      "fold n°4\n",
      "Training until validation scores don't improve for 200 rounds.\n",
      "[100]\ttraining's binary_error: 0.161728\tvalid_1's binary_error: 0.182222\n",
      "[200]\ttraining's binary_error: 0.147506\tvalid_1's binary_error: 0.182963\n",
      "Early stopping, best iteration is:\n",
      "[63]\ttraining's binary_error: 0.165975\tvalid_1's binary_error: 0.181481\n",
      "fold n°1\n",
      "fold n°2\n",
      "fold n°3\n",
      "fold n°4\n",
      "fold n°1\n",
      "fold n°2\n",
      "fold n°3\n",
      "fold n°4\n"
     ]
    }
   ],
   "source": [
    "# parameters\n",
    "tree_param = Process.open_parameter(file_name = 'Tree_classifer_param')\n",
    "lgb_param = Process.open_parameter(file_name = 'lgb_classifer_param')\n",
    "# model\n",
    "lgb_base, importances = LightGBM.validation(train_base,features_base,lgb_param,name=\"Lightgbm base model\")\n",
    "# lgb_new, importances = LightGBM.validation(train_base,features_base,param,name=\"Lightgbm new model\")\n",
    "lgb_new, importances = LightGBM.validation(train,features,lgb_param,name=\"Lightgbm new model\")\n",
    "tree_base = DecisionTree.validation(train_base,features_base,tree_param, name=\"Decision Tree base model\")\n",
    "tree_new = DecisionTree.validation(train,features,tree_param, name=\"Decision Tree new model\")\n",
    "\n",
    "# result\n",
    "performance = pd.concat([lgb_base,lgb_new,tree_base,tree_new])\n",
    "g_normal = ggplot(performance,aes(x='fold',y='score',group = 'model',color = 'model')) + geom_point() + geom_line()\n",
    "print(g_normal)"
   ]
  },
  {
   "cell_type": "code",
   "execution_count": 72,
   "metadata": {},
   "outputs": [
    {
     "name": "stdout",
     "output_type": "stream",
     "text": [
      "   fold                model     score\n",
      "0     1  Lightgbm base model  0.495437\n",
      "1     2  Lightgbm base model  0.482434\n",
      "2     3  Lightgbm base model  0.478057\n",
      "3     4  Lightgbm base model  0.469467\n",
      "   fold               model     score\n",
      "0     1  Lightgbm new model  0.495437\n",
      "1     2  Lightgbm new model  0.482434\n",
      "2     3  Lightgbm new model  0.478057\n",
      "3     4  Lightgbm new model  0.469467\n"
     ]
    }
   ],
   "source": [
    "print(lgb_base)\n",
    "print(lgb_new)"
   ]
  },
  {
   "cell_type": "code",
   "execution_count": 79,
   "metadata": {},
   "outputs": [
    {
     "data": {
      "text/html": [
       "<div>\n",
       "<style scoped>\n",
       "    .dataframe tbody tr th:only-of-type {\n",
       "        vertical-align: middle;\n",
       "    }\n",
       "\n",
       "    .dataframe tbody tr th {\n",
       "        vertical-align: top;\n",
       "    }\n",
       "\n",
       "    .dataframe thead th {\n",
       "        text-align: right;\n",
       "    }\n",
       "</style>\n",
       "<table border=\"1\" class=\"dataframe\">\n",
       "  <thead>\n",
       "    <tr style=\"text-align: right;\">\n",
       "      <th></th>\n",
       "      <th>fold</th>\n",
       "      <th>model</th>\n",
       "      <th>score</th>\n",
       "    </tr>\n",
       "  </thead>\n",
       "  <tbody>\n",
       "    <tr>\n",
       "      <th>0</th>\n",
       "      <td>1</td>\n",
       "      <td>Lightgbm base model</td>\n",
       "      <td>0.495437</td>\n",
       "    </tr>\n",
       "    <tr>\n",
       "      <th>1</th>\n",
       "      <td>2</td>\n",
       "      <td>Lightgbm base model</td>\n",
       "      <td>0.482434</td>\n",
       "    </tr>\n",
       "    <tr>\n",
       "      <th>2</th>\n",
       "      <td>3</td>\n",
       "      <td>Lightgbm base model</td>\n",
       "      <td>0.478057</td>\n",
       "    </tr>\n",
       "    <tr>\n",
       "      <th>3</th>\n",
       "      <td>4</td>\n",
       "      <td>Lightgbm base model</td>\n",
       "      <td>0.469467</td>\n",
       "    </tr>\n",
       "    <tr>\n",
       "      <th>0</th>\n",
       "      <td>1</td>\n",
       "      <td>Lightgbm new model</td>\n",
       "      <td>0.495437</td>\n",
       "    </tr>\n",
       "    <tr>\n",
       "      <th>1</th>\n",
       "      <td>2</td>\n",
       "      <td>Lightgbm new model</td>\n",
       "      <td>0.482434</td>\n",
       "    </tr>\n",
       "    <tr>\n",
       "      <th>2</th>\n",
       "      <td>3</td>\n",
       "      <td>Lightgbm new model</td>\n",
       "      <td>0.478057</td>\n",
       "    </tr>\n",
       "    <tr>\n",
       "      <th>3</th>\n",
       "      <td>4</td>\n",
       "      <td>Lightgbm new model</td>\n",
       "      <td>0.469467</td>\n",
       "    </tr>\n",
       "    <tr>\n",
       "      <th>0</th>\n",
       "      <td>1</td>\n",
       "      <td>Decision Tree base model</td>\n",
       "      <td>0.487987</td>\n",
       "    </tr>\n",
       "    <tr>\n",
       "      <th>1</th>\n",
       "      <td>2</td>\n",
       "      <td>Decision Tree base model</td>\n",
       "      <td>0.479023</td>\n",
       "    </tr>\n",
       "    <tr>\n",
       "      <th>2</th>\n",
       "      <td>3</td>\n",
       "      <td>Decision Tree base model</td>\n",
       "      <td>0.475480</td>\n",
       "    </tr>\n",
       "    <tr>\n",
       "      <th>3</th>\n",
       "      <td>4</td>\n",
       "      <td>Decision Tree base model</td>\n",
       "      <td>0.459979</td>\n",
       "    </tr>\n",
       "    <tr>\n",
       "      <th>4</th>\n",
       "      <td>5</td>\n",
       "      <td>Decision Tree base model</td>\n",
       "      <td>0.488843</td>\n",
       "    </tr>\n",
       "    <tr>\n",
       "      <th>0</th>\n",
       "      <td>1</td>\n",
       "      <td>Decision Tree new model</td>\n",
       "      <td>0.487179</td>\n",
       "    </tr>\n",
       "    <tr>\n",
       "      <th>1</th>\n",
       "      <td>2</td>\n",
       "      <td>Decision Tree new model</td>\n",
       "      <td>0.479023</td>\n",
       "    </tr>\n",
       "    <tr>\n",
       "      <th>2</th>\n",
       "      <td>3</td>\n",
       "      <td>Decision Tree new model</td>\n",
       "      <td>0.475987</td>\n",
       "    </tr>\n",
       "    <tr>\n",
       "      <th>3</th>\n",
       "      <td>4</td>\n",
       "      <td>Decision Tree new model</td>\n",
       "      <td>0.459979</td>\n",
       "    </tr>\n",
       "    <tr>\n",
       "      <th>4</th>\n",
       "      <td>5</td>\n",
       "      <td>Decision Tree new model</td>\n",
       "      <td>0.491192</td>\n",
       "    </tr>\n",
       "  </tbody>\n",
       "</table>\n",
       "</div>"
      ],
      "text/plain": [
       "   fold                     model     score\n",
       "0     1       Lightgbm base model  0.495437\n",
       "1     2       Lightgbm base model  0.482434\n",
       "2     3       Lightgbm base model  0.478057\n",
       "3     4       Lightgbm base model  0.469467\n",
       "0     1        Lightgbm new model  0.495437\n",
       "1     2        Lightgbm new model  0.482434\n",
       "2     3        Lightgbm new model  0.478057\n",
       "3     4        Lightgbm new model  0.469467\n",
       "0     1  Decision Tree base model  0.487987\n",
       "1     2  Decision Tree base model  0.479023\n",
       "2     3  Decision Tree base model  0.475480\n",
       "3     4  Decision Tree base model  0.459979\n",
       "4     5  Decision Tree base model  0.488843\n",
       "0     1   Decision Tree new model  0.487179\n",
       "1     2   Decision Tree new model  0.479023\n",
       "2     3   Decision Tree new model  0.475987\n",
       "3     4   Decision Tree new model  0.459979\n",
       "4     5   Decision Tree new model  0.491192"
      ]
     },
     "execution_count": 79,
     "metadata": {},
     "output_type": "execute_result"
    }
   ],
   "source": [
    "performance"
   ]
  },
  {
   "cell_type": "code",
   "execution_count": 23,
   "metadata": {},
   "outputs": [
    {
     "data": {
      "image/png": "[encoded data removed]",
      "text/plain": [
       "<Figure size 792x576 with 1 Axes>"
      ]
     },
     "metadata": {},
     "output_type": "display_data"
    },
    {
     "name": "stdout",
     "output_type": "stream",
     "text": [
      "<ggplot: (-9223372036548696071)>\n"
     ]
    }
   ],
   "source": [
    "g_normal = ggplot(performance,aes(x='fold',y='score',group = 'model',color = 'model')) + geom_point() + geom_line()\n",
    "print(g_normal)"
   ]
  },
  {
   "cell_type": "code",
   "execution_count": 24,
   "metadata": {},
   "outputs": [
    {
     "data": {
      "text/plain": [
       "array(['X1', 'X2', 'X3', 'X4', 'X5', 'X6', 'X7', 'X8', 'X9', 'X10', 'X11',\n",
       "       'X12', 'X13', 'X14', 'X15', 'X16', 'X17', 'X18', 'X19', 'X20',\n",
       "       'X21', 'X22', 'X23', 'Y11', 'Y12', 'Y13', 'Y5'], dtype=object)"
      ]
     },
     "execution_count": 24,
     "metadata": {},
     "output_type": "execute_result"
    }
   ],
   "source": [
    "features"
   ]
  },
  {
   "cell_type": "code",
   "execution_count": null,
   "metadata": {},
   "outputs": [],
   "source": []
  }
 ],
 "metadata": {
  "kernelspec": {
   "display_name": "Python 3",
   "language": "python",
   "name": "python3"
  },
  "language_info": {
   "codemirror_mode": {
    "name": "ipython",
    "version": 3
   },
   "file_extension": ".py",
   "mimetype": "text/x-python",
   "name": "python",
   "nbconvert_exporter": "python",
   "pygments_lexer": "ipython3",
   "version": "3.6.5"
  },
  "toc": {
   "base_numbering": 1,
   "nav_menu": {},
   "number_sections": true,
   "sideBar": true,
   "skip_h1_title": false,
   "title_cell": "Table of Contents",
   "title_sidebar": "Contents",
   "toc_cell": false,
   "toc_position": {},
   "toc_section_display": true,
   "toc_window_display": false
  }
 },
 "nbformat": 4,
 "nbformat_minor": 2
}
