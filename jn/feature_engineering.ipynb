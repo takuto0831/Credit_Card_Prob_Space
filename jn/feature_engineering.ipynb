{
 "cells": [
  {
   "cell_type": "markdown",
   "metadata": {},
   "source": [
    "# setting \n",
    "\n",
    "## path"
   ]
  },
  {
   "cell_type": "code",
   "execution_count": 1,
   "metadata": {},
   "outputs": [],
   "source": [
    "import sys, os\n",
    "home_path = os.path.expanduser(\"~\")\n",
    "sys.path.append(home_path + '/Desktop/Credit_Comp/py/models/')\n",
    "sys.path.append(home_path + '/Desktop/Credit_Comp/py/')"
   ]
  },
  {
   "cell_type": "markdown",
   "metadata": {},
   "source": [
    "## module"
   ]
  },
  {
   "cell_type": "code",
   "execution_count": 6,
   "metadata": {},
   "outputs": [],
   "source": [
    "## module\n",
    "import numpy as np # linear algebra\n",
    "import pandas as pd # data processing\n",
    "import pandas_profiling as pdp\n",
    "from collections import Counter\n",
    "import scipy\n",
    "import Base, Classifier, FeatureEngineering\n",
    "# genetic algorithm\n",
    "from deap import algorithms, base, creator, tools, gp\n",
    "import operator, math, time\n",
    "from tqdm import tqdm\n",
    "# optuna\n",
    "from functools import partial\n",
    "import optuna\n",
    "# sklearn\n",
    "from sklearn.tree import DecisionTreeClassifier, export_graphviz\n",
    "from sklearn.ensemble import RandomForestClassifier , GradientBoostingClassifier, AdaBoostClassifier\n",
    "from sklearn.metrics import f1_score\n",
    "from sklearn.model_selection import KFold, cross_val_score\n",
    "from sklearn.externals.six import StringIO\n",
    "import sklearn.preprocessing as preproc\n",
    "# Boosting\n",
    "from xgboost import XGBClassifier\n",
    "import lightgbm as lgb\n",
    "# view\n",
    "import pydotplus\n",
    "from IPython.display import Image\n",
    "import matplotlib\n",
    "import matplotlib.pyplot as plt\n",
    "import seaborn as sns\n",
    "from ggplot import *\n",
    "%matplotlib inline"
   ]
  },
  {
   "cell_type": "code",
   "execution_count": 7,
   "metadata": {},
   "outputs": [],
   "source": [
    "# moduleの再読み込み(作業中に更新した内容をここで更新できる)\n",
    "import importlib\n",
    "importlib.reload(Base)\n",
    "importlib.reload(Classifier)\n",
    "importlib.reload(FeatureEngineering)\n",
    "# for instance\n",
    "Process = Base.Process()\n",
    "Applicate = Base.Applicate()\n",
    "LightGBM = Classifier.LightGBM()\n",
    "DecisionTree = Classifier.DecisionTree()\n",
    "GeneticFeature = FeatureEngineering.GeneticFetureMake()"
   ]
  },
  {
   "cell_type": "markdown",
   "metadata": {},
   "source": [
    "## read data"
   ]
  },
  {
   "cell_type": "code",
   "execution_count": 8,
   "metadata": {},
   "outputs": [
    {
     "name": "stdout",
     "output_type": "stream",
     "text": [
      "27000 observations and 24 features in train set.\n",
      "3000 observations and 23 features in test set.\n"
     ]
    }
   ],
   "source": [
    "# base data\n",
    "train_base, test_base, target = Process.read_data1()\n",
    "\n",
    "# select features\n",
    "features_base = test_base.columns.values # 暫定的"
   ]
  },
  {
   "cell_type": "markdown",
   "metadata": {},
   "source": [
    "# Feature engineering\n",
    "\n",
    "- 「機械学習のための特徴量エンジニアリング」を参考に\n",
    "\n",
    "## Hand Craft Features"
   ]
  },
  {
   "cell_type": "code",
   "execution_count": 24,
   "metadata": {},
   "outputs": [],
   "source": [
    "# お試し\n",
    "# tmp = train_base[['X6','X7','X8','X9','X10','X11']]\n",
    "# tmp = preproc.PolynomialFeatures(include_bias=False).fit_transform(train_base[['X2','X3','X4']])\n",
    "# pd.DataFrame(tmp).astype(int)\n",
    "# np.sign(-5) * 5"
   ]
  },
  {
   "cell_type": "code",
   "execution_count": 9,
   "metadata": {},
   "outputs": [],
   "source": [
    "def interaction_features(data,feats):\n",
    "    # make features name\n",
    "    feats_ = [feats[i] + '_' +  feats[j] for i in range(len(feats)) for j in range(len(feats)) if i <= j ]\n",
    "    # execute \n",
    "    tmp1 = preproc.PolynomialFeatures(include_bias=False).fit_transform(data[feats])\n",
    "    tmp2 = pd.DataFrame(tmp1,columns=feats + feats_).astype(int)\n",
    "    return pd.concat([data,tmp2.drop(feats,axis=1)],axis=1)\n",
    "def feature_engineering(data):\n",
    "    ## credit value\n",
    "    data['log_credit'] = np.log10(data['X1'] + 1) # 対数変換\n",
    "    tmp1, tmp2 = scipy.stats.boxcox(data['X1']) # Box-Cox変換 (分散安定化)\n",
    "    data['boxcox_credit'] = tmp1\n",
    "    data['scaler_credit'] = preproc.StandardScaler().fit_transform(data[['X1']])\n",
    "    # data['X1'] = np.floor(np.log10(data['X1'] + 1)) # 対数変換 + 離散化 (指数幅の階級割り当て)\n",
    "    ## user age\n",
    "    data['bins_ages'] = np.floor_divide(data['X5'], 10) # 離散化 (固定幅)\n",
    "    ## pay history \n",
    "    pay_history = data[['X6','X7','X8','X9','X10','X11']] \n",
    "    data['nopay_count'] = (pay_history == -2).sum(axis=1)\n",
    "    data['pay_count'] = (pay_history == -1).sum(axis=1)\n",
    "    data['revo_count'] = (pay_history == 0).sum(axis=1)\n",
    "    data['late_count'] = pay_history.where(pay_history >= 0, 0).sum(axis=1)\n",
    "    # pay account ( include minus value)\n",
    "    data['log_pay_9'] = np.sign(data['X12']) * np.log10(np.abs(data['X12']) + 1) # 対数変換\n",
    "    data['log_pay_8'] = np.sign(data['X13']) * np.log10(np.abs(data['X13']) + 1) # 対数変換\n",
    "    data['log_pay_7'] = np.sign(data['X14']) * np.log10(np.abs(data['X14']) + 1) # 対数変換\n",
    "    data['log_pay_6'] = np.sign(data['X15']) * np.log10(np.abs(data['X15']) + 1) # 対数変換\n",
    "    data['log_pay_5'] = np.sign(data['X16']) * np.log10(np.abs(data['X16']) + 1) # 対数変換\n",
    "    data['log_pay_4'] = np.sign(data['X17']) * np.log10(np.abs(data['X17']) + 1) # 対数変換\n",
    "    # pre-pay account\n",
    "    data['log_prepay_9'] = np.log10(data['X18'] + 1) # 対数変換\n",
    "    data['log_prepay_8'] = np.log10(data['X19'] + 1) # 対数変換\n",
    "    data['log_prepay_7'] = np.log10(data['X20'] + 1) # 対数変換\n",
    "    data['log_prepay_6'] = np.log10(data['X21'] + 1) # 対数変換\n",
    "    data['log_prepay_5'] = np.log10(data['X22'] + 1) # 対数変換\n",
    "    data['log_prepay_4'] = np.log10(data['X23'] + 1) # 対数変換\n",
    "    # interaction feature\n",
    "    data = interaction_features(data.copy(),feats=['X2','X3','X4'])\n",
    "    # remove column\n",
    "    rm_column = ['X1','X5','X12','X13','X14','X15','X16','X17','X18','X19','X20','X21','X22','X23'] \n",
    "    return data.drop(rm_column,axis=1)"
   ]
  },
  {
   "cell_type": "code",
   "execution_count": 10,
   "metadata": {},
   "outputs": [],
   "source": [
    "# execute\n",
    "train = feature_engineering(train_base.copy())\n",
    "test = feature_engineering(test_base.copy())\n",
    "features = test.columns.values"
   ]
  },
  {
   "cell_type": "code",
   "execution_count": 11,
   "metadata": {
    "scrolled": true
   },
   "outputs": [
    {
     "name": "stdout",
     "output_type": "stream",
     "text": [
      "   X2  X3  X4  X6  X7  X8  X9  X10  X11  y  ...  log_prepay_7  log_prepay_6  \\\n",
      "0   2   2   1   2   2  -1  -1   -2   -2  1  ...      0.000000      0.000000   \n",
      "1   2   2   2  -1   2   0   0    0    2  1  ...      3.000434      3.000434   \n",
      "2   2   2   2   0   0   0   0    0    0  0  ...      3.000434      3.000434   \n",
      "3   1   2   1  -1   0  -1   0    0    0  0  ...      4.000043      3.954291   \n",
      "4   1   1   2   0   0   0   0    0    0  0  ...      2.818226      3.000434   \n",
      "\n",
      "   log_prepay_5  log_prepay_4  X2_X2  X2_X3  X2_X4  X3_X3  X3_X4  X4_X4  \n",
      "0      0.000000      0.000000      4      4      2      4      2      1  \n",
      "1      0.000000      3.301247      4      4      4      4      4      4  \n",
      "2      3.000434      3.699057      4      4      4      4      4      4  \n",
      "3      2.838849      2.832509      1      2      1      4      2      1  \n",
      "4      3.000434      2.903633      1      1      2      1      2      4  \n",
      "\n",
      "[5 rows x 36 columns]\n",
      "       X1  X2  X3  X4  X5  X6  X7  X8  X9  X10  ...    X15    X16    X17  \\\n",
      "0   20000   2   2   1  24   2   2  -1  -1   -2  ...      0      0      0   \n",
      "1  120000   2   2   2  26  -1   2   0   0    0  ...   3272   3455   3261   \n",
      "2   90000   2   2   2  34   0   0   0   0    0  ...  14331  14948  15549   \n",
      "3   50000   1   2   1  57  -1   0  -1   0    0  ...  20940  19146  19131   \n",
      "4   50000   1   1   2  37   0   0   0   0    0  ...  19394  19619  20024   \n",
      "\n",
      "    X18    X19    X20   X21   X22   X23  y  \n",
      "0     0    689      0     0     0     0  1  \n",
      "1     0   1000   1000  1000     0  2000  1  \n",
      "2  1518   1500   1000  1000  1000  5000  0  \n",
      "3  2000  36681  10000  9000   689   679  0  \n",
      "4  2500   1815    657  1000  1000   800  0  \n",
      "\n",
      "[5 rows x 24 columns]\n",
      "['X2' 'X3' 'X4' 'X6' 'X7' 'X8' 'X9' 'X10' 'X11' 'log_credit'\n",
      " 'boxcox_credit' 'scaler_credit' 'bins_ages' 'nopay_count' 'pay_count'\n",
      " 'revo_count' 'late_count' 'log_pay_9' 'log_pay_8' 'log_pay_7' 'log_pay_6'\n",
      " 'log_pay_5' 'log_pay_4' 'log_prepay_9' 'log_prepay_8' 'log_prepay_7'\n",
      " 'log_prepay_6' 'log_prepay_5' 'log_prepay_4' 'X2_X2' 'X2_X3' 'X2_X4'\n",
      " 'X3_X3' 'X3_X4' 'X4_X4']\n",
      "['X1' 'X2' 'X3' 'X4' 'X5' 'X6' 'X7' 'X8' 'X9' 'X10' 'X11' 'X12' 'X13'\n",
      " 'X14' 'X15' 'X16' 'X17' 'X18' 'X19' 'X20' 'X21' 'X22' 'X23']\n"
     ]
    }
   ],
   "source": [
    "# check\n",
    "print(train.head())\n",
    "print(train_base.head())\n",
    "print(features)\n",
    "print(features_base)"
   ]
  },
  {
   "cell_type": "markdown",
   "metadata": {},
   "source": [
    "## Genetic Feature engineering"
   ]
  },
  {
   "cell_type": "code",
   "execution_count": 12,
   "metadata": {},
   "outputs": [],
   "source": [
    "# decision tree parameters\n",
    "params = {'random_state': 831,\n",
    "          'max_depth': 7, \n",
    "          'criterion': \n",
    "          'entropy', \n",
    "          'min_samples_leaf': 9}"
   ]
  },
  {
   "cell_type": "code",
   "execution_count": 9,
   "metadata": {},
   "outputs": [
    {
     "name": "stdout",
     "output_type": "stream",
     "text": [
      "validation mean score: 0.4753020038924003\n"
     ]
    },
    {
     "name": "stderr",
     "output_type": "stream",
     "text": [
      "\r",
      "  0%|          | 0/100 [00:00<?, ?it/s]"
     ]
    },
    {
     "name": "stdout",
     "output_type": "stream",
     "text": [
      "   \t      \t                         fitness                         \t              size             \n",
      "   \t      \t---------------------------------------------------------\t-------------------------------\n",
      "gen\tnevals\tavg     \tmax     \tmin     \tstd      \tavg    \tmax\tmin\tstd    \n",
      "0  \t300   \t0.473982\t0.480796\t0.460554\t0.0028764\t3.84333\t13 \t2  \t2.25657\n",
      "1  \t158   \t0.475668\t0.483216\t0.46177 \t0.0031262\t4.04667\t14 \t1  \t2.07312\n",
      "2  \t175   \t0.476492\t0.484463\t0.464055\t0.00395085\t3.96333\t12 \t1  \t1.93442\n",
      "3  \t157   \t0.478327\t0.484463\t0.461092\t0.00426792\t4.25333\t11 \t1  \t1.83553\n",
      "4  \t179   \t0.479109\t0.485891\t0.462749\t0.00501775\t4.38   \t11 \t1  \t1.66601\n",
      "5  \t162   \t0.480942\t0.485891\t0.463692\t0.00484632\t3.44333\t8  \t1  \t1.10157\n",
      "6  \t181   \t0.479993\t0.485891\t0.467714\t0.00529953\t3.86667\t11 \t1  \t1.54128\n",
      "7  \t173   \t0.479645\t0.485891\t0.458748\t0.00618033\t5.15667\t12 \t1  \t1.88471\n",
      "8  \t160   \t0.481039\t0.485891\t0.464819\t0.0061876 \t5.93667\t12 \t1  \t1.21078\n",
      "9  \t147   \t0.481563\t0.485891\t0.467233\t0.00606802\t6.03667\t11 \t3  \t1.27095\n",
      "10 \t159   \t0.480478\t0.485891\t0.464212\t0.00653043\t6.02667\t11 \t1  \t1.4942 \n",
      "n_features: 36, best_score: 0.485891, time: 1754.987805 second\n"
     ]
    },
    {
     "name": "stderr",
     "output_type": "stream",
     "text": [
      "\r",
      "  1%|          | 1/100 [29:15<48:17:15, 1755.91s/it]"
     ]
    },
    {
     "name": "stdout",
     "output_type": "stream",
     "text": [
      "   \t      \t                         fitness                          \t             size             \n",
      "   \t      \t----------------------------------------------------------\t------------------------------\n",
      "gen\tnevals\tavg     \tmax     \tmin     \tstd       \tavg    \tmax\tmin\tstd   \n",
      "0  \t300   \t0.483937\t0.491813\t0.466345\t0.00349455\t4.05667\t15 \t2  \t2.6382\n",
      "1  \t165   \t0.485935\t0.491813\t0.465948\t0.0026262 \t3.52333\t12 \t1  \t2.33869\n",
      "2  \t159   \t0.486196\t0.491813\t0.461535\t0.00374798\t3.06333\t11 \t1  \t1.71445\n",
      "3  \t157   \t0.486272\t0.491813\t0.461535\t0.00634724\t2.75   \t9  \t1  \t0.864581\n",
      "4  \t151   \t0.488839\t0.491813\t0.461535\t0.00553838\t3.12667\t8  \t1  \t0.835038\n",
      "5  \t178   \t0.489169\t0.491813\t0.461535\t0.00380001\t3.17333\t9  \t1  \t0.846535\n",
      "6  \t165   \t0.489468\t0.491813\t0.461535\t0.00396654\t3.17333\t9  \t1  \t0.814425\n",
      "7  \t162   \t0.489525\t0.491813\t0.461535\t0.00407843\t3.14   \t8  \t1  \t0.725994\n",
      "8  \t152   \t0.489748\t0.491813\t0.467043\t0.00336596\t3.11667\t7  \t1  \t0.596983\n",
      "9  \t174   \t0.489732\t0.491813\t0.474118\t0.00316902\t3.09667\t9  \t1  \t0.744304\n",
      "10 \t178   \t0.489552\t0.491813\t0.461535\t0.0036107 \t3.13333\t8  \t1  \t0.74087 \n",
      "n_features: 37, best_score: 0.491813, time: 1855.100676 second\n"
     ]
    },
    {
     "name": "stderr",
     "output_type": "stream",
     "text": [
      "\r",
      "  2%|▏         | 2/100 [1:00:12<49:09:48, 1806.01s/it]"
     ]
    },
    {
     "name": "stdout",
     "output_type": "stream",
     "text": [
      "   \t      \t                         fitness                          \t              size             \n",
      "   \t      \t----------------------------------------------------------\t-------------------------------\n",
      "gen\tnevals\tavg     \tmax     \tmin     \tstd       \tavg    \tmax\tmin\tstd    \n",
      "0  \t300   \t0.488992\t0.493829\t0.467565\t0.00413718\t4.02333\t14 \t2  \t2.72448\n",
      "1  \t155   \t0.490882\t0.493941\t0.466732\t0.00316824\t3.9    \t14 \t1  \t2.53969\n",
      "2  \t184   \t0.491604\t0.494201\t0.479763\t0.00257969\t3.46   \t13 \t1  \t2.07727\n",
      "3  \t174   \t0.49244 \t0.494201\t0.472845\t0.00277344\t2.84   \t12 \t1  \t1.61278\n",
      "4  \t172   \t0.4929  \t0.494201\t0.471669\t0.00219899\t2.93   \t9  \t1  \t1.02556\n",
      "5  \t161   \t0.49298 \t0.494393\t0.485948\t0.001546  \t3.11   \t9  \t1  \t0.827385\n",
      "6  \t149   \t0.493229\t0.494393\t0.475392\t0.00238301\t3.09667\t9  \t1  \t0.663819\n",
      "7  \t146   \t0.4928  \t0.494393\t0.478142\t0.0026339 \t3.24333\t8  \t1  \t0.843083\n",
      "8  \t147   \t0.492549\t0.494393\t0.482608\t0.00266542\t3.50333\t9  \t1  \t1.01159 \n",
      "9  \t183   \t0.492506\t0.494393\t0.469285\t0.003219  \t4.01333\t9  \t1  \t1.20547 \n",
      "10 \t162   \t0.492684\t0.494393\t0.479487\t0.00303763\t4.05667\t9  \t1  \t1.15764 \n",
      "n_features: 38, best_score: 0.494393, time: 1921.369293 second\n"
     ]
    },
    {
     "name": "stderr",
     "output_type": "stream",
     "text": [
      "\r",
      "  3%|▎         | 3/100 [1:32:14<49:42:26, 1844.81s/it]"
     ]
    },
    {
     "name": "stdout",
     "output_type": "stream",
     "text": [
      "   \t      \t                         fitness                          \t             size             \n",
      "   \t      \t----------------------------------------------------------\t------------------------------\n",
      "gen\tnevals\tavg     \tmax     \tmin     \tstd       \tavg \tmax\tmin\tstd   \n",
      "0  \t300   \t0.490738\t0.495485\t0.467595\t0.00419192\t3.75\t14 \t2  \t2.4995\n",
      "1  \t153   \t0.492711\t0.495485\t0.456685\t0.00364241\t3.30667\t12 \t2  \t1.98476\n",
      "2  \t177   \t0.492952\t0.495868\t0.465823\t0.0035622 \t3.29667\t12 \t1  \t1.79127\n",
      "3  \t171   \t0.493288\t0.495868\t0.460798\t0.00456101\t2.95333\t8  \t1  \t1.25876\n",
      "4  \t170   \t0.492889\t0.495868\t0.460798\t0.0055341 \t3.94   \t11 \t1  \t1.63189\n",
      "5  \t180   \t0.492646\t0.495868\t0.460798\t0.00533112\t4.87667\t12 \t1  \t1.81516\n",
      "6  \t167   \t0.493979\t0.495868\t0.460798\t0.00376615\t4.46667\t9  \t1  \t1.23378\n",
      "7  \t158   \t0.494829\t0.495868\t0.479841\t0.00185762\t4.09333\t10 \t1  \t0.965033\n",
      "8  \t152   \t0.495023\t0.495868\t0.48365 \t0.00171287\t4.03333\t7  \t1  \t0.636832\n",
      "9  \t166   \t0.494798\t0.495868\t0.469025\t0.00244545\t4.08333\t9  \t1  \t0.776567\n",
      "10 \t152   \t0.495073\t0.495868\t0.478781\t0.00161364\t4.05   \t9  \t1  \t0.762124\n",
      "n_features: 39, best_score: 0.495868, time: 2009.098719 second\n"
     ]
    },
    {
     "name": "stderr",
     "output_type": "stream",
     "text": [
      "\r",
      "  4%|▍         | 4/100 [2:05:44<50:17:50, 1886.15s/it]"
     ]
    },
    {
     "name": "stdout",
     "output_type": "stream",
     "text": [
      "   \t      \t                         fitness                          \t              size             \n",
      "   \t      \t----------------------------------------------------------\t-------------------------------\n",
      "gen\tnevals\tavg     \tmax     \tmin     \tstd       \tavg \tmax\tmin\tstd    \n",
      "0  \t300   \t0.492917\t0.497864\t0.474195\t0.00383413\t4.14\t14 \t2  \t2.72649\n",
      "1  \t184   \t0.495145\t0.497864\t0.475481\t0.00244796\t3.05667\t14 \t1  \t1.92703\n",
      "2  \t166   \t0.495519\t0.498021\t0.476312\t0.00279435\t3.69   \t13 \t1  \t2.40982\n",
      "3  \t166   \t0.496367\t0.498021\t0.481875\t0.0022866 \t4.04   \t9  \t2  \t1.72194\n",
      "4  \t168   \t0.497105\t0.498021\t0.482096\t0.00214051\t3.57   \t9  \t1  \t1.1769 \n",
      "5  \t164   \t0.497504\t0.498021\t0.474331\t0.00178019\t3.87   \t8  \t1  \t1.1546 \n",
      "6  \t165   \t0.49732 \t0.498021\t0.482437\t0.00188868\t3.83667\t9  \t1  \t1.17898\n",
      "7  \t176   \t0.49744 \t0.498021\t0.485998\t0.00169965\t3.98   \t10 \t1  \t1.26739\n",
      "8  \t170   \t0.497459\t0.498021\t0.486043\t0.00166473\t4.08333\t8  \t1  \t1.21781\n",
      "9  \t164   \t0.497386\t0.498021\t0.481075\t0.00194036\t4.10333\t8  \t1  \t1.27775\n",
      "10 \t170   \t0.497454\t0.498021\t0.483144\t0.00188008\t4.20667\t10 \t1  \t1.22364\n",
      "n_features: 40, best_score: 0.498021, time: 2095.782563 second\n"
     ]
    },
    {
     "name": "stderr",
     "output_type": "stream",
     "text": [
      "\r",
      "  5%|▌         | 5/100 [2:40:41<50:53:08, 1928.30s/it]"
     ]
    },
    {
     "name": "stdout",
     "output_type": "stream",
     "text": [
      "   \t      \t                         fitness                         \t              size             \n",
      "   \t      \t---------------------------------------------------------\t-------------------------------\n",
      "gen\tnevals\tavg     \tmax     \tmin     \tstd      \tavg    \tmax\tmin\tstd    \n",
      "0  \t300   \t0.494438\t0.498916\t0.459431\t0.0044673\t4.01667\t15 \t2  \t2.81124\n",
      "1  \t158   \t0.496512\t0.498916\t0.476771\t0.00325381\t3.35667\t13 \t1  \t2.30423\n",
      "2  \t178   \t0.49652 \t0.499157\t0.471732\t0.00327079\t3.86   \t13 \t1  \t1.93573\n",
      "3  \t161   \t0.497195\t0.499157\t0.480167\t0.00295721\t3.53   \t11 \t1  \t1.19823\n",
      "4  \t158   \t0.498233\t0.499157\t0.486935\t0.00163554\t3.71   \t8  \t1  \t1.14276\n",
      "5  \t171   \t0.498072\t0.499157\t0.485716\t0.00227239\t4.82333\t12 \t1  \t1.20504\n",
      "6  \t143   \t0.49819 \t0.499157\t0.484959\t0.00208506\t4.97667\t9  \t1  \t1.02117\n",
      "7  \t174   \t0.497923\t0.499157\t0.483975\t0.00236994\t5.06667\t11 \t1  \t1.26579\n",
      "8  \t172   \t0.497951\t0.499157\t0.487552\t0.0020809 \t5.18   \t11 \t1  \t1.45176\n",
      "9  \t159   \t0.497816\t0.499953\t0.470619\t0.00321735\t5.12333\t11 \t1  \t1.25756\n",
      "10 \t182   \t0.497934\t0.500112\t0.486076\t0.00232917\t4.95667\t11 \t1  \t1.17251\n",
      "n_features: 41, best_score: 0.500112, time: 2145.790268 second\n"
     ]
    },
    {
     "name": "stderr",
     "output_type": "stream",
     "text": [
      "\r",
      "  6%|▌         | 6/100 [3:16:28<51:18:05, 1964.74s/it]"
     ]
    },
    {
     "name": "stdout",
     "output_type": "stream",
     "text": [
      "   \t      \t                     fitness                      \t              size             \n",
      "   \t      \t--------------------------------------------------\t-------------------------------\n",
      "gen\tnevals\tavg     \tmax     \tmin    \tstd       \tavg \tmax\tmin\tstd    \n",
      "0  \t300   \t0.496708\t0.501044\t0.46411\t0.00440664\t4.18\t14 \t2  \t2.80017\n",
      "1  \t140   \t0.499022\t0.501044\t0.48347\t0.00262391\t3.26667\t12 \t1  \t1.85532\n",
      "2  \t147   \t0.499088\t0.501044\t0.481454\t0.00327209\t3.07333\t10 \t1  \t1.3933 \n",
      "3  \t166   \t0.499213\t0.501044\t0.484763\t0.00296347\t2.77   \t9  \t1  \t0.995205\n",
      "4  \t169   \t0.499868\t0.501044\t0.478259\t0.00295555\t3.08   \t9  \t1  \t0.864253\n",
      "5  \t186   \t0.499961\t0.501044\t0.478209\t0.00247096\t3.1    \t8  \t1  \t0.655744\n",
      "6  \t176   \t0.500055\t0.501044\t0.477232\t0.00266922\t3.14667\t9  \t1  \t0.751768\n",
      "7  \t160   \t0.50023 \t0.501044\t0.480724\t0.0020504 \t3.11667\t8  \t1  \t0.670613\n",
      "8  \t164   \t0.500152\t0.501044\t0.475829\t0.00254891\t3.09   \t9  \t1  \t0.644386\n",
      "9  \t175   \t0.500059\t0.501044\t0.487744\t0.0018912 \t3.12667\t9  \t2  \t0.686019\n",
      "10 \t166   \t0.500137\t0.501044\t0.471477\t0.00254931\t3.12   \t9  \t1  \t0.773908\n",
      "n_features: 42, best_score: 0.501044, time: 2227.021994 second\n"
     ]
    },
    {
     "name": "stderr",
     "output_type": "stream",
     "text": [
      "\r",
      "  7%|▋         | 7/100 [3:53:36<51:43:41, 2002.38s/it]"
     ]
    },
    {
     "name": "stdout",
     "output_type": "stream",
     "text": [
      "   \t      \t                         fitness                          \t              size             \n",
      "   \t      \t----------------------------------------------------------\t-------------------------------\n",
      "gen\tnevals\tavg     \tmax     \tmin     \tstd       \tavg    \tmax\tmin\tstd    \n",
      "0  \t300   \t0.496738\t0.501837\t0.469749\t0.00492028\t4.02333\t14 \t2  \t2.49188\n",
      "1  \t155   \t0.499538\t0.501837\t0.474478\t0.00283407\t3.15667\t16 \t1  \t2.01795\n",
      "2  \t164   \t0.499548\t0.501837\t0.464654\t0.00399764\t3.12   \t10 \t1  \t1.62858\n",
      "3  \t159   \t0.499816\t0.501837\t0.464654\t0.00429372\t3.69   \t11 \t1  \t1.55367\n",
      "4  \t175   \t0.500932\t0.501837\t0.48124 \t0.002022  \t3.11   \t9  \t1  \t0.70088\n",
      "5  \t170   \t0.501015\t0.501986\t0.484319\t0.00226841\t3.20333\t9  \t1  \t0.935587\n",
      "6  \t141   \t0.501153\t0.501992\t0.488507\t0.00154397\t3.22   \t9  \t1  \t0.855336\n",
      "7  \t170   \t0.500657\t0.501992\t0.486857\t0.00228538\t3.48667\t8  \t1  \t1.0049  \n",
      "8  \t149   \t0.500544\t0.502562\t0.467321\t0.00285307\t4.36   \t10 \t1  \t1.23978 \n",
      "9  \t178   \t0.500735\t0.502562\t0.490859\t0.00193603\t4.42   \t9  \t1  \t1.09099 \n",
      "10 \t182   \t0.500765\t0.502562\t0.490268\t0.0021151 \t4.76667\t12 \t1  \t1.39244 \n",
      "n_features: 43, best_score: 0.502562, time: 2282.987617 second\n"
     ]
    },
    {
     "name": "stderr",
     "output_type": "stream",
     "text": [
      "\r",
      "  8%|▊         | 8/100 [4:31:40<52:04:20, 2037.61s/it]"
     ]
    },
    {
     "name": "stdout",
     "output_type": "stream",
     "text": [
      "   \t      \t                         fitness                          \t              size             \n",
      "   \t      \t----------------------------------------------------------\t-------------------------------\n",
      "gen\tnevals\tavg     \tmax     \tmin     \tstd       \tavg    \tmax\tmin\tstd    \n",
      "0  \t300   \t0.498335\t0.503307\t0.468655\t0.00472237\t3.98667\t14 \t2  \t2.62802\n",
      "1  \t167   \t0.500748\t0.503307\t0.476289\t0.00283182\t3.74333\t14 \t1  \t2.73327\n",
      "2  \t186   \t0.501015\t0.503307\t0.484141\t0.00304397\t5.50333\t19 \t1  \t3.95853\n",
      "3  \t171   \t0.501237\t0.503307\t0.485924\t0.00306545\t4.87667\t19 \t1  \t3.20127\n",
      "4  \t178   \t0.502434\t0.503307\t0.487571\t0.00232787\t2.44667\t9  \t1  \t1.36644\n",
      "5  \t166   \t0.502969\t0.503307\t0.487381\t0.00161433\t2.09667\t7  \t1  \t0.58934\n",
      "6  \t177   \t0.502845\t0.503307\t0.483983\t0.00198116\t2.10333\t7  \t1  \t0.599435\n",
      "7  \t169   \t0.502744\t0.503473\t0.485023\t0.00212378\t2.21333\t8  \t1  \t0.796548\n",
      "8  \t164   \t0.502786\t0.503473\t0.493059\t0.00169681\t2.16333\t7  \t1  \t0.660799\n",
      "9  \t173   \t0.50224 \t0.503473\t0.4898  \t0.00249278\t2.42333\t8  \t1  \t0.97166 \n",
      "10 \t166   \t0.501593\t0.503473\t0.48932 \t0.00318876\t3.28333\t9  \t1  \t1.24488 \n",
      "n_features: 44, best_score: 0.503473, time: 2484.745293 second\n"
     ]
    },
    {
     "name": "stderr",
     "output_type": "stream",
     "text": [
      "\r",
      "  9%|▉         | 9/100 [5:13:06<52:45:56, 2087.44s/it]"
     ]
    },
    {
     "name": "stdout",
     "output_type": "stream",
     "text": [
      "   \t      \t                         fitness                          \t              size             \n",
      "   \t      \t----------------------------------------------------------\t-------------------------------\n",
      "gen\tnevals\tavg     \tmax     \tmin     \tstd       \tavg    \tmax\tmin\tstd    \n",
      "0  \t300   \t0.499249\t0.504268\t0.466065\t0.00520998\t4.33333\t15 \t2  \t2.82646\n",
      "1  \t166   \t0.502263\t0.504268\t0.486342\t0.0028123 \t3.13667\t10 \t1  \t1.60145\n",
      "2  \t167   \t0.502343\t0.504268\t0.486547\t0.00283252\t3.08   \t8  \t1  \t1.18051\n",
      "3  \t156   \t0.502766\t0.504524\t0.491776\t0.002477  \t3.1    \t8  \t1  \t0.830662\n",
      "4  \t166   \t0.503297\t0.504558\t0.491401\t0.00192618\t3.1    \t8  \t1  \t0.718795\n",
      "5  \t163   \t0.503386\t0.504558\t0.490903\t0.00187591\t3.18333\t9  \t1  \t0.79774 \n",
      "6  \t178   \t0.503626\t0.504558\t0.489994\t0.00169572\t3.44   \t9  \t1  \t1.08308 \n",
      "7  \t155   \t0.50336 \t0.504669\t0.486777\t0.002659  \t4.31667\t11 \t1  \t1.32025 \n",
      "8  \t173   \t0.503577\t0.504669\t0.489746\t0.00185804\t5.09667\t10 \t3  \t1.06801 \n",
      "9  \t166   \t0.503497\t0.504669\t0.488245\t0.00216123\t5.36   \t12 \t3  \t1.4845  \n",
      "10 \t175   \t0.503665\t0.504669\t0.495603\t0.00160328\t5.69667\t11 \t1  \t1.67272 \n",
      "n_features: 45, best_score: 0.504669, time: 2537.069144 second\n"
     ]
    },
    {
     "name": "stderr",
     "output_type": "stream",
     "text": [
      "\r",
      " 10%|█         | 10/100 [5:55:25<53:18:48, 2132.54s/it]"
     ]
    },
    {
     "name": "stdout",
     "output_type": "stream",
     "text": [
      "   \t      \t                     fitness                      \t              size             \n",
      "   \t      \t--------------------------------------------------\t-------------------------------\n",
      "gen\tnevals\tavg    \tmax     \tmin     \tstd       \tavg    \tmax\tmin\tstd    \n",
      "0  \t300   \t0.50136\t0.505075\t0.480092\t0.00444741\t3.75667\t15 \t2  \t2.55424\n",
      "1  \t164   \t0.503366\t0.505075\t0.468679\t0.00376895\t3.02333\t8  \t1  \t1.43392\n",
      "2  \t164   \t0.503643\t0.505079\t0.489135\t0.00267557\t3.78333\t12 \t1  \t1.74061\n",
      "3  \t162   \t0.504039\t0.505079\t0.486914\t0.00235429\t3.92   \t9  \t1  \t1.18614\n",
      "4  \t158   \t0.504054\t0.505079\t0.490093\t0.00221251\t3.74   \t9  \t1  \t1.14269\n",
      "5  \t145   \t0.50437 \t0.505079\t0.479621\t0.00230555\t3.70333\t7  \t2  \t0.679698\n",
      "6  \t160   \t0.504423\t0.505079\t0.488828\t0.00196909\t4.00667\t9  \t1  \t0.83264 \n",
      "7  \t176   \t0.504609\t0.505079\t0.487354\t0.00137831\t4.09333\t9  \t1  \t0.908087\n",
      "8  \t141   \t0.504571\t0.505079\t0.478271\t0.00202475\t4.10333\t10 \t1  \t0.816081\n",
      "9  \t175   \t0.504627\t0.50513 \t0.493633\t0.00114449\t4.08667\t9  \t1  \t0.867461\n",
      "10 \t155   \t0.504518\t0.50513 \t0.482872\t0.00195411\t4.15   \t9  \t1  \t0.876071\n",
      "n_features: 46, best_score: 0.505130, time: 2520.493677 second\n"
     ]
    },
    {
     "name": "stderr",
     "output_type": "stream",
     "text": [
      "\r",
      " 11%|█         | 11/100 [6:37:27<53:35:45, 2167.93s/it]"
     ]
    },
    {
     "name": "stdout",
     "output_type": "stream",
     "text": [
      "   \t      \t                         fitness                          \t              size             \n",
      "   \t      \t----------------------------------------------------------\t-------------------------------\n",
      "gen\tnevals\tavg     \tmax     \tmin     \tstd       \tavg    \tmax\tmin\tstd    \n",
      "0  \t300   \t0.500716\t0.505692\t0.467101\t0.00492544\t3.98667\t14 \t2  \t2.41519\n",
      "1  \t152   \t0.503725\t0.505692\t0.486015\t0.0029811 \t2.81   \t11 \t1  \t1.30661\n",
      "2  \t165   \t0.504824\t0.505692\t0.494113\t0.00159007\t2.47   \t7  \t1  \t0.865506\n",
      "3  \t173   \t0.505292\t0.505692\t0.489387\t0.00173354\t2.22   \t7  \t1  \t0.756042\n",
      "4  \t163   \t0.505229\t0.505692\t0.491785\t0.00156787\t2.15333\t8  \t1  \t0.814344\n",
      "5  \t151   \t0.505241\t0.505692\t0.48974 \t0.00181468\t2.19333\t8  \t1  \t0.789064\n",
      "6  \t178   \t0.505147\t0.505692\t0.487644\t0.00229053\t2.13667\t7  \t1  \t0.598322\n",
      "7  \t163   \t0.505286\t0.505692\t0.489196\t0.00180499\t2.11667\t8  \t1  \t0.718602\n",
      "8  \t184   \t0.505395\t0.505692\t0.494468\t0.00119351\t2.17   \t7  \t1  \t0.766659\n",
      "9  \t168   \t0.505321\t0.505692\t0.487766\t0.00159015\t2.18333\t8  \t1  \t0.873531\n",
      "10 \t179   \t0.505256\t0.505692\t0.482655\t0.0019444 \t2.15   \t8  \t1  \t0.68374 \n",
      "n_features: 47, best_score: 0.505692, time: 2729.675610 second\n"
     ]
    },
    {
     "name": "stderr",
     "output_type": "stream",
     "text": [
      "\r",
      " 12%|█▏        | 12/100 [7:22:58<54:08:28, 2214.86s/it]"
     ]
    },
    {
     "name": "stdout",
     "output_type": "stream",
     "text": [
      "   \t      \t                         fitness                          \t              size             \n",
      "   \t      \t----------------------------------------------------------\t-------------------------------\n",
      "gen\tnevals\tavg     \tmax     \tmin     \tstd       \tavg    \tmax\tmin\tstd    \n",
      "0  \t300   \t0.502145\t0.506589\t0.482143\t0.00417999\t4.07333\t14 \t2  \t2.61304\n",
      "1  \t163   \t0.504741\t0.506589\t0.484762\t0.00238164\t3.01   \t13 \t1  \t1.51324\n",
      "2  \t158   \t0.505114\t0.506589\t0.483451\t0.00266139\t2.97333\t7  \t1  \t1.11921\n",
      "3  \t156   \t0.505372\t0.506589\t0.488671\t0.00244598\t3.11667\t9  \t1  \t1.01803\n",
      "4  \t151   \t0.505806\t0.506589\t0.493172\t0.00178571\t3.08333\t8  \t1  \t0.506349\n",
      "5  \t193   \t0.50574 \t0.506589\t0.497708\t0.00146033\t3.11   \t9  \t1  \t0.72427 \n",
      "6  \t180   \t0.505743\t0.506589\t0.485683\t0.00206689\t3.09333\t9  \t1  \t0.636099\n",
      "7  \t163   \t0.505669\t0.506589\t0.486218\t0.00229931\t3.15   \t9  \t1  \t0.783688\n",
      "8  \t170   \t0.505751\t0.506589\t0.489588\t0.00181828\t3.11667\t8  \t1  \t0.57999 \n",
      "9  \t166   \t0.505999\t0.506589\t0.494234\t0.00128323\t3.10333\t9  \t1  \t0.72064 \n",
      "10 \t186   \t0.505737\t0.506589\t0.494416\t0.00171802\t3.10667\t9  \t1  \t0.62872 \n",
      "n_features: 48, best_score: 0.506589, time: 2787.962112 second\n"
     ]
    },
    {
     "name": "stderr",
     "output_type": "stream",
     "text": [
      "\r",
      " 13%|█▎        | 13/100 [8:09:27<54:35:38, 2259.06s/it]"
     ]
    },
    {
     "name": "stdout",
     "output_type": "stream",
     "text": [
      "   \t      \t                         fitness                         \t              size             \n",
      "   \t      \t---------------------------------------------------------\t-------------------------------\n",
      "gen\tnevals\tavg     \tmax     \tmin     \tstd      \tavg    \tmax\tmin\tstd    \n",
      "0  \t300   \t0.503407\t0.508092\t0.474567\t0.0046075\t3.90333\t14 \t2  \t2.62818\n",
      "1  \t180   \t0.50548 \t0.508092\t0.469773\t0.00389758\t3.07   \t12 \t1  \t1.68872\n",
      "2  \t173   \t0.505653\t0.508092\t0.483345\t0.00384164\t2.82667\t7  \t1  \t1.14162\n",
      "3  \t146   \t0.505675\t0.508092\t0.488948\t0.00399748\t3.40333\t11 \t1  \t1.23315\n",
      "4  \t163   \t0.506627\t0.508092\t0.474056\t0.00358916\t3.33333\t8  \t1  \t1.02089\n",
      "5  \t156   \t0.507154\t0.508092\t0.491984\t0.00257914\t3.08333\t8  \t1  \t0.596983\n",
      "6  \t175   \t0.507202\t0.508092\t0.483485\t0.00229871\t3.10667\t9  \t1  \t0.801221\n",
      "7  \t147   \t0.507242\t0.508092\t0.491657\t0.00230884\t3.06   \t9  \t1  \t0.608057\n",
      "8  \t163   \t0.507139\t0.508092\t0.488565\t0.00243091\t3.10667\t8  \t1  \t0.703768\n",
      "9  \t158   \t0.507195\t0.508092\t0.484441\t0.00258472\t3.08   \t8  \t1  \t0.616658\n",
      "10 \t167   \t0.50713 \t0.508092\t0.491138\t0.00251709\t3.09333\t9  \t1  \t0.696148\n",
      "n_features: 49, best_score: 0.508092, time: 2784.713677 second\n"
     ]
    },
    {
     "name": "stderr",
     "output_type": "stream",
     "text": [
      "\r",
      " 14%|█▍        | 14/100 [8:55:54<54:51:57, 2296.72s/it]"
     ]
    },
    {
     "name": "stdout",
     "output_type": "stream",
     "text": [
      "   \t      \t                         fitness                          \t              size             \n",
      "   \t      \t----------------------------------------------------------\t-------------------------------\n",
      "gen\tnevals\tavg     \tmax     \tmin     \tstd       \tavg    \tmax\tmin\tstd    \n",
      "0  \t300   \t0.504201\t0.509181\t0.464158\t0.00551561\t3.79667\t15 \t2  \t2.29971\n",
      "1  \t171   \t0.506894\t0.509181\t0.484392\t0.0034501 \t3.13333\t12 \t1  \t1.83908\n",
      "2  \t194   \t0.506828\t0.509181\t0.47807 \t0.00417045\t3.37333\t11 \t1  \t2.04954\n",
      "3  \t164   \t0.507937\t0.509181\t0.484855\t0.00312427\t2.54667\t11 \t1  \t1.268  \n",
      "4  \t172   \t0.508406\t0.509181\t0.484855\t0.00287663\t2.15667\t6  \t1  \t0.6724 \n",
      "5  \t172   \t0.508775\t0.509181\t0.496243\t0.00154814\t2.19   \t8  \t1  \t0.916824\n",
      "6  \t161   \t0.508803\t0.509181\t0.496157\t0.00156475\t2.12667\t7  \t1  \t0.640798\n",
      "7  \t168   \t0.508932\t0.509181\t0.492443\t0.00136455\t2.06667\t8  \t1  \t0.531246\n",
      "8  \t178   \t0.508874\t0.509181\t0.495271\t0.00137449\t2.14667\t8  \t2  \t0.706037\n",
      "9  \t156   \t0.508851\t0.509181\t0.492979\t0.00150189\t2.11   \t7  \t1  \t0.646452\n",
      "10 \t173   \t0.508613\t0.509181\t0.491375\t0.00208655\t2.24333\t8  \t1  \t0.936726\n",
      "n_features: 50, best_score: 0.509181, time: 3047.243293 second\n"
     ]
    },
    {
     "name": "stderr",
     "output_type": "stream",
     "text": [
      "\r",
      " 15%|█▌        | 15/100 [9:46:42<55:24:42, 2346.86s/it]"
     ]
    },
    {
     "name": "stdout",
     "output_type": "stream",
     "text": [
      "   \t      \t                     fitness                      \t              size             \n",
      "   \t      \t--------------------------------------------------\t-------------------------------\n",
      "gen\tnevals\tavg    \tmax     \tmin     \tstd       \tavg    \tmax\tmin\tstd    \n",
      "0  \t300   \t0.50447\t0.510105\t0.467938\t0.00538357\t3.85667\t14 \t2  \t2.37966\n",
      "1  \t163   \t0.507493\t0.510105\t0.480459\t0.00323687\t3.49667\t16 \t1  \t2.79225\n",
      "2  \t172   \t0.506999\t0.510105\t0.464457\t0.00535669\t5.01   \t19 \t1  \t4.19165\n",
      "3  \t145   \t0.507969\t0.510105\t0.488072\t0.00326177\t8.40333\t19 \t1  \t5.42592\n",
      "4  \t169   \t0.506183\t0.510105\t0.481391\t0.00552221\t13.2767\t20 \t1  \t3.14221\n",
      "5  \t167   \t0.506198\t0.510105\t0.481391\t0.00550149\t13.9167\t20 \t1  \t2.60827\n",
      "6  \t182   \t0.50523 \t0.510105\t0.480328\t0.00617291\t13.98  \t20 \t3  \t2.62544\n",
      "7  \t158   \t0.506423\t0.510105\t0.481391\t0.00526977\t13.9333\t20 \t2  \t2.24252\n",
      "8  \t166   \t0.505762\t0.510105\t0.480328\t0.00616085\t13.9533\t20 \t3  \t2.26079\n",
      "9  \t167   \t0.505978\t0.510105\t0.480328\t0.00584443\t13.8033\t20 \t1  \t2.66421\n",
      "10 \t179   \t0.505176\t0.510105\t0.480328\t0.00641909\t13.97  \t23 \t1  \t2.51179\n",
      "n_features: 51, best_score: 0.510105, time: 3123.666707 second\n"
     ]
    },
    {
     "name": "stderr",
     "output_type": "stream",
     "text": [
      "\r",
      " 16%|█▌        | 16/100 [10:38:48<55:53:42, 2395.51s/it]"
     ]
    },
    {
     "name": "stdout",
     "output_type": "stream",
     "text": [
      "   \t      \t                         fitness                          \t              size             \n",
      "   \t      \t----------------------------------------------------------\t-------------------------------\n",
      "gen\tnevals\tavg     \tmax     \tmin     \tstd       \tavg    \tmax\tmin\tstd    \n",
      "0  \t300   \t0.507088\t0.511521\t0.471887\t0.00465458\t4.11333\t15 \t2  \t2.76052\n",
      "1  \t166   \t0.509326\t0.511521\t0.481903\t0.00314353\t3.38667\t14 \t1  \t2.35878\n",
      "2  \t155   \t0.509324\t0.511521\t0.485492\t0.00326103\t3.71333\t14 \t1  \t1.77139\n",
      "3  \t152   \t0.510101\t0.511521\t0.484872\t0.0029849 \t4.32   \t11 \t1  \t1.37995\n",
      "4  \t163   \t0.510625\t0.511521\t0.493295\t0.00196394\t4.04667\t8  \t2  \t1.06981\n",
      "5  \t150   \t0.510678\t0.511521\t0.495646\t0.0016515 \t4.03333\t10 \t1  \t1.05145\n",
      "6  \t159   \t0.510696\t0.511521\t0.485863\t0.00198011\t4.04   \t10 \t1  \t1.06383\n",
      "7  \t165   \t0.510547\t0.511521\t0.491309\t0.00213349\t3.98667\t9  \t1  \t1.0984 \n",
      "8  \t162   \t0.510397\t0.511521\t0.478658\t0.00317404\t4.14333\t10 \t1  \t1.30235\n",
      "9  \t164   \t0.510692\t0.511521\t0.493051\t0.00177227\t4.01667\t9  \t1  \t1.03749\n",
      "10 \t179   \t0.510524\t0.511521\t0.486629\t0.00229956\t4.01333\t9  \t1  \t1.2301 \n",
      "n_features: 52, best_score: 0.511521, time: 3151.604657 second\n"
     ]
    },
    {
     "name": "stderr",
     "output_type": "stream",
     "text": [
      "\r",
      " 17%|█▋        | 17/100 [11:31:21<56:15:27, 2440.09s/it]"
     ]
    },
    {
     "name": "stdout",
     "output_type": "stream",
     "text": [
      "   \t      \t                     fitness                      \t              size             \n",
      "   \t      \t--------------------------------------------------\t-------------------------------\n",
      "gen\tnevals\tavg    \tmax     \tmin     \tstd       \tavg    \tmax\tmin\tstd    \n",
      "0  \t300   \t0.50775\t0.511548\t0.484788\t0.00401944\t3.91667\t14 \t2  \t2.65136\n",
      "1  \t164   \t0.509492\t0.511812\t0.487623\t0.00296335\t3.78   \t14 \t1  \t2.41487\n",
      "2  \t142   \t0.510191\t0.512069\t0.490233\t0.00322467\t3.59333\t13 \t1  \t1.68759\n",
      "3  \t154   \t0.50996 \t0.512069\t0.47146 \t0.00442039\t3.60333\t10 \t1  \t1.30358\n",
      "4  \t172   \t0.510832\t0.512069\t0.495365\t0.00287658\t3.24333\t8  \t1  \t0.827117\n",
      "5  \t174   \t0.511209\t0.512069\t0.501732\t0.00187358\t3.29   \t9  \t1  \t0.926948\n",
      "6  \t152   \t0.51156 \t0.512069\t0.496879\t0.00161546\t3.31667\t9  \t1  \t0.822429\n",
      "7  \t183   \t0.511469\t0.512069\t0.496209\t0.00162205\t3.39333\t9  \t1  \t0.944434\n",
      "8  \t191   \t0.511425\t0.512069\t0.49037 \t0.0018815 \t3.32   \t9  \t1  \t0.858836\n",
      "9  \t181   \t0.511451\t0.512523\t0.491724\t0.00212847\t3.37   \t9  \t3  \t0.983073\n",
      "10 \t176   \t0.511628\t0.512523\t0.497204\t0.00130993\t3.28667\t10 \t1  \t0.978684\n",
      "n_features: 53, best_score: 0.512523, time: 3414.301973 second\n"
     ]
    },
    {
     "name": "stderr",
     "output_type": "stream",
     "text": [
      "\r",
      " 18%|█▊        | 18/100 [12:28:17<56:48:53, 2494.31s/it]"
     ]
    },
    {
     "name": "stdout",
     "output_type": "stream",
     "text": [
      "   \t      \t                         fitness                          \t             size             \n",
      "   \t      \t----------------------------------------------------------\t------------------------------\n",
      "gen\tnevals\tavg     \tmax     \tmin     \tstd       \tavg\tmax\tmin\tstd   \n",
      "0  \t300   \t0.508084\t0.513178\t0.460304\t0.00426156\t4  \t14 \t2  \t2.5807\n",
      "1  \t125   \t0.510268\t0.513178\t0.493696\t0.00280457\t3.05\t10 \t1  \t1.60857\n",
      "2  \t165   \t0.510644\t0.513178\t0.48582 \t0.00321994\t2.94\t9  \t1  \t1.64613\n",
      "3  \t135   \t0.510915\t0.513178\t0.48582 \t0.0044568 \t3.86667\t9  \t1  \t2.087  \n",
      "4  \t181   \t0.512172\t0.513178\t0.476959\t0.00292186\t3.23   \t9  \t1  \t1.01181\n",
      "5  \t165   \t0.512427\t0.513178\t0.490655\t0.00220221\t3.11   \t9  \t1  \t0.681591\n",
      "6  \t152   \t0.512544\t0.513178\t0.49318 \t0.00161612\t3.18   \t9  \t1  \t0.833227\n",
      "7  \t141   \t0.51255 \t0.513178\t0.501196\t0.00162452\t3.17   \t9  \t1  \t0.766659\n",
      "8  \t172   \t0.512562\t0.513178\t0.499852\t0.00150921\t3.14   \t8  \t1  \t0.673597\n",
      "9  \t183   \t0.512365\t0.513178\t0.493086\t0.0021684 \t3.05333\t7  \t1  \t0.500489\n",
      "10 \t159   \t0.512497\t0.513178\t0.499172\t0.00162334\t3.13   \t8  \t1  \t0.678061\n",
      "n_features: 54, best_score: 0.513178, time: 3313.864033 second\n"
     ]
    },
    {
     "name": "stderr",
     "output_type": "stream",
     "text": [
      "\r",
      " 19%|█▉        | 19/100 [13:23:33<57:05:40, 2537.54s/it]"
     ]
    },
    {
     "name": "stdout",
     "output_type": "stream",
     "text": [
      "   \t      \t                         fitness                          \t              size             \n",
      "   \t      \t----------------------------------------------------------\t-------------------------------\n",
      "gen\tnevals\tavg     \tmax     \tmin     \tstd       \tavg \tmax\tmin\tstd    \n",
      "0  \t300   \t0.509935\t0.513951\t0.476096\t0.00474061\t3.83\t14 \t2  \t2.41822\n",
      "1  \t168   \t0.512039\t0.513951\t0.493189\t0.00264542\t3.17667\t14 \t1  \t1.86872\n",
      "2  \t168   \t0.512327\t0.513951\t0.47022 \t0.00361313\t3.73333\t11 \t1  \t1.82817\n",
      "3  \t161   \t0.512638\t0.513951\t0.493159\t0.00365401\t5.50333\t10 \t2  \t1.7935 \n",
      "4  \t177   \t0.512444\t0.513951\t0.495298\t0.00338056\t5.69   \t12 \t1  \t1.92715\n",
      "5  \t167   \t0.512377\t0.513951\t0.483775\t0.00407017\t5.99667\t15 \t1  \t2.1221 \n",
      "6  \t156   \t0.51272 \t0.513951\t0.486119\t0.00352145\t6.15   \t12 \t1  \t2.11049\n",
      "7  \t170   \t0.512545\t0.513951\t0.489219\t0.00359151\t6.47   \t12 \t1  \t2.1391 \n",
      "8  \t159   \t0.513039\t0.513951\t0.486119\t0.00323153\t6.72667\t14 \t1  \t2.17837\n",
      "9  \t178   \t0.512602\t0.513951\t0.486597\t0.00325728\t6.86667\t14 \t1  \t2.35419\n",
      "10 \t178   \t0.51274 \t0.513951\t0.495298\t0.00309455\t7.26   \t16 \t1  \t2.54409\n",
      "n_features: 55, best_score: 0.513951, time: 3565.557331 second\n"
     ]
    },
    {
     "name": "stderr",
     "output_type": "stream",
     "text": [
      "\r",
      " 20%|██        | 20/100 [14:23:00<57:32:02, 2589.03s/it]"
     ]
    },
    {
     "name": "stdout",
     "output_type": "stream",
     "text": [
      "   \t      \t                     fitness                      \t              size             \n",
      "   \t      \t--------------------------------------------------\t-------------------------------\n",
      "gen\tnevals\tavg     \tmax    \tmin     \tstd       \tavg    \tmax\tmin\tstd    \n",
      "0  \t300   \t0.510241\t0.51365\t0.479246\t0.00442438\t4.20333\t14 \t2  \t2.75717\n",
      "1  \t170   \t0.512367\t0.51365\t0.492033\t0.00264902\t3.32333\t11 \t1  \t1.91454\n",
      "2  \t160   \t0.512493\t0.51365\t0.495713\t0.00261124\t3.7    \t11 \t1  \t2.01577\n",
      "3  \t150   \t0.512789\t0.51374\t0.49685 \t0.00223564\t4.84333\t11 \t2  \t1.91975\n",
      "4  \t159   \t0.512754\t0.51374\t0.500512\t0.0020885 \t5.91   \t12 \t1  \t1.65184\n",
      "5  \t168   \t0.51268 \t0.51374\t0.500512\t0.00210542\t5.86333\t11 \t1  \t1.59311\n",
      "6  \t163   \t0.512729\t0.513919\t0.496654\t0.00217813\t5.62667\t12 \t1  \t1.73607\n",
      "7  \t167   \t0.513068\t0.513919\t0.496824\t0.00184867\t5.25   \t11 \t1  \t1.64545\n",
      "8  \t164   \t0.512872\t0.513919\t0.497685\t0.00212457\t5.45667\t13 \t1  \t1.77805\n",
      "9  \t150   \t0.512834\t0.513919\t0.500244\t0.00199613\t6.12333\t11 \t1  \t1.74015\n",
      "10 \t153   \t0.512906\t0.513919\t0.485846\t0.00225944\t6.61   \t11 \t1  \t1.61593\n"
     ]
    },
    {
     "name": "stderr",
     "output_type": "stream",
     "text": [
      "\r",
      " 21%|██        | 21/100 [15:20:37<57:43:16, 2630.34s/it]"
     ]
    },
    {
     "name": "stdout",
     "output_type": "stream",
     "text": [
      "   \t      \t                         fitness                          \t             size             \n",
      "   \t      \t----------------------------------------------------------\t------------------------------\n",
      "gen\tnevals\tavg     \tmax     \tmin     \tstd       \tavg \tmax\tmin\tstd   \n",
      "0  \t300   \t0.509822\t0.513601\t0.493156\t0.00418374\t3.86\t14 \t2  \t2.5074\n",
      "1  \t170   \t0.512329\t0.513879\t0.484985\t0.0031541 \t3.01333\t16 \t1  \t1.61653\n",
      "2  \t145   \t0.513035\t0.513879\t0.497633\t0.00173822\t2.73   \t8  \t1  \t1.09107\n",
      "3  \t149   \t0.5128  \t0.513879\t0.499678\t0.00216775\t2.83333\t7  \t1  \t0.915909\n",
      "4  \t159   \t0.513001\t0.513879\t0.495196\t0.0017932 \t3.1    \t9  \t1  \t0.885061\n",
      "5  \t149   \t0.512934\t0.51396 \t0.484853\t0.00240357\t3.11333\t8  \t1  \t0.663693\n",
      "6  \t177   \t0.512992\t0.51396 \t0.49727 \t0.00157653\t3.05333\t8  \t1  \t0.493784\n",
      "7  \t182   \t0.512982\t0.51396 \t0.490373\t0.00236959\t3.13667\t9  \t1  \t0.733477\n",
      "8  \t177   \t0.513   \t0.51396 \t0.504181\t0.00154167\t3.12   \t9  \t1  \t0.69685 \n",
      "9  \t170   \t0.51291 \t0.51396 \t0.494155\t0.00210261\t3.09333\t9  \t1  \t0.768953\n",
      "10 \t183   \t0.512901\t0.51396 \t0.49066 \t0.00237106\t3.11667\t9  \t1  \t0.745915\n",
      "n_features: 56, best_score: 0.513960, time: 3562.975676 second\n"
     ]
    },
    {
     "name": "stderr",
     "output_type": "stream",
     "text": [
      "\r",
      " 22%|██▏       | 22/100 [16:20:02<57:54:39, 2672.82s/it]"
     ]
    },
    {
     "name": "stdout",
     "output_type": "stream",
     "text": [
      "   \t      \t                     fitness                      \t              size             \n",
      "   \t      \t--------------------------------------------------\t-------------------------------\n",
      "gen\tnevals\tavg     \tmax     \tmin    \tstd       \tavg    \tmax\tmin\tstd    \n",
      "0  \t300   \t0.510283\t0.513954\t0.48611\t0.00421802\t3.87333\t15 \t2  \t2.49077\n",
      "1  \t174   \t0.51289 \t0.513954\t0.494984\t0.00225046\t2.73   \t11 \t1  \t1.2071 \n",
      "2  \t152   \t0.512685\t0.513954\t0.486205\t0.00326692\t2.59333\t8  \t1  \t1.07763\n",
      "3  \t186   \t0.513257\t0.513954\t0.494984\t0.00205686\t2.28667\t7  \t1  \t0.878155\n",
      "4  \t165   \t0.513815\t0.513954\t0.508175\t0.00062198\t2.15   \t8  \t1  \t0.775134\n",
      "5  \t154   \t0.51383 \t0.513954\t0.507023\t0.000607768\t2.10667\t8  \t1  \t0.623396\n",
      "6  \t188   \t0.513612\t0.513954\t0.495789\t0.00149082 \t2.17333\t8  \t1  \t0.802053\n",
      "7  \t169   \t0.513768\t0.513954\t0.508062\t0.00073831 \t2.11   \t8  \t1  \t0.676683\n",
      "8  \t162   \t0.513719\t0.513954\t0.498821\t0.00129408 \t2.13667\t7  \t1  \t0.710391\n",
      "9  \t176   \t0.513567\t0.513954\t0.493567\t0.00180317 \t2.25667\t8  \t1  \t1.00206 \n",
      "10 \t171   \t0.513819\t0.513954\t0.508633\t0.000650796\t2.11   \t7  \t1  \t0.66174 \n"
     ]
    },
    {
     "name": "stderr",
     "output_type": "stream",
     "text": [
      "\r",
      " 23%|██▎       | 23/100 [17:23:00<58:11:50, 2720.91s/it]"
     ]
    },
    {
     "name": "stdout",
     "output_type": "stream",
     "text": [
      "   \t      \t                         fitness                          \t              size             \n",
      "   \t      \t----------------------------------------------------------\t-------------------------------\n",
      "gen\tnevals\tavg     \tmax     \tmin     \tstd       \tavg    \tmax\tmin\tstd    \n",
      "0  \t300   \t0.510698\t0.514218\t0.491434\t0.00406872\t3.98333\t14 \t2  \t2.60827\n",
      "1  \t149   \t0.512854\t0.514218\t0.495399\t0.00229901\t2.90333\t10 \t1  \t1.56439\n",
      "2  \t179   \t0.512673\t0.514218\t0.496548\t0.00234881\t3.48667\t11 \t1  \t1.81929\n",
      "3  \t156   \t0.51242 \t0.514218\t0.496163\t0.00340202\t4.82   \t10 \t1  \t2.02837\n",
      "4  \t145   \t0.512983\t0.514218\t0.496163\t0.0025754 \t6      \t11 \t1  \t1.6207 \n",
      "5  \t165   \t0.512562\t0.514218\t0.493042\t0.00339525\t5.99667\t10 \t1  \t1.60104\n",
      "6  \t143   \t0.512729\t0.514218\t0.491076\t0.00340494\t5.92   \t12 \t1  \t1.57065\n",
      "7  \t170   \t0.512642\t0.514218\t0.496163\t0.00312069\t6.03   \t11 \t1  \t1.64391\n",
      "8  \t168   \t0.512448\t0.514218\t0.496163\t0.00337952\t6.03333\t12 \t1  \t1.76604\n",
      "9  \t162   \t0.512698\t0.514218\t0.496163\t0.00325012\t5.97333\t11 \t1  \t1.53817\n",
      "10 \t193   \t0.512193\t0.514218\t0.496163\t0.00362084\t6.05667\t11 \t1  \t1.74168\n",
      "n_features: 57, best_score: 0.514218, time: 3667.639558 second\n"
     ]
    },
    {
     "name": "stderr",
     "output_type": "stream",
     "text": [
      "\r",
      " 24%|██▍       | 24/100 [18:24:10<58:16:33, 2760.44s/it]"
     ]
    },
    {
     "name": "stdout",
     "output_type": "stream",
     "text": [
      "   \t      \t                         fitness                          \t              size             \n",
      "   \t      \t----------------------------------------------------------\t-------------------------------\n",
      "gen\tnevals\tavg     \tmax     \tmin     \tstd       \tavg \tmax\tmin\tstd    \n",
      "0  \t300   \t0.510735\t0.514568\t0.484488\t0.00481201\t3.94\t14 \t2  \t2.50926\n",
      "1  \t165   \t0.51374 \t0.514615\t0.500819\t0.0018276 \t2.56\t10 \t1  \t1.14298\n",
      "2  \t188   \t0.513618\t0.514615\t0.498371\t0.00240152\t2.35333\t9  \t1  \t0.960116\n",
      "3  \t155   \t0.513748\t0.514615\t0.495984\t0.00252053\t2.30333\t8  \t1  \t0.926277\n",
      "4  \t162   \t0.513911\t0.514615\t0.501512\t0.00223073\t2.38333\t8  \t1  \t0.830495\n",
      "5  \t177   \t0.513834\t0.514615\t0.495984\t0.00244486\t2.89333\t9  \t1  \t0.89552 \n",
      "6  \t177   \t0.514123\t0.514615\t0.495984\t0.0018156 \t3.07   \t9  \t1  \t0.651997\n",
      "7  \t169   \t0.514132\t0.514615\t0.498561\t0.00155591\t3.10333\t9  \t1  \t0.706627\n",
      "8  \t170   \t0.514063\t0.514615\t0.494116\t0.00192865\t3.14   \t9  \t1  \t0.840873\n",
      "9  \t168   \t0.514156\t0.514615\t0.502554\t0.00129829\t3.15333\t9  \t1  \t0.776631\n",
      "10 \t177   \t0.514286\t0.514615\t0.505151\t0.000902466\t3.11   \t9  \t1  \t0.710329\n",
      "n_features: 58, best_score: 0.514615, time: 3888.643229 second\n"
     ]
    },
    {
     "name": "stderr",
     "output_type": "stream",
     "text": [
      "\r",
      " 25%|██▌       | 25/100 [19:29:01<58:27:03, 2805.65s/it]"
     ]
    },
    {
     "name": "stdout",
     "output_type": "stream",
     "text": [
      "   \t      \t                         fitness                         \t              size             \n",
      "   \t      \t---------------------------------------------------------\t-------------------------------\n",
      "gen\tnevals\tavg     \tmax     \tmin     \tstd      \tavg \tmax\tmin\tstd    \n",
      "0  \t300   \t0.511615\t0.515048\t0.480407\t0.0040699\t3.68\t15 \t2  \t2.33758\n",
      "1  \t172   \t0.513223\t0.515048\t0.484761\t0.00381536\t3.14\t12 \t1  \t2.0446 \n",
      "2  \t169   \t0.513644\t0.515048\t0.492331\t0.00262143\t4.35333\t13 \t1  \t3.3169 \n",
      "3  \t169   \t0.513236\t0.515048\t0.494097\t0.00324511\t6.62667\t16 \t1  \t3.91756\n",
      "4  \t165   \t0.513864\t0.515048\t0.493029\t0.00264315\t4.19333\t14 \t1  \t1.58618\n",
      "5  \t172   \t0.514205\t0.515048\t0.498665\t0.00155671\t4.01667\t9  \t1  \t1.21232\n",
      "6  \t161   \t0.514283\t0.515048\t0.507634\t0.0011694 \t3.94333\t8  \t1  \t1.1373 \n",
      "7  \t155   \t0.514174\t0.515048\t0.496688\t0.0018739 \t4.07   \t9  \t1  \t1.23765\n",
      "8  \t156   \t0.51431 \t0.515048\t0.501736\t0.001403  \t4.04667\t10 \t1  \t1.11257\n",
      "9  \t157   \t0.514286\t0.515048\t0.498947\t0.00183771\t4.01   \t9  \t1  \t1.12097\n",
      "10 \t169   \t0.514085\t0.515048\t0.50172 \t0.00172611\t4.04   \t10 \t2  \t1.06383\n",
      "n_features: 59, best_score: 0.515048, time: 3851.116496 second\n"
     ]
    },
    {
     "name": "stderr",
     "output_type": "stream",
     "text": [
      "\r",
      " 26%|██▌       | 26/100 [20:33:14<58:29:59, 2845.94s/it]"
     ]
    },
    {
     "name": "stdout",
     "output_type": "stream",
     "text": [
      "   \t      \t                         fitness                          \t              size             \n",
      "   \t      \t----------------------------------------------------------\t-------------------------------\n",
      "gen\tnevals\tavg     \tmax     \tmin     \tstd       \tavg    \tmax\tmin\tstd    \n",
      "0  \t300   \t0.511434\t0.515386\t0.467792\t0.00529278\t3.96333\t14 \t2  \t2.60166\n",
      "1  \t163   \t0.513877\t0.515489\t0.492583\t0.00309106\t2.89333\t9  \t1  \t1.31477\n",
      "2  \t153   \t0.513986\t0.515489\t0.496703\t0.00292599\t2.64667\t9  \t1  \t0.967034\n",
      "3  \t180   \t0.513838\t0.515489\t0.496622\t0.00376549\t2.42667\t6  \t1  \t0.65163 \n",
      "4  \t173   \t0.513517\t0.515489\t0.492678\t0.00414339\t2.92667\t9  \t1  \t0.813197\n",
      "5  \t179   \t0.514466\t0.515489\t0.492739\t0.0028151 \t3.13667\t8  \t1  \t0.700944\n",
      "6  \t177   \t0.514842\t0.515489\t0.501858\t0.00144412\t3.08333\t6  \t1  \t0.56838 \n",
      "7  \t186   \t0.514598\t0.515489\t0.48164 \t0.00261321\t3.11333\t8  \t1  \t0.702725\n",
      "8  \t162   \t0.514655\t0.515489\t0.485201\t0.0028097 \t3.08333\t9  \t1  \t0.655532\n",
      "9  \t170   \t0.51477 \t0.515489\t0.497497\t0.00209764\t3.16   \t9  \t1  \t0.902441\n",
      "10 \t158   \t0.514935\t0.515489\t0.501118\t0.00174145\t3.12667\t9  \t1  \t0.781423\n",
      "n_features: 60, best_score: 0.515489, time: 4036.421956 second\n"
     ]
    },
    {
     "name": "stderr",
     "output_type": "stream",
     "text": [
      "\r",
      " 27%|██▋       | 27/100 [21:40:32<58:36:17, 2890.11s/it]"
     ]
    },
    {
     "name": "stdout",
     "output_type": "stream",
     "text": [
      "   \t      \t                     fitness                     \t             size             \n",
      "   \t      \t-------------------------------------------------\t------------------------------\n",
      "gen\tnevals\tavg     \tmax     \tmin    \tstd      \tavg    \tmax\tmin\tstd   \n",
      "0  \t300   \t0.511402\t0.515535\t0.46857\t0.0048092\t4.26333\t15 \t2  \t2.8753\n",
      "1  \t174   \t0.513562\t0.515535\t0.482427\t0.00323588\t2.85667\t9  \t1  \t1.35995\n",
      "2  \t168   \t0.514371\t0.515535\t0.481268\t0.00290354\t2.79   \t12 \t1  \t1.3061 \n",
      "3  \t173   \t0.515063\t0.515535\t0.50345 \t0.00166193\t2.52   \t6  \t1  \t0.964158\n",
      "4  \t203   \t0.515257\t0.515535\t0.503764\t0.00123171\t2.12667\t7  \t1  \t0.557335\n",
      "5  \t181   \t0.515244\t0.515535\t0.507081\t0.00105616\t2.16   \t8  \t1  \t0.792296\n",
      "6  \t174   \t0.515221\t0.515535\t0.498928\t0.00146399\t2.09667\t8  \t1  \t0.64858 \n",
      "7  \t169   \t0.515275\t0.515535\t0.49718 \t0.0015392 \t2.08333\t8  \t1  \t0.650427\n",
      "8  \t168   \t0.515293\t0.515535\t0.505513\t0.00114095\t2.07333\t6  \t1  \t0.463273\n",
      "9  \t165   \t0.515311\t0.515535\t0.497255\t0.00128758\t2.06333\t8  \t1  \t0.559156\n",
      "10 \t176   \t0.51534 \t0.515535\t0.506399\t0.000875782\t2.05333\t6  \t1  \t0.379239\n",
      "n_features: 61, best_score: 0.515535, time: 4267.359774 second\n"
     ]
    },
    {
     "name": "stderr",
     "output_type": "stream",
     "text": [
      "\r",
      " 28%|██▊       | 28/100 [22:51:42<58:47:14, 2939.37s/it]"
     ]
    },
    {
     "name": "stdout",
     "output_type": "stream",
     "text": [
      "   \t      \t                         fitness                         \t              size             \n",
      "   \t      \t---------------------------------------------------------\t-------------------------------\n",
      "gen\tnevals\tavg     \tmax     \tmin     \tstd      \tavg \tmax\tmin\tstd    \n",
      "0  \t300   \t0.511504\t0.515542\t0.491617\t0.0040825\t3.94\t15 \t2  \t2.70858\n",
      "1  \t174   \t0.513845\t0.515542\t0.475219\t0.00286864\t3.24\t14 \t1  \t2.09023\n",
      "2  \t162   \t0.514808\t0.515542\t0.497642\t0.0017674 \t2.61\t13 \t1  \t1.26408\n",
      "3  \t182   \t0.514945\t0.515542\t0.502336\t0.00170889\t2.42667\t8  \t1  \t0.915399\n",
      "4  \t185   \t0.514811\t0.515542\t0.496138\t0.00268597\t2.35   \t7  \t1  \t0.833167\n",
      "5  \t154   \t0.515307\t0.515542\t0.502877\t0.00105988\t2.28667\t6  \t1  \t0.6667  \n",
      "6  \t151   \t0.515276\t0.515542\t0.508378\t0.00104081\t2.32667\t8  \t1  \t0.820542\n",
      "7  \t173   \t0.514884\t0.515542\t0.49597 \t0.00251281\t2.4    \t8  \t1  \t0.95219 \n",
      "8  \t144   \t0.515314\t0.515656\t0.509725\t0.000758125\t2.32333\t8  \t1  \t0.790857\n",
      "9  \t183   \t0.515282\t0.515656\t0.501069\t0.00115105 \t2.37667\t10 \t1  \t1.06213 \n",
      "10 \t171   \t0.514978\t0.515656\t0.491669\t0.00241737 \t2.62   \t10 \t1  \t1.5348  \n",
      "n_features: 62, best_score: 0.515656, time: 4156.689962 second\n"
     ]
    },
    {
     "name": "stderr",
     "output_type": "stream",
     "text": [
      "\r",
      " 29%|██▉       | 29/100 [24:01:01<58:48:01, 2981.42s/it]"
     ]
    },
    {
     "name": "stdout",
     "output_type": "stream",
     "text": [
      "   \t      \t                         fitness                         \t              size             \n",
      "   \t      \t---------------------------------------------------------\t-------------------------------\n",
      "gen\tnevals\tavg     \tmax     \tmin     \tstd      \tavg \tmax\tmin\tstd    \n",
      "0  \t300   \t0.511983\t0.516249\t0.478525\t0.0049389\t3.86\t15 \t2  \t2.47933\n",
      "1  \t190   \t0.514766\t0.516249\t0.500195\t0.00274426\t2.87667\t12 \t1  \t1.68961\n",
      "2  \t166   \t0.515139\t0.516249\t0.493502\t0.00244495\t2.61333\t8  \t1  \t1.07571\n",
      "3  \t163   \t0.514959\t0.516249\t0.497537\t0.00265053\t2.74333\t8  \t1  \t0.915126\n",
      "4  \t172   \t0.515227\t0.516249\t0.469969\t0.00374916\t3.06   \t8  \t1  \t0.736931\n",
      "5  \t161   \t0.515417\t0.516249\t0.483869\t0.00279334\t3.18333\t9  \t1  \t0.977951\n",
      "6  \t160   \t0.515544\t0.516249\t0.495762\t0.00259733\t3.06   \t7  \t1  \t0.450629\n",
      "7  \t157   \t0.515776\t0.516249\t0.497071\t0.00160014\t3.06333\t8  \t1  \t0.576763\n",
      "8  \t167   \t0.515651\t0.516249\t0.502217\t0.00178995\t3.13333\t8  \t1  \t0.745356\n",
      "9  \t189   \t0.51532 \t0.516283\t0.483869\t0.00334694\t3.13333\t9  \t1  \t0.825967\n",
      "10 \t168   \t0.515555\t0.516283\t0.492531\t0.00236639\t3.10333\t9  \t1  \t0.778453\n",
      "n_features: 63, best_score: 0.516283, time: 5715.850651 second\n"
     ]
    },
    {
     "name": "stderr",
     "output_type": "stream",
     "text": [
      "\r",
      " 30%|███       | 30/100 [25:36:19<59:44:45, 3072.65s/it]"
     ]
    },
    {
     "name": "stdout",
     "output_type": "stream",
     "text": [
      "   \t      \t                         fitness                          \t              size             \n",
      "   \t      \t----------------------------------------------------------\t-------------------------------\n",
      "gen\tnevals\tavg     \tmax     \tmin     \tstd       \tavg    \tmax\tmin\tstd    \n",
      "0  \t300   \t0.512472\t0.516942\t0.470648\t0.00593332\t3.82333\t15 \t2  \t2.48169\n",
      "1  \t168   \t0.515362\t0.517316\t0.501385\t0.0019623 \t2.92333\t11 \t1  \t1.58244\n",
      "2  \t176   \t0.515088\t0.517316\t0.485749\t0.00369467\t3.49333\t11 \t1  \t2.22335\n",
      "3  \t160   \t0.515057\t0.517316\t0.482953\t0.00405692\t3.65   \t13 \t1  \t2.02505\n",
      "4  \t160   \t0.515495\t0.517316\t0.482953\t0.00477185\t3.20333\t11 \t1  \t1.28659\n",
      "5  \t171   \t0.516657\t0.517316\t0.496909\t0.00231933\t3.02667\t9  \t1  \t0.701871\n",
      "6  \t145   \t0.516835\t0.517316\t0.500929\t0.0016294 \t3.1    \t9  \t1  \t0.822598\n",
      "7  \t151   \t0.516745\t0.517316\t0.487766\t0.00231397\t3.12333\t9  \t1  \t0.703412\n",
      "8  \t162   \t0.516666\t0.517316\t0.500548\t0.00192439\t3.09333\t9  \t1  \t0.823381\n",
      "9  \t162   \t0.516615\t0.517316\t0.494994\t0.00214361\t3.14   \t9  \t1  \t0.70739 \n",
      "10 \t169   \t0.516867\t0.517316\t0.505264\t0.00118227\t3.08333\t9  \t1  \t0.629594\n",
      "n_features: 64, best_score: 0.517316, time: 4240.991257 second\n"
     ]
    },
    {
     "name": "stderr",
     "output_type": "stream",
     "text": [
      "\r",
      " 31%|███       | 31/100 [26:47:02<59:36:58, 3110.41s/it]"
     ]
    },
    {
     "name": "stdout",
     "output_type": "stream",
     "text": [
      "   \t      \t                         fitness                          \t              size             \n",
      "   \t      \t----------------------------------------------------------\t-------------------------------\n",
      "gen\tnevals\tavg     \tmax     \tmin     \tstd       \tavg    \tmax\tmin\tstd    \n",
      "0  \t300   \t0.512386\t0.517417\t0.480883\t0.00554895\t3.87667\t14 \t2  \t2.58227\n",
      "1  \t165   \t0.515553\t0.517474\t0.496406\t0.00257061\t2.86   \t13 \t1  \t1.58127\n",
      "2  \t167   \t0.515974\t0.517532\t0.497319\t0.00278794\t2.99333\t13 \t1  \t1.40236\n",
      "3  \t177   \t0.51585 \t0.517532\t0.498065\t0.00280414\t3.41   \t8  \t1  \t1.24441\n",
      "4  \t186   \t0.515526\t0.517532\t0.501828\t0.00292368\t4.33667\t10 \t1  \t1.19303\n",
      "5  \t156   \t0.515989\t0.517532\t0.500508\t0.00278386\t4.58   \t9  \t1  \t1.0018 \n",
      "6  \t180   \t0.516449\t0.517532\t0.505013\t0.00166569\t4.11667\t9  \t1  \t0.806053\n",
      "7  \t162   \t0.516702\t0.517594\t0.504626\t0.00150526\t4.04667\t8  \t1  \t0.691247\n",
      "8  \t153   \t0.516569\t0.517594\t0.504995\t0.001609  \t4.05   \t9  \t1  \t0.887412\n",
      "9  \t160   \t0.516571\t0.517594\t0.501821\t0.00182381\t4.14   \t9  \t1  \t0.894651\n",
      "10 \t165   \t0.516694\t0.517667\t0.502542\t0.00184613\t4.45   \t11 \t2  \t1.06497 \n",
      "n_features: 65, best_score: 0.517667, time: 4432.139073 second\n"
     ]
    },
    {
     "name": "stderr",
     "output_type": "stream",
     "text": [
      "\r",
      " 32%|███▏      | 32/100 [28:00:57<59:32:01, 3151.78s/it]"
     ]
    },
    {
     "name": "stdout",
     "output_type": "stream",
     "text": [
      "   \t      \t                     fitness                      \t             size             \n",
      "   \t      \t--------------------------------------------------\t------------------------------\n",
      "gen\tnevals\tavg     \tmax    \tmin     \tstd       \tavg    \tmax\tmin\tstd   \n",
      "0  \t300   \t0.514206\t0.51802\t0.484187\t0.00401879\t4.21333\t15 \t2  \t2.8521\n",
      "1  \t180   \t0.516034\t0.51802\t0.496349\t0.00305274\t3.27333\t17 \t1  \t2.16917\n",
      "2  \t155   \t0.517086\t0.51802\t0.472776\t0.00312011\t2.43667\t8  \t1  \t1.1222 \n",
      "3  \t177   \t0.517472\t0.51802\t0.501625\t0.00192724\t2.22667\t7  \t1  \t0.84968\n",
      "4  \t173   \t0.517639\t0.51802\t0.496319\t0.00180713\t2.18667\t7  \t1  \t0.870913\n",
      "5  \t171   \t0.51774 \t0.51802\t0.48773 \t0.00191404\t2.04333\t7  \t1  \t0.425976\n",
      "6  \t141   \t0.517646\t0.51802\t0.502774\t0.00165078\t2.14667\t7  \t1  \t0.65204 \n",
      "7  \t162   \t0.517693\t0.51802\t0.500215\t0.00151999\t2.12   \t8  \t1  \t0.69205 \n",
      "8  \t166   \t0.517431\t0.51802\t0.493972\t0.00267769\t2.17   \t8  \t1  \t0.829317\n",
      "9  \t153   \t0.517813\t0.51802\t0.511995\t0.000867899\t2.09   \t7  \t1  \t0.561456\n",
      "10 \t149   \t0.517594\t0.51802\t0.496349\t0.00200237 \t2.17333\t8  \t1  \t0.737081\n",
      "n_features: 66, best_score: 0.518020, time: 4345.626068 second\n"
     ]
    },
    {
     "name": "stderr",
     "output_type": "stream",
     "text": [
      "\r",
      " 33%|███▎      | 33/100 [29:13:25<59:19:58, 3188.03s/it]"
     ]
    },
    {
     "name": "stdout",
     "output_type": "stream",
     "text": [
      "   \t      \t                         fitness                          \t             size             \n",
      "   \t      \t----------------------------------------------------------\t------------------------------\n",
      "gen\tnevals\tavg     \tmax     \tmin     \tstd       \tavg \tmax\tmin\tstd   \n",
      "0  \t300   \t0.514536\t0.518394\t0.498845\t0.00380815\t3.99\t15 \t2  \t2.4799\n",
      "1  \t162   \t0.51711 \t0.518394\t0.500319\t0.00224728\t2.88333\t9  \t1  \t1.2582\n",
      "2  \t157   \t0.517041\t0.518394\t0.50297 \t0.00241696\t2.98333\t9  \t1  \t1.16464\n",
      "3  \t161   \t0.517026\t0.518394\t0.502269\t0.00296343\t3.49   \t10 \t2  \t1.21239\n",
      "4  \t157   \t0.517643\t0.518394\t0.504256\t0.00181817\t4.00333\t9  \t1  \t1.14163\n",
      "5  \t155   \t0.517453\t0.518394\t0.505073\t0.00204647\t4.14333\t8  \t1  \t1.09062\n",
      "6  \t167   \t0.51758 \t0.518394\t0.492693\t0.00214614\t4.00667\t10 \t1  \t1.25431\n",
      "7  \t166   \t0.517446\t0.518394\t0.497142\t0.00235562\t4.03   \t8  \t1  \t1.08433\n",
      "8  \t168   \t0.517548\t0.518996\t0.499467\t0.00217113\t4.08667\t9  \t1  \t1.17721\n",
      "9  \t155   \t0.517611\t0.518996\t0.502416\t0.00194963\t4.07333\t9  \t1  \t1.07453\n",
      "10 \t166   \t0.517461\t0.518996\t0.494268\t0.00261587\t4.26   \t9  \t1  \t1.31113\n",
      "n_features: 67, best_score: 0.518996, time: 4423.231148 second\n"
     ]
    },
    {
     "name": "stderr",
     "output_type": "stream",
     "text": [
      "\r",
      " 34%|███▍      | 34/100 [30:27:10<59:06:52, 3224.43s/it]"
     ]
    },
    {
     "name": "stdout",
     "output_type": "stream",
     "text": [
      "   \t      \t                         fitness                          \t              size             \n",
      "   \t      \t----------------------------------------------------------\t-------------------------------\n",
      "gen\tnevals\tavg     \tmax     \tmin     \tstd       \tavg    \tmax\tmin\tstd    \n",
      "0  \t300   \t0.514975\t0.519102\t0.491586\t0.00439042\t3.92333\t15 \t2  \t2.57503\n",
      "1  \t166   \t0.517645\t0.519102\t0.503185\t0.00208006\t2.91667\t12 \t1  \t1.36494\n",
      "2  \t160   \t0.518086\t0.519102\t0.488154\t0.00224659\t2.47333\t7  \t1  \t0.877091\n",
      "3  \t170   \t0.518343\t0.519102\t0.497019\t0.00216174\t2.27667\t8  \t1  \t0.912938\n",
      "4  \t171   \t0.51874 \t0.519102\t0.485725\t0.00234371\t2.07667\t7  \t1  \t0.459118\n",
      "5  \t169   \t0.518884\t0.519102\t0.510949\t0.00094542\t2.11667\t8  \t1  \t0.675566\n",
      "6  \t171   \t0.518638\t0.519102\t0.478437\t0.00278972\t2.18333\t8  \t1  \t0.877338\n",
      "7  \t189   \t0.518978\t0.519102\t0.509839\t0.00076274\t2.02667\t6  \t1  \t0.315101\n",
      "8  \t158   \t0.51891 \t0.519102\t0.501716\t0.00119594\t2.09333\t7  \t1  \t0.5335  \n",
      "9  \t144   \t0.518801\t0.519102\t0.502736\t0.00141711\t2.08667\t7  \t1  \t0.559007\n",
      "10 \t164   \t0.518647\t0.519102\t0.503403\t0.0018499 \t2.13333\t6  \t1  \t0.612826\n",
      "n_features: 68, best_score: 0.519102, time: 4567.544452 second\n"
     ]
    },
    {
     "name": "stderr",
     "output_type": "stream",
     "text": [
      "\r",
      " 35%|███▌      | 35/100 [31:43:20<58:54:46, 3262.88s/it]"
     ]
    },
    {
     "name": "stdout",
     "output_type": "stream",
     "text": [
      "   \t      \t                         fitness                          \t             size             \n",
      "   \t      \t----------------------------------------------------------\t------------------------------\n",
      "gen\tnevals\tavg     \tmax     \tmin     \tstd       \tavg    \tmax\tmin\tstd   \n",
      "0  \t300   \t0.515536\t0.519846\t0.494856\t0.00384955\t3.90667\t14 \t2  \t2.4694\n",
      "1  \t155   \t0.51743 \t0.519846\t0.491019\t0.00315138\t3.22333\t9  \t1  \t1.60628\n",
      "2  \t167   \t0.517519\t0.519846\t0.49549 \t0.00337172\t3.61   \t12 \t1  \t1.88447\n",
      "3  \t173   \t0.517625\t0.519846\t0.497803\t0.00376601\t3.60667\t12 \t1  \t1.71813\n",
      "4  \t172   \t0.518821\t0.519846\t0.499949\t0.00273463\t3.09667\t8  \t1  \t0.68361\n",
      "5  \t173   \t0.518978\t0.519846\t0.501467\t0.00199386\t3.10333\t7  \t1  \t0.672797\n",
      "6  \t162   \t0.518913\t0.519846\t0.501467\t0.00236207\t3.14667\t9  \t1  \t0.760585\n",
      "7  \t172   \t0.519018\t0.519846\t0.500099\t0.00191131\t3.13333\t9  \t1  \t0.767391\n",
      "8  \t169   \t0.519054\t0.519846\t0.505628\t0.00171835\t3.16   \t8  \t1  \t0.792296\n",
      "9  \t160   \t0.51903 \t0.519846\t0.48316 \t0.0028798 \t3.11   \t8  \t1  \t0.715006\n",
      "10 \t143   \t0.519122\t0.519846\t0.493751\t0.00190739\t3.05667\t8  \t1  \t0.697703\n",
      "n_features: 69, best_score: 0.519846, time: 4634.189354 second\n"
     ]
    },
    {
     "name": "stderr",
     "output_type": "stream",
     "text": [
      "\r",
      " 36%|███▌      | 36/100 [33:00:37<58:41:06, 3301.04s/it]"
     ]
    },
    {
     "name": "stdout",
     "output_type": "stream",
     "text": [
      "   \t      \t                     fitness                      \t              size             \n",
      "   \t      \t--------------------------------------------------\t-------------------------------\n",
      "gen\tnevals\tavg    \tmax     \tmin     \tstd       \tavg    \tmax\tmin\tstd    \n",
      "0  \t300   \t0.51566\t0.519741\t0.450949\t0.00558155\t3.95333\t13 \t2  \t2.46532\n",
      "1  \t174   \t0.518265\t0.519741\t0.501616\t0.00267955\t2.95333\t11 \t1  \t1.6826 \n",
      "2  \t169   \t0.518856\t0.519825\t0.502584\t0.00197298\t2.50333\t11 \t1  \t1.49331\n",
      "3  \t167   \t0.519084\t0.519825\t0.491275\t0.00229381\t2.24333\t8  \t1  \t0.847027\n",
      "4  \t161   \t0.519416\t0.519825\t0.501401\t0.00157694\t2.41   \t8  \t1  \t0.784368\n",
      "5  \t152   \t0.519333\t0.519825\t0.503603\t0.00134234\t3      \t9  \t1  \t0.739369\n",
      "6  \t162   \t0.519224\t0.519825\t0.503571\t0.00169198\t3.12333\t9  \t1  \t0.779822\n",
      "7  \t162   \t0.519195\t0.519825\t0.497261\t0.00190277\t3.12667\t7  \t1  \t0.635575\n",
      "8  \t155   \t0.519227\t0.519825\t0.497801\t0.00206022\t3.13667\t9  \t1  \t0.751436\n",
      "9  \t157   \t0.519108\t0.519825\t0.472955\t0.00326601\t3.10333\t8  \t1  \t0.615891\n",
      "10 \t173   \t0.519244\t0.519825\t0.496385\t0.00203233\t3.07333\t6  \t1  \t0.477447\n"
     ]
    },
    {
     "name": "stderr",
     "output_type": "stream",
     "text": [
      "\r",
      " 37%|███▋      | 37/100 [34:19:12<58:26:13, 3339.27s/it]"
     ]
    },
    {
     "name": "stdout",
     "output_type": "stream",
     "text": [
      "   \t      \t                         fitness                          \t              size             \n",
      "   \t      \t----------------------------------------------------------\t-------------------------------\n",
      "gen\tnevals\tavg     \tmax     \tmin     \tstd       \tavg \tmax\tmin\tstd    \n",
      "0  \t300   \t0.516149\t0.519741\t0.486356\t0.00422062\t4.24\t14 \t2  \t2.88832\n",
      "1  \t159   \t0.518462\t0.519741\t0.479483\t0.00304918\t3.04333\t13 \t1  \t1.6314 \n",
      "2  \t167   \t0.518669\t0.51984 \t0.498976\t0.00214087\t3.19333\t12 \t1  \t1.74813\n",
      "3  \t179   \t0.518841\t0.51984 \t0.498976\t0.00293599\t2.74667\t7  \t1  \t1.513  \n",
      "4  \t184   \t0.519451\t0.51984 \t0.50537 \t0.00135528\t2.56   \t13 \t1  \t1.59574\n",
      "5  \t179   \t0.519157\t0.51984 \t0.495309\t0.00213829\t3.48667\t12 \t1  \t2.31297\n",
      "6  \t178   \t0.518836\t0.519844\t0.501551\t0.00204331\t5.81333\t14 \t1  \t2.47491\n",
      "7  \t141   \t0.519092\t0.519844\t0.505871\t0.00163871\t7.27   \t15 \t2  \t1.54178\n",
      "8  \t176   \t0.518985\t0.519844\t0.505708\t0.00158883\t7.59333\t13 \t2  \t1.65568\n",
      "9  \t178   \t0.518957\t0.519844\t0.503281\t0.00199468\t8.38333\t15 \t1  \t1.96037\n",
      "10 \t174   \t0.518915\t0.519844\t0.508093\t0.00199176\t9.54333\t17 \t1  \t2.18513\n"
     ]
    },
    {
     "name": "stderr",
     "output_type": "stream",
     "text": [
      "\r",
      " 38%|███▊      | 38/100 [35:41:09<58:13:28, 3380.79s/it]"
     ]
    },
    {
     "name": "stdout",
     "output_type": "stream",
     "text": [
      "   \t      \t                         fitness                          \t              size             \n",
      "   \t      \t----------------------------------------------------------\t-------------------------------\n",
      "gen\tnevals\tavg     \tmax     \tmin     \tstd       \tavg \tmax\tmin\tstd    \n",
      "0  \t300   \t0.516034\t0.519921\t0.485997\t0.00500575\t3.98\t14 \t2  \t2.44259\n",
      "1  \t154   \t0.518667\t0.51985 \t0.503674\t0.00177072\t3.06333\t10 \t1  \t1.40214\n",
      "2  \t164   \t0.518519\t0.519991\t0.499994\t0.00231085\t3.31   \t9  \t1  \t1.31678\n",
      "3  \t153   \t0.517913\t0.520135\t0.495517\t0.00358572\t3.97   \t7  \t1  \t1.31242\n",
      "4  \t162   \t0.517157\t0.520382\t0.485868\t0.0058306 \t4.29333\t11 \t1  \t1.37379\n",
      "5  \t178   \t0.517226\t0.520382\t0.485868\t0.00611873\t4.29333\t10 \t1  \t1.40498\n",
      "6  \t139   \t0.518864\t0.520382\t0.494306\t0.00310731\t5.05333\t12 \t1  \t1.51783\n",
      "7  \t171   \t0.519336\t0.520382\t0.509234\t0.00176279\t6.03333\t11 \t1  \t1.45793\n",
      "8  \t181   \t0.519594\t0.520436\t0.503914\t0.0015145 \t6.06333\t15 \t1  \t1.98477\n",
      "9  \t178   \t0.519497\t0.520436\t0.49669 \t0.00214272\t6.48   \t15 \t2  \t2.54878\n",
      "10 \t166   \t0.519269\t0.52047 \t0.496791\t0.00258855\t7.57667\t19 \t1  \t3.63466\n",
      "n_features: 70, best_score: 0.520470, time: 4747.395776 second\n"
     ]
    },
    {
     "name": "stderr",
     "output_type": "stream",
     "text": [
      "\r",
      " 39%|███▉      | 39/100 [37:00:19<57:52:49, 3415.89s/it]"
     ]
    },
    {
     "name": "stdout",
     "output_type": "stream",
     "text": [
      "   \t      \t                     fitness                      \t              size             \n",
      "   \t      \t--------------------------------------------------\t-------------------------------\n",
      "gen\tnevals\tavg     \tmax     \tmin    \tstd       \tavg    \tmax\tmin\tstd    \n",
      "0  \t300   \t0.517151\t0.520523\t0.48249\t0.00476729\t3.74667\t13 \t2  \t2.27943\n",
      "1  \t175   \t0.518677\t0.520473\t0.487561\t0.00373189\t3.17   \t10 \t1  \t1.74769\n",
      "2  \t152   \t0.518787\t0.520473\t0.482106\t0.00441733\t3.50667\t10 \t1  \t1.82664\n",
      "3  \t160   \t0.518833\t0.520473\t0.492823\t0.00469479\t3.23333\t11 \t1  \t1.0094 \n",
      "4  \t168   \t0.519678\t0.520473\t0.503504\t0.00246893\t3.20667\t9  \t1  \t0.940189\n",
      "5  \t166   \t0.519892\t0.520473\t0.504147\t0.00206476\t3.13333\t9  \t1  \t0.754247\n",
      "6  \t168   \t0.519772\t0.520473\t0.498527\t0.00242898\t3.11667\t9  \t1  \t0.704549\n",
      "7  \t159   \t0.520076\t0.520473\t0.502503\t0.00144808\t3.07333\t9  \t1  \t0.606593\n",
      "8  \t172   \t0.519746\t0.521048\t0.497113\t0.0024665 \t3.12333\t9  \t1  \t0.766891\n",
      "9  \t140   \t0.51996 \t0.521048\t0.49916 \t0.00214499\t3.18333\t8  \t1  \t0.79355 \n",
      "10 \t161   \t0.519236\t0.521048\t0.49265 \t0.00420227\t3.35333\t9  \t1  \t0.884207\n",
      "n_features: 71, best_score: 0.521048, time: 4802.666129 second\n"
     ]
    },
    {
     "name": "stderr",
     "output_type": "stream",
     "text": [
      "\r",
      " 40%|████      | 40/100 [38:20:25<57:30:37, 3450.63s/it]"
     ]
    },
    {
     "name": "stdout",
     "output_type": "stream",
     "text": [
      "   \t      \t                     fitness                      \t              size             \n",
      "   \t      \t--------------------------------------------------\t-------------------------------\n",
      "gen\tnevals\tavg    \tmax     \tmin     \tstd       \tavg    \tmax\tmin\tstd    \n",
      "0  \t300   \t0.51743\t0.521428\t0.492978\t0.00455984\t4.12333\t14 \t2  \t2.66486\n",
      "1  \t161   \t0.51943\t0.521428\t0.492579\t0.00368252\t3.04333\t11 \t1  \t1.58581\n",
      "2  \t170   \t0.519913\t0.521715\t0.486034\t0.00330252\t2.74333\t11 \t1  \t1.1154 \n",
      "3  \t160   \t0.520404\t0.521715\t0.504393\t0.00261879\t2.48   \t8  \t1  \t0.950228\n",
      "4  \t187   \t0.520944\t0.521715\t0.49669 \t0.00175061\t2.63333\t8  \t1  \t1.13088 \n",
      "5  \t177   \t0.520871\t0.521715\t0.507282\t0.0016331 \t2.67667\t8  \t1  \t0.962006\n",
      "6  \t152   \t0.520759\t0.521715\t0.486482\t0.00296831\t3.16333\t8  \t1  \t0.858286\n",
      "7  \t150   \t0.520806\t0.521715\t0.486034\t0.00270822\t3.26333\t9  \t1  \t0.909573\n",
      "8  \t164   \t0.520924\t0.521715\t0.508415\t0.00157547\t3.31333\t9  \t1  \t1.04331 \n",
      "9  \t154   \t0.520685\t0.521715\t0.485348\t0.00319161\t3.30333\t9  \t1  \t0.87825 \n",
      "10 \t167   \t0.520977\t0.521715\t0.515382\t0.0012778 \t3.32667\t9  \t1  \t0.979773\n",
      "n_features: 72, best_score: 0.521715, time: 4971.489867 second\n"
     ]
    },
    {
     "name": "stderr",
     "output_type": "stream",
     "text": [
      "\r",
      " 41%|████      | 41/100 [39:43:19<57:09:39, 3487.79s/it]"
     ]
    },
    {
     "name": "stdout",
     "output_type": "stream",
     "text": [
      "   \t      \t                         fitness                          \t              size             \n",
      "   \t      \t----------------------------------------------------------\t-------------------------------\n",
      "gen\tnevals\tavg     \tmax     \tmin     \tstd       \tavg    \tmax\tmin\tstd    \n",
      "0  \t300   \t0.518274\t0.521768\t0.484688\t0.00465278\t3.83333\t14 \t2  \t2.58822\n",
      "1  \t155   \t0.520247\t0.521768\t0.481954\t0.00358542\t3.15   \t12 \t1  \t1.84594\n",
      "2  \t150   \t0.52051 \t0.521768\t0.499831\t0.00314394\t3.55333\t11 \t1  \t2.12614\n",
      "3  \t175   \t0.520516\t0.521768\t0.505893\t0.00288686\t2.98333\t11 \t1  \t1.41294\n",
      "4  \t150   \t0.521209\t0.521768\t0.50177 \t0.00168836\t2.86667\t9  \t1  \t0.932142\n",
      "5  \t183   \t0.521142\t0.521882\t0.503189\t0.00188146\t2.86333\t9  \t1  \t0.900734\n",
      "6  \t156   \t0.521367\t0.521882\t0.50991 \t0.0012086 \t2.84333\t8  \t1  \t0.901178\n",
      "7  \t170   \t0.521058\t0.521903\t0.502987\t0.00188591\t2.91   \t9  \t1  \t1.12631 \n",
      "8  \t162   \t0.52074 \t0.521903\t0.497238\t0.00284647\t3.24   \t9  \t1  \t1.24729 \n",
      "9  \t169   \t0.521219\t0.521903\t0.506323\t0.00178859\t4.06333\t14 \t1  \t2.11644 \n",
      "10 \t181   \t0.520923\t0.522189\t0.501093\t0.00208447\t6.64   \t14 \t1  \t2.77195 \n",
      "n_features: 73, best_score: 0.522189, time: 5108.050705 second\n"
     ]
    },
    {
     "name": "stderr",
     "output_type": "stream",
     "text": [
      "\r",
      " 42%|████▏     | 42/100 [41:08:30<56:48:52, 3526.43s/it]"
     ]
    },
    {
     "name": "stdout",
     "output_type": "stream",
     "text": [
      "   \t      \t                         fitness                          \t              size             \n",
      "   \t      \t----------------------------------------------------------\t-------------------------------\n",
      "gen\tnevals\tavg     \tmax     \tmin     \tstd       \tavg \tmax\tmin\tstd    \n",
      "0  \t300   \t0.518384\t0.522296\t0.488293\t0.00468456\t4.12\t14 \t2  \t2.58694\n",
      "1  \t162   \t0.520886\t0.522296\t0.485126\t0.00334352\t3.05667\t13 \t1  \t1.92184\n",
      "2  \t170   \t0.521178\t0.522296\t0.505581\t0.00222535\t3.21   \t14 \t1  \t2.18309\n",
      "3  \t166   \t0.521172\t0.522296\t0.511057\t0.00252203\t2.25   \t8  \t1  \t0.983616\n",
      "4  \t161   \t0.52177 \t0.522296\t0.510745\t0.0020079 \t2.08333\t8  \t1  \t0.655532\n",
      "5  \t168   \t0.522027\t0.522296\t0.511608\t0.00135532\t2.14667\t8  \t1  \t0.807355\n",
      "6  \t175   \t0.521931\t0.522296\t0.487919\t0.00239114\t2.16   \t8  \t1  \t0.74009 \n",
      "7  \t167   \t0.521902\t0.522296\t0.504476\t0.00201256\t2.17667\t8  \t1  \t0.874903\n",
      "8  \t160   \t0.521881\t0.522296\t0.501646\t0.00186641\t2.16333\t8  \t1  \t0.838643\n",
      "9  \t146   \t0.522048\t0.522296\t0.502542\t0.00144885\t2.09667\t6  \t1  \t0.58934 \n",
      "10 \t164   \t0.521933\t0.522296\t0.506506\t0.00167975\t2.15333\t8  \t1  \t0.750437\n",
      "n_features: 74, best_score: 0.522296, time: 5223.641631 second\n"
     ]
    },
    {
     "name": "stderr",
     "output_type": "stream",
     "text": [
      "\r",
      " 43%|████▎     | 43/100 [42:35:36<56:27:39, 3565.96s/it]"
     ]
    },
    {
     "name": "stdout",
     "output_type": "stream",
     "text": [
      "   \t      \t                         fitness                          \t              size             \n",
      "   \t      \t----------------------------------------------------------\t-------------------------------\n",
      "gen\tnevals\tavg     \tmax     \tmin     \tstd       \tavg    \tmax\tmin\tstd    \n",
      "0  \t300   \t0.518511\t0.522581\t0.487828\t0.00503449\t3.71667\t14 \t2  \t2.32301\n",
      "1  \t158   \t0.520798\t0.522581\t0.485589\t0.00455347\t3.10333\t10 \t1  \t1.64296\n",
      "2  \t165   \t0.521461\t0.522677\t0.467902\t0.00481713\t2.82   \t9  \t1  \t1.1435 \n",
      "3  \t160   \t0.522271\t0.522677\t0.513419\t0.0010818 \t2.91667\t10 \t1  \t1.38914\n",
      "4  \t156   \t0.522136\t0.522677\t0.509466\t0.00149487\t4.14333\t10 \t1  \t1.83924\n",
      "5  \t184   \t0.522112\t0.522677\t0.515103\t0.00124317\t5.00333\t11 \t1  \t1.65831\n",
      "6  \t154   \t0.522274\t0.522677\t0.506581\t0.00119671\t4.93   \t10 \t1  \t1.6099 \n",
      "7  \t163   \t0.522295\t0.522677\t0.513986\t0.000851711\t4.90333\t13 \t1  \t1.5494 \n",
      "8  \t170   \t0.52211 \t0.522677\t0.503158\t0.0017093  \t4.81333\t13 \t1  \t1.57432\n",
      "9  \t179   \t0.52209 \t0.522677\t0.507309\t0.00160292 \t4.94   \t9  \t1  \t1.58   \n",
      "10 \t185   \t0.522287\t0.522677\t0.517246\t0.000812592\t4.78   \t10 \t1  \t1.5138 \n",
      "n_features: 75, best_score: 0.522677, time: 5433.399852 second\n"
     ]
    },
    {
     "name": "stderr",
     "output_type": "stream",
     "text": [
      "\r",
      " 44%|████▍     | 44/100 [44:06:12<56:07:54, 3608.47s/it]"
     ]
    },
    {
     "name": "stdout",
     "output_type": "stream",
     "text": [
      "   \t      \t                     fitness                      \t              size             \n",
      "   \t      \t--------------------------------------------------\t-------------------------------\n",
      "gen\tnevals\tavg    \tmax     \tmin     \tstd       \tavg    \tmax\tmin\tstd    \n",
      "0  \t300   \t0.51824\t0.522027\t0.488271\t0.00509491\t3.99667\t14 \t2  \t2.66771\n",
      "1  \t195   \t0.520892\t0.522439\t0.506581\t0.00205231\t3.34333\t13 \t1  \t2.03276\n",
      "2  \t160   \t0.521192\t0.522439\t0.504449\t0.00201352\t3.35   \t11 \t1  \t1.50139\n",
      "3  \t181   \t0.521006\t0.522439\t0.508044\t0.0021354 \t3.24667\t8  \t1  \t1.29839\n",
      "4  \t156   \t0.520861\t0.522439\t0.492246\t0.00280892\t3.67667\t9  \t1  \t1.7317 \n",
      "5  \t157   \t0.520801\t0.522439\t0.51076 \t0.00245471\t4.82667\t12 \t1  \t2.4826 \n",
      "6  \t157   \t0.520896\t0.522439\t0.506714\t0.00235441\t6.55   \t12 \t1  \t2.18804\n",
      "7  \t170   \t0.52077 \t0.522439\t0.510824\t0.00231336\t7.04   \t13 \t1  \t1.89343\n",
      "8  \t153   \t0.520899\t0.522439\t0.506238\t0.00241838\t7.00667\t12 \t1  \t1.7378 \n",
      "9  \t152   \t0.521037\t0.522439\t0.51267 \t0.00213575\t7      \t13 \t1  \t1.86369\n",
      "10 \t187   \t0.520618\t0.522439\t0.498714\t0.00275591\t7.01333\t13 \t1  \t2.11813\n"
     ]
    },
    {
     "name": "stderr",
     "output_type": "stream",
     "text": [
      "\r",
      " 45%|████▌     | 45/100 [45:37:32<55:45:53, 3650.06s/it]"
     ]
    },
    {
     "name": "stdout",
     "output_type": "stream",
     "text": [
      "   \t      \t                         fitness                          \t              size             \n",
      "   \t      \t----------------------------------------------------------\t-------------------------------\n",
      "gen\tnevals\tavg     \tmax     \tmin     \tstd       \tavg    \tmax\tmin\tstd    \n",
      "0  \t300   \t0.518502\t0.522569\t0.475562\t0.00493278\t3.57333\t13 \t2  \t2.24305\n",
      "1  \t156   \t0.520842\t0.522569\t0.505595\t0.00220535\t2.88333\t10 \t1  \t1.3278 \n",
      "2  \t175   \t0.521317\t0.522569\t0.511554\t0.00172892\t2.89667\t9  \t1  \t1.41868\n",
      "3  \t181   \t0.52149 \t0.522569\t0.510488\t0.00156626\t3.03333\t10 \t1  \t1.50074\n",
      "4  \t166   \t0.521641\t0.522569\t0.490892\t0.00235325\t4.01333\t12 \t1  \t1.52528\n",
      "5  \t142   \t0.522028\t0.522569\t0.500784\t0.00186283\t5.09667\t10 \t1  \t0.969874\n",
      "6  \t178   \t0.521995\t0.522569\t0.515237\t0.00115714\t5.08333\t12 \t1  \t1.06602 \n",
      "7  \t170   \t0.521979\t0.522569\t0.511182\t0.00137366\t5.12   \t12 \t1  \t1.39006 \n",
      "8  \t168   \t0.52185 \t0.522569\t0.511067\t0.0016248 \t5.33667\t11 \t1  \t1.30256 \n",
      "9  \t160   \t0.521921\t0.522569\t0.493169\t0.00246392\t5.22   \t10 \t1  \t1.30318 \n",
      "10 \t172   \t0.521926\t0.522569\t0.511529\t0.00143774\t5.34667\t12 \t1  \t1.39038 \n"
     ]
    },
    {
     "name": "stderr",
     "output_type": "stream",
     "text": [
      "\r",
      " 46%|████▌     | 46/100 [47:09:02<55:21:03, 3690.06s/it]"
     ]
    },
    {
     "name": "stdout",
     "output_type": "stream",
     "text": [
      "   \t      \t                         fitness                          \t              size             \n",
      "   \t      \t----------------------------------------------------------\t-------------------------------\n",
      "gen\tnevals\tavg     \tmax     \tmin     \tstd       \tavg    \tmax\tmin\tstd    \n",
      "0  \t300   \t0.517961\t0.522128\t0.470055\t0.00545508\t4.07333\t14 \t2  \t2.63463\n",
      "1  \t160   \t0.520571\t0.522196\t0.486856\t0.00320352\t3.14333\t12 \t1  \t1.61125\n",
      "2  \t152   \t0.521379\t0.522294\t0.506011\t0.00183397\t3.17667\t10 \t1  \t1.68685\n",
      "3  \t178   \t0.521347\t0.522294\t0.48385 \t0.00386214\t2.50333\t8  \t1  \t0.939852\n",
      "4  \t150   \t0.521787\t0.522294\t0.504449\t0.00135425\t2.91333\t9  \t1  \t0.882698\n",
      "5  \t166   \t0.521663\t0.522294\t0.512391\t0.00131183\t3.07333\t9  \t1  \t0.542791\n",
      "6  \t158   \t0.521628\t0.522294\t0.504222\t0.00179616\t3.04   \t6  \t1  \t0.430194\n",
      "7  \t169   \t0.521705\t0.522294\t0.512362\t0.00133606\t3.13333\t9  \t1  \t0.699206\n",
      "8  \t170   \t0.521649\t0.522294\t0.516383\t0.00118288\t3.13   \t8  \t1  \t0.692652\n",
      "9  \t166   \t0.521703\t0.522294\t0.516528\t0.00112065\t3.08   \t9  \t1  \t0.653401\n",
      "10 \t165   \t0.521599\t0.522294\t0.51288 \t0.00130514\t3.13667\t9  \t1  \t0.760256\n"
     ]
    },
    {
     "name": "stderr",
     "output_type": "stream",
     "text": [
      "\r",
      " 47%|████▋     | 47/100 [48:38:39<54:51:15, 3725.95s/it]"
     ]
    },
    {
     "name": "stdout",
     "output_type": "stream",
     "text": [
      "   \t      \t                         fitness                         \t              size             \n",
      "   \t      \t---------------------------------------------------------\t-------------------------------\n",
      "gen\tnevals\tavg     \tmax     \tmin     \tstd      \tavg    \tmax\tmin\tstd    \n",
      "0  \t300   \t0.518318\t0.522536\t0.489336\t0.0047165\t3.93667\t14 \t2  \t2.44663\n",
      "1  \t171   \t0.52082 \t0.522536\t0.504449\t0.00220449\t3.23667\t14 \t1  \t2.02665\n",
      "2  \t160   \t0.520873\t0.522569\t0.502608\t0.00274524\t3.82333\t14 \t1  \t2.65307\n",
      "3  \t172   \t0.520586\t0.522569\t0.499037\t0.00376283\t4.70667\t13 \t1  \t2.66845\n",
      "4  \t153   \t0.521623\t0.52261 \t0.504947\t0.00185588\t3.45333\t13 \t1  \t1.39325\n",
      "5  \t173   \t0.521574\t0.522623\t0.496606\t0.00231907\t3.11667\t7  \t1  \t0.585709\n",
      "6  \t149   \t0.521689\t0.522623\t0.493365\t0.00282071\t3.49667\t10 \t1  \t1.08781 \n",
      "7  \t177   \t0.521755\t0.522823\t0.50945 \t0.00166337\t4.46333\t13 \t1  \t1.36942 \n",
      "8  \t176   \t0.521657\t0.522823\t0.511302\t0.00163633\t5.00333\t10 \t1  \t1.23153 \n",
      "9  \t158   \t0.521929\t0.522823\t0.516505\t0.00119113\t5.14667\t9  \t1  \t1.13365 \n",
      "10 \t166   \t0.521799\t0.522994\t0.515788\t0.00133952\t5.55   \t13 \t1  \t1.46316 \n",
      "n_features: 76, best_score: 0.522994, time: 5452.101986 second\n"
     ]
    },
    {
     "name": "stderr",
     "output_type": "stream",
     "text": [
      "\r",
      " 48%|████▊     | 48/100 [50:09:34<54:20:22, 3761.97s/it]"
     ]
    },
    {
     "name": "stdout",
     "output_type": "stream",
     "text": [
      "   \t      \t                     fitness                      \t              size             \n",
      "   \t      \t--------------------------------------------------\t-------------------------------\n",
      "gen\tnevals\tavg     \tmax    \tmin     \tstd       \tavg    \tmax\tmin\tstd    \n",
      "0  \t300   \t0.518423\t0.52284\t0.487674\t0.00465281\t3.96333\t14 \t2  \t2.65493\n",
      "1  \t160   \t0.521176\t0.523044\t0.500817\t0.00239096\t3.02333\t14 \t1  \t1.85008\n",
      "2  \t162   \t0.522277\t0.523186\t0.505127\t0.00161089\t2.56667\t8  \t1  \t0.955103\n",
      "3  \t171   \t0.52207 \t0.523186\t0.510755\t0.00167237\t2.52   \t9  \t1  \t0.964158\n",
      "4  \t173   \t0.521978\t0.523186\t0.485855\t0.00355527\t2.44333\t8  \t1  \t1.17479 \n",
      "5  \t158   \t0.522478\t0.523186\t0.500373\t0.00251554\t1.88   \t9  \t1  \t1.32121 \n",
      "6  \t159   \t0.522783\t0.523186\t0.506741\t0.00179989\t1.64   \t6  \t1  \t0.968022\n",
      "7  \t150   \t0.522706\t0.523186\t0.490836\t0.00245479\t1.64333\t6  \t1  \t1.09062 \n",
      "8  \t166   \t0.522895\t0.523186\t0.513023\t0.00111302\t1.56667\t6  \t1  \t1.04828 \n",
      "9  \t173   \t0.522775\t0.523186\t0.503995\t0.00188882\t1.58   \t7  \t1  \t1.0725  \n",
      "10 \t165   \t0.522678\t0.523186\t0.506918\t0.00198657\t1.61667\t7  \t1  \t1.1029  \n",
      "n_features: 77, best_score: 0.523186, time: 5432.731636 second\n"
     ]
    },
    {
     "name": "stderr",
     "output_type": "stream",
     "text": [
      "\r",
      " 49%|████▉     | 49/100 [51:40:10<53:46:42, 3796.13s/it]"
     ]
    },
    {
     "name": "stdout",
     "output_type": "stream",
     "text": [
      "   \t      \t                         fitness                          \t              size             \n",
      "   \t      \t----------------------------------------------------------\t-------------------------------\n",
      "gen\tnevals\tavg     \tmax     \tmin     \tstd       \tavg \tmax\tmin\tstd    \n",
      "0  \t300   \t0.518144\t0.522917\t0.494665\t0.00526645\t3.83\t14 \t2  \t2.36666\n",
      "1  \t179   \t0.520637\t0.523291\t0.481849\t0.00415589\t3.3 \t16 \t1  \t1.92614\n",
      "2  \t161   \t0.521381\t0.523291\t0.473979\t0.00463364\t3.17667\t11 \t1  \t1.63466\n",
      "3  \t167   \t0.522014\t0.523291\t0.486223\t0.00363124\t2.64667\t7  \t1  \t0.963581\n",
      "4  \t163   \t0.522534\t0.523291\t0.486223\t0.00382738\t2.21   \t7  \t1  \t0.582437\n",
      "5  \t178   \t0.522896\t0.523291\t0.47385 \t0.00306924\t2.10667\t6  \t1  \t0.596061\n",
      "6  \t178   \t0.522962\t0.523291\t0.505614\t0.00163968\t2.10333\t7  \t1  \t0.599435\n",
      "7  \t179   \t0.522847\t0.523291\t0.506958\t0.0020173 \t2.12333\t7  \t1  \t0.669419\n",
      "8  \t181   \t0.522983\t0.523291\t0.501872\t0.00165247\t2.13333\t8  \t1  \t0.684755\n",
      "9  \t174   \t0.522836\t0.523291\t0.506724\t0.00198359\t2.15667\t8  \t1  \t0.811658\n",
      "10 \t189   \t0.52301 \t0.523291\t0.511248\t0.00133362\t2.13   \t8  \t1  \t0.77013 \n",
      "n_features: 78, best_score: 0.523291, time: 5805.598873 second\n"
     ]
    },
    {
     "name": "stderr",
     "output_type": "stream",
     "text": [
      "\r",
      " 50%|█████     | 50/100 [53:16:58<53:16:58, 3836.38s/it]"
     ]
    },
    {
     "name": "stdout",
     "output_type": "stream",
     "text": [
      "   \t      \t                         fitness                          \t             size             \n",
      "   \t      \t----------------------------------------------------------\t------------------------------\n",
      "gen\tnevals\tavg     \tmax     \tmin     \tstd       \tavg \tmax\tmin\tstd   \n",
      "0  \t300   \t0.518594\t0.523196\t0.487784\t0.00525112\t3.96\t15 \t2  \t2.5492\n",
      "1  \t170   \t0.521393\t0.523196\t0.498271\t0.00322803\t3.14\t12 \t1  \t1.77775\n",
      "2  \t181   \t0.52217 \t0.523196\t0.49235 \t0.00265639\t3.02\t16 \t1  \t1.6592 \n",
      "3  \t183   \t0.522142\t0.523196\t0.508173\t0.00236497\t3.62667\t10 \t1  \t1.50796\n",
      "4  \t176   \t0.521829\t0.523196\t0.512963\t0.00247316\t4.01667\t9  \t1  \t1.1675 \n",
      "5  \t173   \t0.522103\t0.523196\t0.513221\t0.00238291\t4.06   \t9  \t1  \t1.04709\n",
      "6  \t149   \t0.521766\t0.523196\t0.506117\t0.00287582\t4.15   \t9  \t1  \t1.24399\n",
      "7  \t178   \t0.521579\t0.523196\t0.505302\t0.00304781\t4.01667\t10 \t1  \t1.22871\n",
      "8  \t149   \t0.522228\t0.523196\t0.507469\t0.00222961\t4.14333\t10 \t1  \t1.1872 \n",
      "9  \t171   \t0.521799\t0.523196\t0.500438\t0.0030178 \t4.03   \t9  \t2  \t1.09656\n",
      "10 \t174   \t0.52178 \t0.523281\t0.501774\t0.00291486\t4.02667\t10 \t1  \t1.20525\n"
     ]
    },
    {
     "name": "stderr",
     "output_type": "stream",
     "text": [
      "\r",
      " 51%|█████     | 51/100 [54:55:15<52:46:02, 3876.78s/it]"
     ]
    },
    {
     "name": "stdout",
     "output_type": "stream",
     "text": [
      "   \t      \t                         fitness                          \t              size             \n",
      "   \t      \t----------------------------------------------------------\t-------------------------------\n",
      "gen\tnevals\tavg     \tmax     \tmin     \tstd       \tavg    \tmax\tmin\tstd    \n",
      "0  \t300   \t0.518976\t0.523504\t0.489689\t0.00510835\t3.85333\t15 \t2  \t2.49903\n",
      "1  \t144   \t0.521435\t0.523504\t0.481148\t0.00459617\t2.75   \t13 \t1  \t1.50361\n",
      "2  \t174   \t0.521704\t0.523504\t0.496763\t0.00430105\t2.33667\t7  \t1  \t0.946919\n",
      "3  \t150   \t0.52305 \t0.523504\t0.510821\t0.00152417\t2.12667\t8  \t1  \t0.597736\n",
      "4  \t167   \t0.523378\t0.523504\t0.516996\t0.000670215\t2.06667\t8  \t1  \t0.531246\n",
      "5  \t189   \t0.523248\t0.523504\t0.512339\t0.00103413 \t2.07   \t8  \t1  \t0.570175\n",
      "6  \t163   \t0.523281\t0.523504\t0.517455\t0.000863273\t2.08333\t6  \t1  \t0.512889\n",
      "7  \t177   \t0.523193\t0.523504\t0.506843\t0.00141611 \t2.07333\t7  \t1  \t0.595502\n",
      "8  \t162   \t0.523082\t0.523504\t0.504679\t0.00173204 \t2.17667\t8  \t1  \t0.790857\n",
      "9  \t168   \t0.523277\t0.523504\t0.509504\t0.00121187 \t2.09333\t8  \t1  \t0.636099\n",
      "10 \t167   \t0.523061\t0.523504\t0.48988 \t0.0026093  \t2.10667\t7  \t1  \t0.699015\n",
      "n_features: 79, best_score: 0.523504, time: 5829.523659 second\n"
     ]
    },
    {
     "name": "stderr",
     "output_type": "stream",
     "text": [
      "\r",
      " 52%|█████▏    | 52/100 [56:32:28<52:11:31, 3914.40s/it]"
     ]
    },
    {
     "name": "stdout",
     "output_type": "stream",
     "text": [
      "   \t      \t                         fitness                          \t              size             \n",
      "   \t      \t----------------------------------------------------------\t-------------------------------\n",
      "gen\tnevals\tavg     \tmax     \tmin     \tstd       \tavg \tmax\tmin\tstd    \n",
      "0  \t300   \t0.519528\t0.523547\t0.478341\t0.00513229\t3.84\t14 \t2  \t2.41959\n",
      "1  \t160   \t0.521999\t0.523547\t0.502104\t0.00283529\t3.03\t13 \t1  \t1.57346\n",
      "2  \t166   \t0.522032\t0.523569\t0.504261\t0.00305312\t3.07667\t9  \t1  \t1.19894\n",
      "3  \t173   \t0.522384\t0.523586\t0.504855\t0.00239496\t3.18333\t9  \t1  \t1.2422 \n",
      "4  \t162   \t0.522788\t0.523586\t0.507349\t0.00178715\t3.21667\t9  \t1  \t0.873531\n",
      "5  \t149   \t0.52306 \t0.523586\t0.511093\t0.00142735\t3.08   \t9  \t1  \t0.583324\n",
      "6  \t168   \t0.52298 \t0.524616\t0.515132\t0.0011914 \t3.20333\t9  \t1  \t0.899253\n",
      "7  \t160   \t0.522996\t0.524616\t0.507893\t0.0015401 \t3.13333\t9  \t1  \t0.77603 \n",
      "8  \t172   \t0.522857\t0.524616\t0.507893\t0.00203203\t3.28667\t9  \t1  \t0.911677\n",
      "9  \t156   \t0.521715\t0.524616\t0.490937\t0.00546815\t3.94333\t9  \t1  \t1.23563 \n",
      "10 \t172   \t0.520061\t0.524616\t0.490937\t0.00767929\t4.91667\t11 \t1  \t1.21507 \n",
      "n_features: 80, best_score: 0.524616, time: 5864.033802 second\n"
     ]
    },
    {
     "name": "stderr",
     "output_type": "stream",
     "text": [
      "\r",
      " 53%|█████▎    | 53/100 [58:10:15<51:35:08, 3951.24s/it]"
     ]
    },
    {
     "name": "stdout",
     "output_type": "stream",
     "text": [
      "   \t      \t             fitness              \t             size             \n",
      "   \t      \t----------------------------------\t------------------------------\n",
      "gen\tnevals\tavg    \tmax   \tmin    \tstd       \tavg    \tmax\tmin\tstd   \n",
      "0  \t300   \t0.52123\t0.5252\t0.47876\t0.00497156\t3.83333\t15 \t2  \t2.5908\n",
      "1  \t147   \t0.523761\t0.525256\t0.507964\t0.00285533\t2.88   \t13 \t1  \t1.98803\n",
      "2  \t158   \t0.524082\t0.525256\t0.49703 \t0.00304238\t3.25333\t13 \t1  \t1.87683\n",
      "3  \t150   \t0.523877\t0.525256\t0.502906\t0.0029516 \t4.62333\t14 \t1  \t1.91697\n",
      "4  \t180   \t0.52372 \t0.525256\t0.505298\t0.00277301\t6.50667\t13 \t1  \t2.07604\n",
      "5  \t160   \t0.523477\t0.525301\t0.50901 \t0.00328533\t7.69   \t13 \t1  \t2.12459\n",
      "6  \t181   \t0.52283 \t0.525301\t0.509559\t0.00425234\t8.11333\t15 \t1  \t1.95119\n",
      "7  \t163   \t0.523378\t0.525301\t0.507696\t0.00358944\t8.48   \t15 \t1  \t2.0999 \n",
      "8  \t154   \t0.523648\t0.525301\t0.510138\t0.00351679\t8.89   \t15 \t1  \t1.71597\n",
      "9  \t178   \t0.523767\t0.525301\t0.507882\t0.00340348\t8.80667\t15 \t1  \t1.87686\n",
      "10 \t159   \t0.523953\t0.525301\t0.507752\t0.00314651\t9.01333\t16 \t3  \t1.61446\n",
      "n_features: 81, best_score: 0.525301, time: 5942.216966 second\n"
     ]
    },
    {
     "name": "stderr",
     "output_type": "stream",
     "text": [
      "\r",
      " 54%|█████▍    | 54/100 [59:49:21<50:57:35, 3988.17s/it]"
     ]
    },
    {
     "name": "stdout",
     "output_type": "stream",
     "text": [
      "   \t      \t                         fitness                          \t              size             \n",
      "   \t      \t----------------------------------------------------------\t-------------------------------\n",
      "gen\tnevals\tavg     \tmax     \tmin     \tstd       \tavg \tmax\tmin\tstd    \n",
      "0  \t300   \t0.520433\t0.525314\t0.469464\t0.00626157\t3.91\t14 \t2  \t2.57977\n",
      "1  \t190   \t0.523464\t0.525314\t0.490867\t0.00404093\t2.85333\t12 \t1  \t1.41132\n",
      "2  \t188   \t0.524662\t0.525344\t0.516017\t0.00131396\t2.62667\t12 \t1  \t1.16646\n",
      "3  \t141   \t0.524885\t0.525344\t0.507831\t0.00160263\t2.58333\t8  \t1  \t0.907224\n",
      "4  \t161   \t0.524711\t0.525344\t0.493143\t0.00238944\t3.09   \t8  \t1  \t0.872869\n",
      "5  \t156   \t0.524768\t0.525344\t0.508559\t0.00159177\t3.29333\t9  \t3  \t0.800389\n",
      "6  \t156   \t0.52478 \t0.525344\t0.509096\t0.00171957\t3.3    \t9  \t1  \t0.862168\n",
      "7  \t155   \t0.524899\t0.525344\t0.511747\t0.00122023\t3.28667\t9  \t1  \t0.878155\n",
      "8  \t159   \t0.524863\t0.525462\t0.504436\t0.00159363\t3.24667\t9  \t1  \t0.791089\n",
      "9  \t154   \t0.524653\t0.525462\t0.505483\t0.00188803\t3.50333\t10 \t1  \t1.32035 \n",
      "10 \t186   \t0.524584\t0.525462\t0.510861\t0.00189127\t3.85   \t9  \t1  \t1.78909 \n",
      "n_features: 82, best_score: 0.525462, time: 6031.003516 second\n"
     ]
    },
    {
     "name": "stderr",
     "output_type": "stream",
     "text": [
      "\r",
      " 55%|█████▌    | 55/100 [61:29:55<50:19:01, 4025.37s/it]"
     ]
    },
    {
     "name": "stdout",
     "output_type": "stream",
     "text": [
      "   \t      \t                         fitness                          \t              size             \n",
      "   \t      \t----------------------------------------------------------\t-------------------------------\n",
      "gen\tnevals\tavg     \tmax     \tmin     \tstd       \tavg \tmax\tmin\tstd    \n",
      "0  \t300   \t0.521159\t0.525367\t0.467934\t0.00569602\t3.81\t13 \t2  \t2.28631\n",
      "1  \t171   \t0.523801\t0.525367\t0.50355 \t0.00287531\t3.06333\t11 \t1  \t1.70665\n",
      "2  \t170   \t0.523974\t0.525573\t0.506862\t0.00267852\t3.16667\t11 \t1  \t1.78107\n",
      "3  \t162   \t0.524217\t0.525573\t0.487078\t0.00349995\t3.28   \t11 \t1  \t2.04653\n",
      "4  \t154   \t0.524413\t0.525573\t0.492182\t0.00356572\t2.95333\t10 \t1  \t1.58045\n",
      "5  \t177   \t0.52394 \t0.525573\t0.509488\t0.00350469\t4.72333\t10 \t1  \t1.62485\n",
      "6  \t173   \t0.52378 \t0.525573\t0.492182\t0.00403178\t4.96333\t11 \t1  \t1.61926\n",
      "7  \t175   \t0.524121\t0.525573\t0.509488\t0.00340909\t4.97333\t11 \t1  \t1.50752\n",
      "8  \t161   \t0.524133\t0.525573\t0.504498\t0.00336418\t5.05   \t14 \t1  \t1.37386\n",
      "9  \t143   \t0.524484\t0.525573\t0.508751\t0.00286135\t5      \t11 \t1  \t1.27279\n",
      "10 \t170   \t0.523998\t0.525573\t0.501513\t0.00355417\t5.02667\t10 \t1  \t1.30101\n",
      "n_features: 83, best_score: 0.525573, time: 6174.711515 second\n"
     ]
    },
    {
     "name": "stderr",
     "output_type": "stream",
     "text": [
      "\r",
      " 56%|█████▌    | 56/100 [63:12:53<49:40:07, 4063.81s/it]"
     ]
    },
    {
     "name": "stdout",
     "output_type": "stream",
     "text": [
      "   \t      \t                         fitness                         \t              size             \n",
      "   \t      \t---------------------------------------------------------\t-------------------------------\n",
      "gen\tnevals\tavg     \tmax     \tmin     \tstd      \tavg    \tmax\tmin\tstd    \n",
      "0  \t300   \t0.520878\t0.525737\t0.463475\t0.0071919\t4.06333\t14 \t2  \t2.66195\n",
      "1  \t165   \t0.52443 \t0.525922\t0.51124 \t0.00251435\t2.98333\t12 \t1  \t1.54803\n",
      "2  \t174   \t0.525008\t0.525922\t0.508513\t0.00210055\t2.42   \t8  \t1  \t1.1241 \n",
      "3  \t186   \t0.525151\t0.525922\t0.515041\t0.00188863\t2.29   \t9  \t1  \t0.882742\n",
      "4  \t144   \t0.524783\t0.525922\t0.512081\t0.00273622\t2.48   \t9  \t1  \t0.865794\n",
      "5  \t163   \t0.525143\t0.525922\t0.515041\t0.00216301\t3.01667\t9  \t1  \t0.84245 \n",
      "6  \t172   \t0.525468\t0.525922\t0.493261\t0.0023206 \t3.14333\t9  \t1  \t0.818203\n",
      "7  \t166   \t0.525378\t0.525922\t0.509207\t0.00205002\t3.09667\t9  \t1  \t0.68361 \n",
      "8  \t181   \t0.525498\t0.525922\t0.50394 \t0.00179405\t3.15333\t9  \t1  \t0.943304\n",
      "9  \t174   \t0.525489\t0.525922\t0.509049\t0.00168677\t3.12   \t9  \t1  \t0.773908\n",
      "10 \t143   \t0.525697\t0.525922\t0.519435\t0.000635884\t3.07667\t9  \t1  \t0.656345\n",
      "n_features: 84, best_score: 0.525922, time: 6330.962646 second\n"
     ]
    },
    {
     "name": "stderr",
     "output_type": "stream",
     "text": [
      "\r",
      " 57%|█████▋    | 57/100 [64:58:27<49:00:56, 4103.65s/it]"
     ]
    },
    {
     "name": "stdout",
     "output_type": "stream",
     "text": [
      "   \t      \t                         fitness                          \t              size             \n",
      "   \t      \t----------------------------------------------------------\t-------------------------------\n",
      "gen\tnevals\tavg     \tmax     \tmin     \tstd       \tavg    \tmax\tmin\tstd    \n",
      "0  \t300   \t0.521811\t0.526075\t0.491431\t0.00451622\t3.97333\t13 \t2  \t2.38313\n",
      "1  \t150   \t0.524869\t0.526075\t0.510183\t0.00215783\t2.95333\t12 \t1  \t1.37277\n",
      "2  \t176   \t0.525016\t0.526075\t0.489775\t0.0027985 \t2.69   \t8  \t1  \t0.955981\n",
      "3  \t145   \t0.525112\t0.526075\t0.512225\t0.00231994\t2.53   \t8  \t1  \t0.767529\n",
      "4  \t153   \t0.524721\t0.526075\t0.508135\t0.00278225\t2.97   \t7  \t1  \t0.6291  \n",
      "5  \t172   \t0.525026\t0.526075\t0.498754\t0.002344  \t3.12667\t8  \t1  \t0.624998\n",
      "6  \t163   \t0.525045\t0.526075\t0.506267\t0.00213847\t3.07333\t8  \t1  \t0.731179\n",
      "7  \t159   \t0.525132\t0.526075\t0.50864 \t0.00213201\t3.1    \t9  \t1  \t0.619139\n",
      "8  \t151   \t0.525309\t0.526075\t0.510469\t0.00191339\t3.05   \t9  \t1  \t0.633114\n",
      "9  \t168   \t0.52491 \t0.526075\t0.500722\t0.0026954 \t3.12333\t8  \t1  \t0.72672 \n",
      "10 \t143   \t0.52523 \t0.526075\t0.508903\t0.00200329\t3.05667\t8  \t1  \t0.571655\n",
      "n_features: 85, best_score: 0.526075, time: 6217.093078 second\n"
     ]
    },
    {
     "name": "stderr",
     "output_type": "stream",
     "text": [
      "\r",
      " 58%|█████▊    | 58/100 [66:42:08<48:18:06, 4140.14s/it]"
     ]
    },
    {
     "name": "stdout",
     "output_type": "stream",
     "text": [
      "   \t      \t                     fitness                      \t            size           \n",
      "   \t      \t--------------------------------------------------\t---------------------------\n",
      "gen\tnevals\tavg    \tmax     \tmin     \tstd       \tavg    \tmax\tmin\tstd\n",
      "0  \t300   \t0.52176\t0.526007\t0.492223\t0.00487097\t3.66333\t14 \t2  \t2.5\n",
      "1  \t165   \t0.524496\t0.526007\t0.492919\t0.00282215\t2.74667\t10 \t1  \t1.28938\n",
      "2  \t173   \t0.524608\t0.526046\t0.492223\t0.00340701\t2.64667\t10 \t1  \t0.928344\n",
      "3  \t157   \t0.524983\t0.526046\t0.480228\t0.00333672\t3.13667\t9  \t1  \t1.07919 \n",
      "4  \t172   \t0.524975\t0.526046\t0.488651\t0.00332955\t3.64667\t11 \t1  \t1.30454 \n",
      "5  \t190   \t0.52462 \t0.526046\t0.465543\t0.00497025\t4.48333\t11 \t1  \t1.25554 \n",
      "6  \t150   \t0.525353\t0.526046\t0.515327\t0.00121019\t5.21333\t11 \t1  \t1.29916 \n",
      "7  \t155   \t0.525318\t0.526046\t0.513178\t0.00147863\t5.23333\t10 \t1  \t1.30597 \n",
      "8  \t184   \t0.525217\t0.526046\t0.5128  \t0.00141974\t5.53333\t13 \t1  \t1.62138 \n",
      "9  \t144   \t0.525414\t0.526046\t0.515898\t0.00120593\t5.67667\t12 \t1  \t1.70062 \n",
      "10 \t180   \t0.525185\t0.526046\t0.505637\t0.00194705\t6.03333\t12 \t1  \t1.91804 \n"
     ]
    },
    {
     "name": "stderr",
     "output_type": "stream",
     "text": [
      "\r",
      " 59%|█████▉    | 59/100 [68:32:14<47:37:39, 4181.94s/it]"
     ]
    },
    {
     "name": "stdout",
     "output_type": "stream",
     "text": [
      "   \t      \t                         fitness                          \t              size             \n",
      "   \t      \t----------------------------------------------------------\t-------------------------------\n",
      "gen\tnevals\tavg     \tmax     \tmin     \tstd       \tavg \tmax\tmin\tstd    \n",
      "0  \t300   \t0.521876\t0.525517\t0.492223\t0.00457394\t3.96\t14 \t2  \t2.65174\n",
      "1  \t171   \t0.524389\t0.525714\t0.480328\t0.00306352\t2.87667\t12 \t1  \t1.97183\n",
      "2  \t164   \t0.524504\t0.525714\t0.500633\t0.00278042\t3.43   \t14 \t1  \t2.68671\n",
      "3  \t191   \t0.524637\t0.525714\t0.491058\t0.00332662\t3.26333\t17 \t1  \t2.15886\n",
      "4  \t168   \t0.524742\t0.525714\t0.500895\t0.00276776\t4.58   \t11 \t1  \t2.88391\n",
      "5  \t168   \t0.524924\t0.525732\t0.512007\t0.00197094\t7.33667\t16 \t2  \t2.83725\n",
      "6  \t153   \t0.524934\t0.525811\t0.500286\t0.00238415\t8.52667\t16 \t1  \t2.63489\n",
      "7  \t164   \t0.525036\t0.525811\t0.503765\t0.00228353\t9.51333\t18 \t1  \t3.03257\n",
      "8  \t154   \t0.524978\t0.525811\t0.502448\t0.0023953 \t12.0033\t20 \t1  \t3.1859 \n",
      "9  \t174   \t0.524998\t0.525811\t0.506464\t0.0025796 \t14.01  \t23 \t2  \t2.82192\n",
      "10 \t186   \t0.524993\t0.525841\t0.503765\t0.0028177 \t14.1867\t22 \t4  \t2.69663\n"
     ]
    },
    {
     "name": "stderr",
     "output_type": "stream",
     "text": [
      "\r",
      " 60%|██████    | 60/100 [70:23:24<46:55:36, 4223.42s/it]"
     ]
    },
    {
     "name": "stdout",
     "output_type": "stream",
     "text": [
      "   \t      \t                         fitness                          \t              size             \n",
      "   \t      \t----------------------------------------------------------\t-------------------------------\n",
      "gen\tnevals\tavg     \tmax     \tmin     \tstd       \tavg    \tmax\tmin\tstd    \n",
      "0  \t300   \t0.522342\t0.525517\t0.492223\t0.00445637\t3.78667\t15 \t2  \t2.40579\n",
      "1  \t140   \t0.524337\t0.525517\t0.492223\t0.00293567\t2.92667\t14 \t1  \t2.09792\n",
      "2  \t153   \t0.524937\t0.525615\t0.511054\t0.00178331\t2.55   \t14 \t1  \t1.92549\n",
      "3  \t181   \t0.524667\t0.525615\t0.506715\t0.00222945\t2.22333\t8  \t1  \t0.808366\n",
      "4  \t153   \t0.525333\t0.525615\t0.518116\t0.000936315\t2.21   \t8  \t1  \t0.948279\n",
      "5  \t146   \t0.525362\t0.525615\t0.515004\t0.00102242 \t2.10667\t6  \t1  \t0.567411\n",
      "6  \t164   \t0.525294\t0.525615\t0.498588\t0.00190791 \t2.15   \t8  \t1  \t0.766485\n",
      "7  \t158   \t0.52518 \t0.525615\t0.496569\t0.00229964 \t2.20667\t8  \t1  \t0.900346\n",
      "8  \t145   \t0.525341\t0.525615\t0.502939\t0.00160663 \t2.12667\t7  \t1  \t0.640798\n",
      "9  \t162   \t0.525234\t0.525615\t0.50593 \t0.00179017 \t2.14   \t8  \t1  \t0.693109\n",
      "10 \t150   \t0.525392\t0.525615\t0.510604\t0.00130416 \t2.14667\t8  \t1  \t0.733818\n"
     ]
    },
    {
     "name": "stderr",
     "output_type": "stream",
     "text": [
      "\r",
      " 61%|██████    | 61/100 [72:06:34<46:06:10, 4255.65s/it]"
     ]
    },
    {
     "name": "stdout",
     "output_type": "stream",
     "text": [
      "   \t      \t                         fitness                          \t              size             \n",
      "   \t      \t----------------------------------------------------------\t-------------------------------\n",
      "gen\tnevals\tavg     \tmax     \tmin     \tstd       \tavg    \tmax\tmin\tstd    \n",
      "0  \t300   \t0.521939\t0.525615\t0.491255\t0.00485291\t3.92333\t14 \t2  \t2.60847\n",
      "1  \t174   \t0.524085\t0.525615\t0.469323\t0.00470292\t3.11667\t13 \t1  \t1.94158\n",
      "2  \t191   \t0.524866\t0.525615\t0.509533\t0.0021295 \t2.75667\t8  \t1  \t1.18777\n",
      "3  \t172   \t0.525257\t0.525615\t0.502469\t0.00199326\t2.81333\t9  \t1  \t1.18258\n",
      "4  \t162   \t0.525373\t0.525615\t0.511924\t0.0011422 \t2.79   \t9  \t1  \t1.07977\n",
      "5  \t166   \t0.525354\t0.525615\t0.514038\t0.0010835 \t2.90667\t9  \t1  \t1.07918\n",
      "6  \t153   \t0.525337\t0.525615\t0.511161\t0.00128992\t2.91667\t10 \t1  \t1.18451\n",
      "7  \t145   \t0.525173\t0.525615\t0.502448\t0.00205168\t3.05   \t10 \t1  \t1.18638\n",
      "8  \t155   \t0.525386\t0.525615\t0.514999\t0.00108206\t3      \t9  \t1  \t1.18603\n",
      "9  \t168   \t0.525315\t0.525615\t0.506699\t0.00168744\t2.98   \t7  \t1  \t1.17172\n",
      "10 \t159   \t0.525408\t0.525615\t0.515327\t0.00111032\t2.91   \t8  \t1  \t1.12631\n"
     ]
    },
    {
     "name": "stderr",
     "output_type": "stream",
     "text": [
      "\r",
      " 62%|██████▏   | 62/100 [73:54:51<45:18:08, 4291.81s/it]"
     ]
    },
    {
     "name": "stdout",
     "output_type": "stream",
     "text": [
      "   \t      \t                         fitness                         \t              size             \n",
      "   \t      \t---------------------------------------------------------\t-------------------------------\n",
      "gen\tnevals\tavg     \tmax     \tmin     \tstd      \tavg    \tmax\tmin\tstd    \n",
      "0  \t300   \t0.521191\t0.525489\t0.491728\t0.0055454\t4.00667\t14 \t2  \t2.70061\n",
      "1  \t177   \t0.523964\t0.525489\t0.488036\t0.00358461\t2.94   \t11 \t1  \t1.5609 \n",
      "2  \t167   \t0.524752\t0.525615\t0.500926\t0.00242843\t2.69333\t11 \t1  \t1.50087\n",
      "3  \t152   \t0.525008\t0.525615\t0.508517\t0.00199065\t2.30667\t7  \t1  \t0.863687\n",
      "4  \t182   \t0.524815\t0.525615\t0.507893\t0.00263552\t2.44333\t8  \t1  \t0.920211\n",
      "5  \t158   \t0.525141\t0.525615\t0.509533\t0.00153034\t2.91667\t7  \t2  \t0.826472\n",
      "6  \t157   \t0.525283\t0.525615\t0.514326\t0.00102148\t3.06333\t7  \t1  \t0.687499\n",
      "7  \t177   \t0.525125\t0.525615\t0.509482\t0.00144635\t3.20333\t7  \t1  \t0.845767\n",
      "8  \t155   \t0.525009\t0.525615\t0.508278\t0.00204288\t3.40333\t8  \t1  \t1.01357 \n",
      "9  \t165   \t0.525335\t0.525615\t0.503494\t0.00150229\t3.48667\t7  \t1  \t1.03432 \n",
      "10 \t163   \t0.525016\t0.525615\t0.500807\t0.00236881\t3.57667\t8  \t1  \t1.18777 \n"
     ]
    },
    {
     "name": "stderr",
     "output_type": "stream",
     "text": [
      "\r",
      " 63%|██████▎   | 63/100 [75:43:45<44:28:33, 4327.38s/it]"
     ]
    },
    {
     "name": "stdout",
     "output_type": "stream",
     "text": [
      "   \t      \t                         fitness                          \t              size             \n",
      "   \t      \t----------------------------------------------------------\t-------------------------------\n",
      "gen\tnevals\tavg     \tmax     \tmin     \tstd       \tavg    \tmax\tmin\tstd    \n",
      "0  \t300   \t0.521949\t0.525615\t0.496612\t0.00455683\t3.80667\t15 \t2  \t2.38243\n",
      "1  \t165   \t0.524206\t0.525615\t0.492512\t0.0033811 \t2.86333\t11 \t1  \t1.73532\n",
      "2  \t173   \t0.524911\t0.525615\t0.504412\t0.00222688\t3.00667\t10 \t1  \t1.99665\n",
      "3  \t146   \t0.525193\t0.525615\t0.513887\t0.001548  \t2.63667\t10 \t1  \t1.68859\n",
      "4  \t166   \t0.52537 \t0.525615\t0.509765\t0.00126696\t2.10333\t7  \t1  \t0.615891\n",
      "5  \t159   \t0.525285\t0.525615\t0.491728\t0.00228686\t2.1    \t7  \t1  \t0.608276\n",
      "6  \t165   \t0.525182\t0.525615\t0.508517\t0.00200395\t2.14333\t8  \t1  \t0.776395\n",
      "7  \t158   \t0.525266\t0.525615\t0.502387\t0.00170687\t2.13   \t7  \t1  \t0.734688\n",
      "8  \t147   \t0.52512 \t0.525615\t0.508765\t0.00201748\t2.14667\t8  \t1  \t0.7013  \n",
      "9  \t168   \t0.525366\t0.525615\t0.506839\t0.00152458\t2.05   \t6  \t1  \t0.366288\n",
      "10 \t159   \t0.525302\t0.525615\t0.505848\t0.00165818\t2.11667\t6  \t1  \t0.538259\n"
     ]
    },
    {
     "name": "stderr",
     "output_type": "stream",
     "text": [
      "\r",
      " 64%|██████▍   | 64/100 [77:29:50<43:35:32, 4359.23s/it]"
     ]
    },
    {
     "name": "stdout",
     "output_type": "stream",
     "text": [
      "   \t      \t                         fitness                          \t              size             \n",
      "   \t      \t----------------------------------------------------------\t-------------------------------\n",
      "gen\tnevals\tavg     \tmax     \tmin     \tstd       \tavg\tmax\tmin\tstd    \n",
      "0  \t300   \t0.521971\t0.525635\t0.492223\t0.00490145\t3.8\t13 \t2  \t2.31948\n",
      "1  \t159   \t0.523999\t0.525635\t0.480655\t0.00402346\t2.78667\t10 \t1  \t1.40279\n",
      "2  \t171   \t0.523818\t0.525635\t0.488971\t0.00473284\t2.54333\t8  \t2  \t0.895241\n",
      "3  \t162   \t0.523966\t0.525635\t0.491863\t0.00391917\t2.82333\t8  \t1  \t0.901178\n",
      "4  \t159   \t0.525088\t0.525635\t0.498136\t0.00229551\t3.08   \t9  \t1  \t0.761752\n",
      "5  \t156   \t0.525305\t0.525635\t0.505961\t0.00159913\t3.11667\t8  \t1  \t0.695022\n",
      "6  \t164   \t0.525039\t0.525765\t0.5088  \t0.00205069\t3.15333\t8  \t1  \t0.759269\n",
      "7  \t191   \t0.525254\t0.525765\t0.502223\t0.00162314\t3.28333\t9  \t1  \t1.07536 \n",
      "8  \t137   \t0.525111\t0.525765\t0.507807\t0.00188986\t4.24667\t12 \t1  \t2.15542 \n",
      "9  \t173   \t0.524652\t0.525772\t0.501685\t0.00293127\t6.78   \t13 \t1  \t2.44641 \n",
      "10 \t161   \t0.524818\t0.525772\t0.509865\t0.00237747\t8.00667\t14 \t1  \t2.11974 \n"
     ]
    },
    {
     "name": "stderr",
     "output_type": "stream",
     "text": [
      "\r",
      " 65%|██████▌   | 65/100 [79:18:24<42:42:12, 4392.37s/it]"
     ]
    },
    {
     "name": "stdout",
     "output_type": "stream",
     "text": [
      "   \t      \t                         fitness                          \t              size             \n",
      "   \t      \t----------------------------------------------------------\t-------------------------------\n",
      "gen\tnevals\tavg     \tmax     \tmin     \tstd       \tavg    \tmax\tmin\tstd    \n",
      "0  \t300   \t0.521859\t0.525615\t0.474191\t0.00558473\t3.83667\t15 \t2  \t2.46914\n",
      "1  \t174   \t0.524382\t0.525615\t0.511924\t0.00220054\t2.86667\t9  \t1  \t1.26579\n",
      "2  \t178   \t0.524549\t0.525615\t0.508517\t0.00261814\t2.57667\t8  \t1  \t0.992029\n",
      "3  \t177   \t0.52537 \t0.525615\t0.5156  \t0.00106199\t2.6    \t8  \t1  \t1.02307 \n",
      "4  \t156   \t0.525305\t0.525615\t0.51458 \t0.00138851\t2.52333\t8  \t1  \t0.928864\n",
      "5  \t150   \t0.525257\t0.525615\t0.475097\t0.00307971\t2.46667\t7  \t1  \t0.780313\n",
      "6  \t162   \t0.525449\t0.525615\t0.515721\t0.000937126\t2.46   \t6  \t1  \t0.801083\n",
      "7  \t179   \t0.524927\t0.525615\t0.499622\t0.00285318 \t2.60667\t7  \t1  \t1.04497 \n",
      "8  \t171   \t0.525421\t0.525615\t0.517513\t0.000926104\t2.54333\t8  \t1  \t0.924548\n",
      "9  \t158   \t0.525281\t0.525615\t0.508724\t0.00162468 \t2.55667\t7  \t1  \t0.864169\n",
      "10 \t145   \t0.525262\t0.525615\t0.505745\t0.00172055 \t2.65333\t8  \t1  \t1.02623 \n"
     ]
    },
    {
     "name": "stderr",
     "output_type": "stream",
     "text": [
      "\r",
      " 66%|██████▌   | 66/100 [81:06:55<41:47:12, 4424.48s/it]"
     ]
    },
    {
     "name": "stdout",
     "output_type": "stream",
     "text": [
      "   \t      \t                         fitness                          \t             size             \n",
      "   \t      \t----------------------------------------------------------\t------------------------------\n",
      "gen\tnevals\tavg     \tmax     \tmin     \tstd       \tavg \tmax\tmin\tstd   \n",
      "0  \t300   \t0.521308\t0.525615\t0.475123\t0.00586629\t3.79\t15 \t2  \t2.5663\n",
      "1  \t159   \t0.524537\t0.525615\t0.504214\t0.00213016\t2.82\t15 \t1  \t1.84958\n",
      "2  \t170   \t0.524227\t0.525615\t0.506464\t0.00263055\t2.81333\t13 \t1  \t1.81984\n",
      "3  \t183   \t0.524211\t0.525615\t0.511208\t0.00279249\t2.64667\t13 \t1  \t1.29942\n",
      "4  \t152   \t0.525216\t0.525615\t0.51299 \t0.00167244\t2.10667\t7  \t1  \t0.567411\n",
      "5  \t183   \t0.525272\t0.525615\t0.50868 \t0.00167677\t2.11667\t8  \t1  \t0.645282\n",
      "6  \t172   \t0.525361\t0.525615\t0.513166\t0.00128306\t2.17   \t8  \t1  \t0.792317\n",
      "7  \t148   \t0.525266\t0.525615\t0.508765\t0.00170017\t2.16333\t7  \t1  \t0.737104\n",
      "8  \t181   \t0.525255\t0.525615\t0.492223\t0.00238873\t2.12   \t8  \t1  \t0.72037 \n",
      "9  \t174   \t0.525219\t0.525615\t0.50201 \t0.00202736\t2.09   \t8  \t1  \t0.590395\n",
      "10 \t158   \t0.525281\t0.525615\t0.51448 \t0.00145063\t2.06667\t6  \t1  \t0.492161\n"
     ]
    },
    {
     "name": "stderr",
     "output_type": "stream",
     "text": [
      "\r",
      " 67%|██████▋   | 67/100 [82:57:15<40:51:29, 4457.25s/it]"
     ]
    },
    {
     "name": "stdout",
     "output_type": "stream",
     "text": [
      "   \t      \t                         fitness                          \t              size             \n",
      "   \t      \t----------------------------------------------------------\t-------------------------------\n",
      "gen\tnevals\tavg     \tmax     \tmin     \tstd       \tavg    \tmax\tmin\tstd    \n",
      "0  \t300   \t0.521678\t0.525516\t0.483447\t0.00554643\t3.84667\t13 \t2  \t2.56056\n",
      "1  \t163   \t0.524419\t0.525586\t0.50036 \t0.00255104\t2.82   \t13 \t1  \t1.36171\n",
      "2  \t162   \t0.524703\t0.525586\t0.495846\t0.00289811\t2.96   \t9  \t1  \t1.32856\n",
      "3  \t173   \t0.524205\t0.525586\t0.503887\t0.00313297\t4.34   \t9  \t1  \t1.5762 \n",
      "4  \t180   \t0.524396\t0.525586\t0.507603\t0.00299018\t4.87   \t10 \t1  \t1.48091\n",
      "5  \t190   \t0.525146\t0.525586\t0.509533\t0.00152511\t4.96   \t10 \t1  \t1.58695\n",
      "6  \t165   \t0.52518 \t0.525586\t0.504492\t0.00165697\t4.96667\t11 \t1  \t1.49183\n",
      "7  \t168   \t0.525119\t0.525586\t0.509891\t0.0016814 \t4.94   \t10 \t2  \t1.39155\n",
      "8  \t156   \t0.525303\t0.525586\t0.510135\t0.00125783\t4.94   \t9  \t1  \t1.36005\n",
      "9  \t164   \t0.525189\t0.525586\t0.507706\t0.00155704\t4.98   \t10 \t1  \t1.50098\n",
      "10 \t157   \t0.525275\t0.525586\t0.507986\t0.00127302\t4.97333\t11 \t1  \t1.50752\n"
     ]
    },
    {
     "name": "stderr",
     "output_type": "stream",
     "text": [
      "\r",
      " 68%|██████▊   | 68/100 [84:47:19<39:54:02, 4488.81s/it]"
     ]
    },
    {
     "name": "stdout",
     "output_type": "stream",
     "text": [
      "   \t      \t                         fitness                          \t              size             \n",
      "   \t      \t----------------------------------------------------------\t-------------------------------\n",
      "gen\tnevals\tavg     \tmax     \tmin     \tstd       \tavg \tmax\tmin\tstd    \n",
      "0  \t300   \t0.521991\t0.525615\t0.497166\t0.00407045\t3.61\t14 \t2  \t2.24155\n",
      "1  \t154   \t0.524434\t0.525615\t0.504745\t0.00258667\t2.78\t8  \t1  \t1.07932\n",
      "2  \t166   \t0.523935\t0.525714\t0.468887\t0.00722023\t2.79667\t8  \t1  \t1.04658\n",
      "3  \t166   \t0.525338\t0.525714\t0.504791\t0.00147757\t2.44333\t7  \t1  \t0.85642\n",
      "4  \t157   \t0.52524 \t0.525714\t0.514787\t0.00127922\t2.79   \t8  \t1  \t1.32385\n",
      "5  \t170   \t0.524952\t0.525714\t0.510799\t0.00158608\t3.74333\t10 \t1  \t1.62608\n",
      "6  \t176   \t0.525216\t0.525714\t0.511724\t0.0011843 \t5.11   \t12 \t1  \t1.21569\n",
      "7  \t139   \t0.525276\t0.525714\t0.520793\t0.000908038\t5.16333\t10 \t1  \t1.18743\n",
      "8  \t170   \t0.525113\t0.525714\t0.51101 \t0.00146512 \t5.19   \t12 \t1  \t1.29379\n",
      "9  \t173   \t0.52518 \t0.525714\t0.517473\t0.00108403 \t5.12   \t9  \t2  \t1.01928\n",
      "10 \t178   \t0.524984\t0.525714\t0.481744\t0.00280571 \t5.16   \t10 \t1  \t1.2627 \n"
     ]
    },
    {
     "name": "stderr",
     "output_type": "stream",
     "text": [
      "\r",
      " 69%|██████▉   | 69/100 [86:35:46<38:54:20, 4518.07s/it]"
     ]
    },
    {
     "name": "stdout",
     "output_type": "stream",
     "text": [
      "   \t      \t                         fitness                          \t              size             \n",
      "   \t      \t----------------------------------------------------------\t-------------------------------\n",
      "gen\tnevals\tavg     \tmax     \tmin     \tstd       \tavg    \tmax\tmin\tstd    \n",
      "0  \t300   \t0.522026\t0.525615\t0.471977\t0.00614235\t3.81667\t14 \t2  \t2.33446\n",
      "1  \t185   \t0.524433\t0.525615\t0.50192 \t0.00248743\t3.01   \t11 \t1  \t1.56095\n",
      "2  \t181   \t0.525096\t0.525615\t0.515873\t0.00141703\t2.64   \t8  \t1  \t1.06945\n",
      "3  \t163   \t0.525458\t0.525615\t0.518976\t0.000712835\t2.25667\t6  \t1  \t0.640928\n",
      "4  \t152   \t0.525355\t0.525615\t0.511924\t0.0011796  \t2.21667\t6  \t1  \t0.596983\n",
      "5  \t159   \t0.52534 \t0.525615\t0.505182\t0.00167645 \t2.23333\t8  \t1  \t0.747589\n",
      "6  \t150   \t0.525244\t0.525615\t0.506286\t0.00165442 \t2.27333\t7  \t1  \t0.815652\n",
      "7  \t172   \t0.525402\t0.525615\t0.51458 \t0.00101115 \t2.21   \t7  \t1  \t0.734325\n",
      "8  \t177   \t0.525302\t0.525615\t0.502122\t0.00174769 \t2.24333\t7  \t1  \t0.710016\n",
      "9  \t158   \t0.525372\t0.525615\t0.504352\t0.00144376 \t2.22   \t8  \t1  \t0.672012\n",
      "10 \t165   \t0.525368\t0.525615\t0.513127\t0.00128968 \t2.23   \t8  \t1  \t0.759671\n"
     ]
    },
    {
     "name": "stderr",
     "output_type": "stream",
     "text": [
      "\r",
      " 70%|███████   | 70/100 [88:24:56<37:53:32, 4547.09s/it]"
     ]
    },
    {
     "name": "stdout",
     "output_type": "stream",
     "text": [
      "   \t      \t                         fitness                          \t              size             \n",
      "   \t      \t----------------------------------------------------------\t-------------------------------\n",
      "gen\tnevals\tavg     \tmax     \tmin     \tstd       \tavg    \tmax\tmin\tstd    \n",
      "0  \t300   \t0.521728\t0.525517\t0.501619\t0.00448665\t3.60667\t15 \t2  \t2.09888\n",
      "1  \t162   \t0.523977\t0.525517\t0.492512\t0.00362229\t2.68   \t9  \t1  \t1.30548\n",
      "2  \t153   \t0.524562\t0.525615\t0.482968\t0.00331304\t2.76333\t8  \t1  \t1.12279\n",
      "3  \t181   \t0.524956\t0.525615\t0.492223\t0.00243641\t2.87333\t9  \t1  \t0.874046\n",
      "4  \t177   \t0.525283\t0.525615\t0.514461\t0.0013231 \t2.52   \t8  \t1  \t0.896065\n",
      "5  \t172   \t0.525419\t0.525615\t0.514246\t0.00110781\t2.06333\t7  \t1  \t0.468319\n",
      "6  \t168   \t0.525134\t0.525615\t0.492223\t0.00250674\t2.16667\t8  \t1  \t0.773879\n",
      "7  \t171   \t0.525092\t0.525615\t0.505918\t0.00245566\t2.16   \t7  \t1  \t0.664129\n",
      "8  \t174   \t0.525334\t0.525615\t0.4924  \t0.00208681\t2.13667\t8  \t1  \t0.620206\n",
      "9  \t191   \t0.525346\t0.525615\t0.506295\t0.00152517\t2.14333\t7  \t1  \t0.680286\n",
      "10 \t153   \t0.525369\t0.525615\t0.51866 \t0.00101135\t2.12333\t7  \t1  \t0.659385\n"
     ]
    },
    {
     "name": "stderr",
     "output_type": "stream",
     "text": [
      "\r",
      " 71%|███████   | 71/100 [90:16:24<36:52:20, 4577.25s/it]"
     ]
    },
    {
     "name": "stdout",
     "output_type": "stream",
     "text": [
      "   \t      \t                         fitness                          \t             size             \n",
      "   \t      \t----------------------------------------------------------\t------------------------------\n",
      "gen\tnevals\tavg     \tmax     \tmin     \tstd       \tavg \tmax\tmin\tstd   \n",
      "0  \t300   \t0.521572\t0.525506\t0.482916\t0.00546449\t3.85\t15 \t2  \t2.4821\n",
      "1  \t158   \t0.524374\t0.525506\t0.500745\t0.00294564\t2.68\t8  \t1  \t1.16802\n",
      "2  \t163   \t0.524943\t0.525663\t0.506956\t0.00201672\t2.82\t9  \t1  \t1.40509\n",
      "3  \t159   \t0.524839\t0.5258  \t0.509028\t0.00186447\t4.29667\t9  \t1  \t1.92232\n",
      "4  \t153   \t0.525122\t0.5258  \t0.513833\t0.00136552\t6.06667\t14 \t2  \t1.37194\n",
      "5  \t159   \t0.525211\t0.5258  \t0.511469\t0.00143644\t6.77   \t13 \t1  \t1.88249\n",
      "6  \t160   \t0.525262\t0.5258  \t0.499641\t0.00169661\t7.97667\t12 \t4  \t1.55867\n",
      "7  \t179   \t0.524962\t0.5258  \t0.505135\t0.00207098\t8.00667\t15 \t1  \t1.89911\n",
      "8  \t176   \t0.524992\t0.5258  \t0.51223 \t0.00151125\t8.04333\t14 \t1  \t1.88895\n",
      "9  \t140   \t0.525257\t0.5258  \t0.519033\t0.00115609\t8.04333\t14 \t2  \t1.57526\n",
      "10 \t144   \t0.525169\t0.5258  \t0.508446\t0.00156446\t7.97667\t14 \t1  \t1.72321\n"
     ]
    },
    {
     "name": "stderr",
     "output_type": "stream",
     "text": [
      "\r",
      " 72%|███████▏  | 72/100 [92:02:21<35:47:34, 4601.96s/it]"
     ]
    },
    {
     "name": "stdout",
     "output_type": "stream",
     "text": [
      "   \t      \t                         fitness                         \t              size             \n",
      "   \t      \t---------------------------------------------------------\t-------------------------------\n",
      "gen\tnevals\tavg     \tmax     \tmin     \tstd      \tavg\tmax\tmin\tstd    \n",
      "0  \t300   \t0.521864\t0.525615\t0.497354\t0.0047264\t4  \t13 \t2  \t2.56775\n",
      "1  \t159   \t0.523845\t0.525615\t0.479122\t0.00475947\t3.15333\t16 \t1  \t2.14705\n",
      "2  \t148   \t0.524683\t0.525615\t0.505136\t0.00240841\t3.25333\t15 \t1  \t2.45815\n",
      "3  \t153   \t0.525205\t0.525615\t0.493345\t0.00217653\t2.73   \t11 \t1  \t1.06322\n",
      "4  \t172   \t0.525337\t0.525615\t0.515622\t0.00119284\t2.74667\t9  \t1  \t0.949994\n",
      "5  \t170   \t0.525307\t0.525615\t0.511454\t0.00142361\t2.74667\t9  \t1  \t1.12063 \n",
      "6  \t161   \t0.525267\t0.525615\t0.511934\t0.0016132 \t2.74667\t8  \t1  \t1.00124 \n",
      "7  \t169   \t0.525353\t0.525615\t0.515063\t0.00124784\t2.8    \t9  \t1  \t1.05515 \n",
      "8  \t143   \t0.525322\t0.525615\t0.507706\t0.00170929\t2.71333\t7  \t1  \t0.975272\n",
      "9  \t176   \t0.52511 \t0.525615\t0.505567\t0.00220567\t2.67333\t7  \t1  \t0.938059\n",
      "10 \t177   \t0.525353\t0.525615\t0.512481\t0.00136747\t2.62667\t8  \t1  \t0.927697\n"
     ]
    },
    {
     "name": "stderr",
     "output_type": "stream",
     "text": [
      "\r",
      " 73%|███████▎  | 73/100 [93:49:41<34:42:12, 4627.15s/it]"
     ]
    },
    {
     "name": "stdout",
     "output_type": "stream",
     "text": [
      "   \t      \t                         fitness                          \t             size             \n",
      "   \t      \t----------------------------------------------------------\t------------------------------\n",
      "gen\tnevals\tavg     \tmax     \tmin     \tstd       \tavg \tmax\tmin\tstd   \n",
      "0  \t300   \t0.521411\t0.525789\t0.476184\t0.00572658\t3.87\t14 \t2  \t2.3692\n",
      "1  \t178   \t0.523852\t0.525789\t0.479429\t0.00440467\t3.04667\t15 \t1  \t1.66668\n",
      "2  \t170   \t0.52424 \t0.525789\t0.505114\t0.00295526\t2.89   \t8  \t1  \t1.04781\n",
      "3  \t146   \t0.524338\t0.525789\t0.50015 \t0.00339722\t3.03   \t7  \t1  \t0.895786\n",
      "4  \t158   \t0.525341\t0.525789\t0.504185\t0.00186693\t3.08   \t8  \t1  \t0.67843 \n",
      "5  \t171   \t0.525495\t0.525789\t0.519807\t0.000797262\t3.13   \t8  \t2  \t0.594222\n",
      "6  \t155   \t0.525211\t0.525789\t0.505626\t0.00239925 \t3.11667\t8  \t1  \t0.713948\n",
      "7  \t156   \t0.525335\t0.525789\t0.510078\t0.001586   \t3.11667\t8  \t1  \t0.759203\n",
      "8  \t156   \t0.525373\t0.525789\t0.486908\t0.00250094 \t3.07   \t8  \t1  \t0.615169\n",
      "9  \t183   \t0.525247\t0.525789\t0.505724\t0.00227189 \t3.10333\t8  \t1  \t0.716   \n",
      "10 \t159   \t0.525297\t0.525789\t0.506854\t0.00183591 \t3.19333\t9  \t1  \t0.895892\n"
     ]
    },
    {
     "name": "stderr",
     "output_type": "stream",
     "text": [
      "\r",
      " 74%|███████▍  | 74/100 [95:37:43<33:35:57, 4652.21s/it]"
     ]
    },
    {
     "name": "stdout",
     "output_type": "stream",
     "text": [
      "   \t      \t                         fitness                          \t              size             \n",
      "   \t      \t----------------------------------------------------------\t-------------------------------\n",
      "gen\tnevals\tavg     \tmax     \tmin     \tstd       \tavg \tmax\tmin\tstd    \n",
      "0  \t300   \t0.521998\t0.525645\t0.491863\t0.00464659\t3.81\t14 \t2  \t2.51672\n",
      "1  \t171   \t0.524254\t0.525645\t0.501974\t0.00319392\t3.03667\t12 \t1  \t1.44752\n",
      "2  \t193   \t0.52422 \t0.525645\t0.474215\t0.00394671\t3.18333\t8  \t1  \t1.43633\n",
      "3  \t176   \t0.524672\t0.525645\t0.506293\t0.00209184\t3.19667\t8  \t1  \t1.25618\n",
      "4  \t164   \t0.524748\t0.525645\t0.51299 \t0.00183731\t3.92333\t10 \t1  \t1.03801\n",
      "5  \t160   \t0.524831\t0.525645\t0.514603\t0.00169846\t4.06667\t10 \t1  \t0.888194\n",
      "6  \t184   \t0.524794\t0.525645\t0.507268\t0.00193623\t4.13667\t9  \t1  \t0.908105\n",
      "7  \t168   \t0.524585\t0.525645\t0.492223\t0.00274618\t4.09   \t9  \t1  \t0.809465\n",
      "8  \t186   \t0.524597\t0.525645\t0.51085 \t0.00208976\t4.11333\t10 \t1  \t0.8947  \n",
      "9  \t174   \t0.524689\t0.525645\t0.507258\t0.00223539\t4.12   \t10 \t1  \t1.02255 \n",
      "10 \t171   \t0.52474 \t0.525645\t0.506628\t0.0020236 \t4.06   \t9  \t1  \t0.953799\n"
     ]
    },
    {
     "name": "stderr",
     "output_type": "stream",
     "text": [
      "\r",
      " 75%|███████▌  | 75/100 [97:32:00<32:30:40, 4681.61s/it]"
     ]
    },
    {
     "name": "stdout",
     "output_type": "stream",
     "text": [
      "   \t      \t                         fitness                          \t              size             \n",
      "   \t      \t----------------------------------------------------------\t-------------------------------\n",
      "gen\tnevals\tavg     \tmax     \tmin     \tstd       \tavg    \tmax\tmin\tstd    \n",
      "0  \t300   \t0.521926\t0.525629\t0.491862\t0.00490665\t3.73333\t15 \t2  \t2.47566\n",
      "1  \t172   \t0.523862\t0.525629\t0.470342\t0.00421696\t2.84333\t13 \t1  \t1.42786\n",
      "2  \t144   \t0.524641\t0.525629\t0.509533\t0.00236648\t2.83667\t8  \t1  \t1.28192\n",
      "3  \t169   \t0.524587\t0.525629\t0.504413\t0.00252881\t3.92667\t8  \t1  \t1.64356\n",
      "4  \t178   \t0.524684\t0.525629\t0.515898\t0.00190913\t4.92333\t10 \t1  \t1.56975\n",
      "5  \t161   \t0.524691\t0.525629\t0.500754\t0.00249008\t5.05333\t11 \t1  \t1.42027\n",
      "6  \t153   \t0.524743\t0.525629\t0.515898\t0.00194402\t5.04667\t10 \t1  \t1.54202\n",
      "7  \t162   \t0.524707\t0.525629\t0.511707\t0.00222135\t5.04   \t9  \t1  \t1.40892\n",
      "8  \t181   \t0.524559\t0.525629\t0.502269\t0.00255874\t5.06333\t11 \t1  \t1.62049\n",
      "9  \t158   \t0.524761\t0.525629\t0.508243\t0.00218906\t5.01667\t9  \t1  \t1.42702\n",
      "10 \t166   \t0.524865\t0.525629\t0.507471\t0.00193038\t4.97333\t8  \t1  \t1.46035\n"
     ]
    },
    {
     "name": "stderr",
     "output_type": "stream",
     "text": [
      "\r",
      " 76%|███████▌  | 76/100 [99:20:46<31:22:20, 4705.87s/it]"
     ]
    },
    {
     "name": "stdout",
     "output_type": "stream",
     "text": [
      "   \t      \t                     fitness                     \t              size             \n",
      "   \t      \t-------------------------------------------------\t-------------------------------\n",
      "gen\tnevals\tavg    \tmax     \tmin     \tstd      \tavg    \tmax\tmin\tstd    \n",
      "0  \t300   \t0.52248\t0.525685\t0.505966\t0.0035798\t3.90667\t15 \t2  \t2.66295\n",
      "1  \t156   \t0.524296\t0.525685\t0.498151\t0.00289163\t2.87667\t13 \t1  \t1.66377\n",
      "2  \t163   \t0.524335\t0.525685\t0.488388\t0.00308615\t2.71667\t7  \t1  \t0.903542\n",
      "3  \t181   \t0.524044\t0.525685\t0.487344\t0.00543838\t2.80667\t9  \t1  \t0.984525\n",
      "4  \t172   \t0.525106\t0.525685\t0.507891\t0.00142647\t3.04667\t6  \t1  \t0.545731\n",
      "5  \t156   \t0.52509 \t0.525685\t0.500221\t0.00178323\t3.14667\t8  \t1  \t0.696531\n",
      "6  \t148   \t0.525073\t0.525685\t0.510796\t0.00170431\t3.11333\t9  \t1  \t0.7397  \n",
      "7  \t165   \t0.525068\t0.525685\t0.510154\t0.0013356 \t3.09333\t8  \t1  \t0.636099\n",
      "8  \t155   \t0.525136\t0.525685\t0.514985\t0.00134747\t3.15667\t9  \t1  \t0.863398\n",
      "9  \t159   \t0.525087\t0.525685\t0.505346\t0.00156052\t3.09333\t9  \t1  \t0.70566 \n",
      "10 \t163   \t0.524965\t0.525685\t0.506264\t0.00167766\t3.11   \t8  \t1  \t0.681591\n"
     ]
    },
    {
     "name": "stderr",
     "output_type": "stream",
     "text": [
      "\r",
      " 77%|███████▋  | 77/100 [101:07:42<30:12:26, 4728.09s/it]"
     ]
    },
    {
     "name": "stdout",
     "output_type": "stream",
     "text": [
      "   \t      \t                         fitness                         \t              size             \n",
      "   \t      \t---------------------------------------------------------\t-------------------------------\n",
      "gen\tnevals\tavg     \tmax     \tmin     \tstd      \tavg    \tmax\tmin\tstd    \n",
      "0  \t300   \t0.521274\t0.525789\t0.474853\t0.0056095\t3.96667\t13 \t2  \t2.46013\n",
      "1  \t172   \t0.524074\t0.525789\t0.481744\t0.00406626\t2.95667\t12 \t1  \t1.39097\n",
      "2  \t184   \t0.52449 \t0.525789\t0.507115\t0.00290958\t2.71667\t8  \t1  \t1.05343\n",
      "3  \t172   \t0.524235\t0.525789\t0.507115\t0.00393753\t2.45667\t8  \t1  \t0.872614\n",
      "4  \t159   \t0.523597\t0.525789\t0.49806 \t0.00499033\t2.77667\t7  \t1  \t0.800076\n",
      "5  \t198   \t0.525306\t0.525789\t0.508517\t0.0017787 \t3.10333\t8  \t1  \t0.60497 \n",
      "6  \t161   \t0.525417\t0.525789\t0.51432 \t0.00122071\t3.18   \t9  \t1  \t0.924265\n",
      "7  \t164   \t0.525311\t0.525789\t0.507115\t0.00177289\t3.09667\t9  \t1  \t0.712266\n",
      "8  \t156   \t0.525341\t0.525789\t0.506494\t0.00193146\t3.07333\t8  \t1  \t0.530367\n",
      "9  \t174   \t0.525438\t0.525789\t0.516637\t0.00104491\t3.07667\t7  \t1  \t0.545395\n",
      "10 \t172   \t0.52531 \t0.525789\t0.506246\t0.00187226\t3.09667\t9  \t1  \t0.668822\n"
     ]
    },
    {
     "name": "stderr",
     "output_type": "stream",
     "text": [
      "\r",
      " 78%|███████▊  | 78/100 [103:00:09<29:03:07, 4753.97s/it]"
     ]
    },
    {
     "name": "stdout",
     "output_type": "stream",
     "text": [
      "   \t      \t                         fitness                          \t              size             \n",
      "   \t      \t----------------------------------------------------------\t-------------------------------\n",
      "gen\tnevals\tavg     \tmax     \tmin     \tstd       \tavg    \tmax\tmin\tstd    \n",
      "0  \t300   \t0.521388\t0.525489\t0.472438\t0.00618349\t4.04333\t14 \t2  \t2.51425\n",
      "1  \t168   \t0.524327\t0.525529\t0.484334\t0.00344217\t2.76667\t12 \t1  \t1.2432 \n",
      "2  \t145   \t0.524706\t0.525674\t0.494724\t0.00297669\t2.78667\t8  \t1  \t1.1552 \n",
      "3  \t169   \t0.524846\t0.525674\t0.48818 \t0.002574  \t3.31667\t11 \t2  \t1.38674\n",
      "4  \t153   \t0.524906\t0.52605 \t0.503243\t0.00209908\t3.7    \t10 \t1  \t1.13284\n",
      "5  \t143   \t0.525065\t0.52605 \t0.506038\t0.00178765\t3.73   \t11 \t1  \t1.13303\n",
      "6  \t157   \t0.524677\t0.52605 \t0.495846\t0.00301072\t3.26333\t9  \t1  \t0.864478\n",
      "7  \t193   \t0.524903\t0.52605 \t0.512776\t0.00234737\t3.14   \t9  \t1  \t0.791875\n",
      "8  \t163   \t0.525508\t0.52605 \t0.513235\t0.00154473\t3.10333\t8  \t1  \t0.672797\n",
      "9  \t172   \t0.52533 \t0.52605 \t0.508844\t0.00224792\t3.19   \t9  \t1  \t0.894744\n",
      "10 \t160   \t0.525667\t0.52605 \t0.51866 \t0.000964301\t3.01333\t6  \t1  \t0.482862\n"
     ]
    },
    {
     "name": "stderr",
     "output_type": "stream",
     "text": [
      "\r",
      " 79%|███████▉  | 79/100 [104:47:23<27:51:19, 4775.23s/it]"
     ]
    },
    {
     "name": "stdout",
     "output_type": "stream",
     "text": [
      "   \t      \t                         fitness                          \t              size             \n",
      "   \t      \t----------------------------------------------------------\t-------------------------------\n",
      "gen\tnevals\tavg     \tmax     \tmin     \tstd       \tavg    \tmax\tmin\tstd    \n",
      "0  \t300   \t0.521635\t0.525615\t0.471977\t0.00542969\t4.07333\t15 \t2  \t2.75946\n",
      "1  \t161   \t0.52404 \t0.525615\t0.499073\t0.00354443\t2.94667\t12 \t1  \t1.62188\n",
      "2  \t170   \t0.52498 \t0.525615\t0.509257\t0.00187407\t2.67667\t10 \t1  \t1.48956\n",
      "3  \t168   \t0.525071\t0.525615\t0.475965\t0.00332248\t2.19   \t7  \t1  \t0.739752\n",
      "4  \t186   \t0.525226\t0.525615\t0.507362\t0.00181622\t2.13667\t7  \t1  \t0.661807\n",
      "5  \t160   \t0.525258\t0.525615\t0.509289\t0.0018173 \t2.09   \t7  \t1  \t0.578993\n",
      "6  \t161   \t0.525361\t0.525615\t0.512147\t0.0012674 \t2.14333\t7  \t1  \t0.704359\n",
      "7  \t153   \t0.525105\t0.525615\t0.480259\t0.00303444\t2.16   \t8  \t1  \t0.762277\n",
      "8  \t174   \t0.525037\t0.525615\t0.492223\t0.00299389\t2.19333\t7  \t1  \t0.880883\n",
      "9  \t150   \t0.525121\t0.525615\t0.505337\t0.00231099\t2.18667\t7  \t1  \t0.88232 \n",
      "10 \t166   \t0.525308\t0.525615\t0.511224\t0.00142341\t2.15333\t7  \t1  \t0.67564 \n"
     ]
    },
    {
     "name": "stderr",
     "output_type": "stream",
     "text": [
      "\r",
      " 80%|████████  | 80/100 [106:35:55<26:38:58, 4796.94s/it]"
     ]
    },
    {
     "name": "stdout",
     "output_type": "stream",
     "text": [
      "   \t      \t                         fitness                          \t              size             \n",
      "   \t      \t----------------------------------------------------------\t-------------------------------\n",
      "gen\tnevals\tavg     \tmax     \tmin     \tstd       \tavg    \tmax\tmin\tstd    \n",
      "0  \t300   \t0.521635\t0.525517\t0.470342\t0.00587757\t3.73333\t14 \t2  \t2.30988\n",
      "1  \t164   \t0.524635\t0.525615\t0.511924\t0.00196505\t2.86   \t8  \t1  \t1.33681\n",
      "2  \t167   \t0.524496\t0.525759\t0.50542 \t0.00319183\t2.60333\t7  \t1  \t1.20249\n",
      "3  \t150   \t0.52502 \t0.525759\t0.513467\t0.00177866\t2.56   \t8  \t1  \t1.23277\n",
      "4  \t162   \t0.524812\t0.525759\t0.503599\t0.00253184\t3.26333\t11 \t1  \t1.74183\n",
      "5  \t160   \t0.524445\t0.525759\t0.502146\t0.00257916\t5.18333\t11 \t1  \t1.91042\n",
      "6  \t185   \t0.524541\t0.525759\t0.512199\t0.0020274 \t5.98   \t11 \t1  \t1.23272\n",
      "7  \t139   \t0.524985\t0.525759\t0.502701\t0.00193147\t5.99   \t10 \t1  \t0.946872\n",
      "8  \t169   \t0.524543\t0.525759\t0.511021\t0.00203617\t6.05   \t10 \t1  \t1.08359 \n",
      "9  \t161   \t0.524566\t0.525759\t0.501887\t0.00253   \t6.11   \t12 \t1  \t1.16815 \n",
      "10 \t174   \t0.524696\t0.525759\t0.513769\t0.00166603\t6.08333\t12 \t1  \t1.23412 \n"
     ]
    },
    {
     "name": "stderr",
     "output_type": "stream",
     "text": [
      "\r",
      " 81%|████████  | 81/100 [108:23:55<25:25:36, 4817.73s/it]"
     ]
    },
    {
     "name": "stdout",
     "output_type": "stream",
     "text": [
      "   \t      \t                         fitness                          \t             size             \n",
      "   \t      \t----------------------------------------------------------\t------------------------------\n",
      "gen\tnevals\tavg     \tmax     \tmin     \tstd       \tavg    \tmax\tmin\tstd   \n",
      "0  \t300   \t0.521411\t0.525714\t0.491575\t0.00546861\t3.85667\t14 \t2  \t2.4487\n",
      "1  \t169   \t0.524037\t0.525714\t0.492223\t0.0037168 \t2.76667\t10 \t1  \t1.32874\n",
      "2  \t149   \t0.52512 \t0.525714\t0.514494\t0.00137984\t3.25333\t11 \t1  \t2.2396 \n",
      "3  \t154   \t0.525081\t0.525714\t0.508765\t0.00180845\t6.79   \t14 \t1  \t2.85293\n",
      "4  \t160   \t0.524988\t0.525755\t0.508188\t0.00211511\t7.62667\t14 \t2  \t2.43049\n",
      "5  \t164   \t0.525119\t0.525755\t0.512022\t0.00159394\t7.78333\t14 \t1  \t2.32301\n",
      "6  \t160   \t0.524959\t0.525755\t0.492223\t0.00273593\t7.9    \t14 \t2  \t2.40486\n",
      "7  \t175   \t0.525075\t0.525755\t0.475175\t0.00310959\t8.11   \t20 \t1  \t2.25046\n",
      "8  \t149   \t0.525179\t0.525755\t0.516839\t0.00133944\t7.91333\t14 \t1  \t2.26256\n",
      "9  \t167   \t0.525188\t0.525755\t0.514999\t0.00119262\t8.02333\t15 \t1  \t2.49722\n",
      "10 \t163   \t0.525153\t0.525755\t0.508384\t0.00168278\t7.89667\t14 \t1  \t2.18311\n"
     ]
    },
    {
     "name": "stderr",
     "output_type": "stream",
     "text": [
      "\r",
      " 82%|████████▏ | 82/100 [110:10:16<24:11:02, 4836.78s/it]"
     ]
    },
    {
     "name": "stdout",
     "output_type": "stream",
     "text": [
      "   \t      \t                         fitness                          \t              size             \n",
      "   \t      \t----------------------------------------------------------\t-------------------------------\n",
      "gen\tnevals\tavg     \tmax     \tmin     \tstd       \tavg    \tmax\tmin\tstd    \n",
      "0  \t300   \t0.521307\t0.525517\t0.469244\t0.00611702\t4.00667\t15 \t2  \t2.70184\n",
      "1  \t185   \t0.524291\t0.525615\t0.495694\t0.00265852\t2.98333\t13 \t1  \t1.82475\n",
      "2  \t176   \t0.52417 \t0.525615\t0.50518 \t0.00365472\t2.49667\t8  \t1  \t0.810343\n",
      "3  \t150   \t0.524918\t0.525615\t0.509496\t0.00218919\t2.33   \t8  \t2  \t0.770995\n",
      "4  \t171   \t0.525448\t0.525615\t0.515873\t0.000770533\t2.21667\t8  \t1  \t0.801907\n",
      "5  \t156   \t0.525216\t0.525615\t0.508517\t0.00197258 \t2.22667\t8  \t1  \t0.749637\n",
      "6  \t165   \t0.52537 \t0.525615\t0.514999\t0.00110517 \t2.25   \t8  \t1  \t0.78793 \n",
      "7  \t163   \t0.525256\t0.525615\t0.503034\t0.00187827 \t2.23   \t7  \t1  \t0.630159\n",
      "8  \t161   \t0.525304\t0.525615\t0.51299 \t0.00138944 \t2.27333\t8  \t1  \t0.799138\n",
      "9  \t203   \t0.525238\t0.525615\t0.508517\t0.0016577  \t2.29667\t8  \t1  \t0.788663\n",
      "10 \t164   \t0.525197\t0.525615\t0.506715\t0.00196038 \t2.33   \t9  \t1  \t0.990505\n"
     ]
    },
    {
     "name": "stderr",
     "output_type": "stream",
     "text": [
      "\r",
      " 83%|████████▎ | 83/100 [112:01:17<22:56:38, 4858.76s/it]"
     ]
    },
    {
     "name": "stdout",
     "output_type": "stream",
     "text": [
      "   \t      \t                         fitness                          \t              size             \n",
      "   \t      \t----------------------------------------------------------\t-------------------------------\n",
      "gen\tnevals\tavg     \tmax     \tmin     \tstd       \tavg    \tmax\tmin\tstd    \n",
      "0  \t300   \t0.522105\t0.525795\t0.483585\t0.00460998\t3.91333\t14 \t2  \t2.58053\n",
      "1  \t157   \t0.523991\t0.525795\t0.471694\t0.00441791\t2.87667\t8  \t1  \t1.43113\n",
      "2  \t167   \t0.523771\t0.525795\t0.492223\t0.00511666\t2.84   \t8  \t1  \t1.34947\n",
      "3  \t158   \t0.523243\t0.525795\t0.492223\t0.00628238\t3.08667\t9  \t1  \t0.836155\n",
      "4  \t153   \t0.524869\t0.525795\t0.494162\t0.00363738\t3.10333\t7  \t1  \t0.687499\n",
      "5  \t157   \t0.525236\t0.525795\t0.494937\t0.00279683\t3.08   \t8  \t1  \t0.541849\n",
      "6  \t172   \t0.52522 \t0.525795\t0.504448\t0.00220607\t3.12   \t9  \t1  \t0.823974\n",
      "7  \t177   \t0.525296\t0.525795\t0.509726\t0.00184094\t3.09333\t9  \t1  \t0.715045\n",
      "8  \t174   \t0.525256\t0.525795\t0.49288 \t0.00259345\t3.03   \t9  \t1  \t0.612998\n",
      "9  \t164   \t0.525358\t0.525795\t0.508193\t0.00166458\t3.1    \t9  \t1  \t0.74162 \n",
      "10 \t172   \t0.525405\t0.525795\t0.507948\t0.00168866\t3.09   \t8  \t1  \t0.623351\n"
     ]
    },
    {
     "name": "stderr",
     "output_type": "stream",
     "text": [
      "\r",
      " 84%|████████▍ | 84/100 [113:50:24<21:41:01, 4878.86s/it]"
     ]
    },
    {
     "name": "stdout",
     "output_type": "stream",
     "text": [
      "   \t      \t                         fitness                          \t              size             \n",
      "   \t      \t----------------------------------------------------------\t-------------------------------\n",
      "gen\tnevals\tavg     \tmax     \tmin     \tstd       \tavg    \tmax\tmin\tstd    \n",
      "0  \t300   \t0.521508\t0.525517\t0.476582\t0.00563236\t3.98667\t14 \t2  \t2.46978\n",
      "1  \t177   \t0.52433 \t0.525589\t0.480655\t0.00331677\t2.95333\t13 \t1  \t1.75627\n",
      "2  \t163   \t0.52495 \t0.525589\t0.509533\t0.00188371\t2.82667\t10 \t1  \t1.36258\n",
      "3  \t145   \t0.524989\t0.525589\t0.507706\t0.00193685\t2.70667\t9  \t1  \t1.24658\n",
      "4  \t168   \t0.524925\t0.525656\t0.508765\t0.00177298\t3.42667\t9  \t1  \t1.53773\n",
      "5  \t182   \t0.52502 \t0.525663\t0.502894\t0.00189914\t4.88333\t10 \t1  \t1.25289\n",
      "6  \t148   \t0.525169\t0.525663\t0.513345\t0.00144869\t5.21333\t12 \t1  \t1.3346 \n",
      "7  \t176   \t0.524946\t0.525851\t0.508276\t0.00195493\t5.67667\t13 \t2  \t1.80706\n",
      "8  \t168   \t0.525057\t0.525987\t0.512699\t0.00170981\t7.57667\t15 \t1  \t2.25628\n",
      "9  \t171   \t0.525035\t0.525987\t0.511674\t0.00183422\t8.25333\t16 \t1  \t2.43362\n",
      "10 \t166   \t0.525072\t0.525987\t0.4927  \t0.00284143\t7.45333\t17 \t1  \t2.48082\n"
     ]
    },
    {
     "name": "stderr",
     "output_type": "stream",
     "text": [
      "\r",
      " 85%|████████▌ | 85/100 [115:40:30<20:24:47, 4899.18s/it]"
     ]
    },
    {
     "name": "stdout",
     "output_type": "stream",
     "text": [
      "   \t      \t                         fitness                          \t             size            \n",
      "   \t      \t----------------------------------------------------------\t-----------------------------\n",
      "gen\tnevals\tavg     \tmax     \tmin     \tstd       \tavg    \tmax\tmin\tstd  \n",
      "0  \t300   \t0.521793\t0.525615\t0.501795\t0.00453829\t3.95333\t15 \t2  \t2.737\n",
      "1  \t184   \t0.523774\t0.525615\t0.488036\t0.00471083\t3.33333\t15 \t1  \t2.54602\n",
      "2  \t164   \t0.524342\t0.525615\t0.502467\t0.00284669\t3.90333\t19 \t1  \t3.36264\n",
      "3  \t169   \t0.525104\t0.525615\t0.508384\t0.00166526\t2.91   \t16 \t1  \t2.45531\n",
      "4  \t174   \t0.525354\t0.525615\t0.508627\t0.00149011\t2.08333\t6  \t1  \t0.512889\n",
      "5  \t144   \t0.525272\t0.525615\t0.502469\t0.00193404\t2.13667\t8  \t1  \t0.738008\n",
      "6  \t167   \t0.525191\t0.525615\t0.508765\t0.00210631\t2.17333\t7  \t1  \t0.846535\n",
      "7  \t163   \t0.525358\t0.525615\t0.512047\t0.00140625\t2.08667\t7  \t1  \t0.559007\n",
      "8  \t165   \t0.52549 \t0.525615\t0.517073\t0.000636756\t2.04333\t7  \t1  \t0.477621\n",
      "9  \t168   \t0.525311\t0.525615\t0.511489\t0.00134708 \t2.15667\t7  \t1  \t0.773815\n",
      "10 \t169   \t0.52535 \t0.525615\t0.507511\t0.00158004 \t2.07333\t8  \t1  \t0.497951\n"
     ]
    },
    {
     "name": "stderr",
     "output_type": "stream",
     "text": [
      "\r",
      " 86%|████████▌ | 86/100 [117:30:04<19:07:41, 4918.66s/it]"
     ]
    },
    {
     "name": "stdout",
     "output_type": "stream",
     "text": [
      "   \t      \t                         fitness                          \t              size             \n",
      "   \t      \t----------------------------------------------------------\t-------------------------------\n",
      "gen\tnevals\tavg     \tmax     \tmin     \tstd       \tavg \tmax\tmin\tstd    \n",
      "0  \t300   \t0.521728\t0.526018\t0.494724\t0.00496796\t4.07\t14 \t2  \t2.68299\n",
      "1  \t177   \t0.524522\t0.525765\t0.51104 \t0.00208267\t2.89\t12 \t1  \t1.50263\n",
      "2  \t169   \t0.52491 \t0.525765\t0.511368\t0.00174611\t3.04\t11 \t1  \t1.51605\n",
      "3  \t172   \t0.524418\t0.525793\t0.511924\t0.002552  \t3.41333\t10 \t1  \t1.56285\n",
      "4  \t179   \t0.524251\t0.525793\t0.505775\t0.00281565\t4.34333\t10 \t1  \t1.67694\n",
      "5  \t154   \t0.524699\t0.525793\t0.510198\t0.00215329\t4.87   \t9  \t1  \t1.38315\n",
      "6  \t180   \t0.524338\t0.525793\t0.480328\t0.0036581 \t5.09667\t9  \t1  \t1.47218\n",
      "7  \t167   \t0.524885\t0.525793\t0.509399\t0.00230969\t5.77333\t11 \t2  \t1.32487\n",
      "8  \t139   \t0.524907\t0.525793\t0.513328\t0.00205979\t5.71   \t9  \t1  \t1.30099\n",
      "9  \t169   \t0.524884\t0.525793\t0.505161\t0.00240714\t5.66   \t9  \t1  \t1.42281\n",
      "10 \t159   \t0.525203\t0.525793\t0.516791\t0.00151078\t5.7    \t8  \t1  \t1.26886\n"
     ]
    },
    {
     "name": "stderr",
     "output_type": "stream",
     "text": [
      "\r",
      " 87%|████████▋ | 87/100 [119:22:09<17:50:12, 4939.42s/it]"
     ]
    },
    {
     "name": "stdout",
     "output_type": "stream",
     "text": [
      "   \t      \t                     fitness                      \t              size             \n",
      "   \t      \t--------------------------------------------------\t-------------------------------\n",
      "gen\tnevals\tavg    \tmax     \tmin     \tstd       \tavg    \tmax\tmin\tstd    \n",
      "0  \t300   \t0.52204\t0.525615\t0.465558\t0.00505876\t3.94333\t14 \t2  \t2.64703\n",
      "1  \t171   \t0.524117\t0.525615\t0.495902\t0.00381852\t2.71667\t7  \t1  \t1.18732\n",
      "2  \t171   \t0.524494\t0.525615\t0.498831\t0.00325555\t2.65   \t9  \t1  \t1.37143\n",
      "3  \t178   \t0.525093\t0.525615\t0.50402 \t0.00207745\t2.19333\t8  \t1  \t0.842193\n",
      "4  \t166   \t0.525322\t0.525615\t0.513185\t0.00139607\t2.14667\t8  \t1  \t0.696531\n",
      "5  \t176   \t0.525295\t0.525647\t0.492223\t0.00227993\t2.1    \t7  \t1  \t0.619139\n",
      "6  \t160   \t0.525274\t0.525647\t0.508998\t0.00161689\t2.29   \t8  \t1  \t1.01943 \n",
      "7  \t183   \t0.52489 \t0.525647\t0.509099\t0.00225049\t3      \t10 \t1  \t1.60624 \n",
      "8  \t165   \t0.524642\t0.525647\t0.506715\t0.0022614 \t4.57333\t11 \t1  \t1.6056  \n",
      "9  \t156   \t0.524529\t0.525647\t0.513107\t0.00229426\t5.04   \t10 \t1  \t1.32101 \n",
      "10 \t156   \t0.524535\t0.525647\t0.514798\t0.00217825\t4.96   \t11 \t1  \t1.38747 \n"
     ]
    },
    {
     "name": "stderr",
     "output_type": "stream",
     "text": [
      "\r",
      " 88%|████████▊ | 88/100 [121:18:37<16:32:32, 4962.70s/it]"
     ]
    },
    {
     "name": "stdout",
     "output_type": "stream",
     "text": [
      "   \t      \t                         fitness                          \t              size             \n",
      "   \t      \t----------------------------------------------------------\t-------------------------------\n",
      "gen\tnevals\tavg     \tmax     \tmin     \tstd       \tavg    \tmax\tmin\tstd    \n",
      "0  \t300   \t0.522166\t0.525573\t0.492223\t0.00440625\t3.74333\t14 \t2  \t2.40225\n",
      "1  \t169   \t0.523976\t0.525615\t0.471357\t0.00440279\t3      \t10 \t1  \t1.66533\n",
      "2  \t172   \t0.524658\t0.525615\t0.502908\t0.00252288\t2.73333\t11 \t1  \t1.42205\n",
      "3  \t165   \t0.524294\t0.525615\t0.502908\t0.00316265\t3.42   \t11 \t1  \t1.60528\n",
      "4  \t179   \t0.524796\t0.525615\t0.492678\t0.00264031\t2.92333\t8  \t1  \t1.5047 \n",
      "5  \t165   \t0.525133\t0.525615\t0.492223\t0.00284157\t2.13333\t8  \t1  \t0.674949\n",
      "6  \t167   \t0.525361\t0.525615\t0.507255\t0.0013415 \t2.12667\t8  \t1  \t0.700444\n",
      "7  \t156   \t0.525434\t0.525615\t0.511561\t0.00103646\t2.10667\t8  \t1  \t0.679673\n",
      "8  \t153   \t0.525336\t0.525615\t0.512112\t0.00131574\t2.11667\t7  \t1  \t0.608048\n",
      "9  \t165   \t0.525329\t0.525615\t0.514387\t0.00119058\t2.13333\t8  \t1  \t0.736357\n",
      "10 \t166   \t0.525123\t0.525615\t0.506676\t0.00205605\t2.15   \t7  \t1  \t0.829156\n"
     ]
    },
    {
     "name": "stderr",
     "output_type": "stream",
     "text": [
      "\r",
      " 89%|████████▉ | 89/100 [123:07:19<15:13:02, 4980.22s/it]"
     ]
    },
    {
     "name": "stdout",
     "output_type": "stream",
     "text": [
      "   \t      \t                         fitness                          \t              size             \n",
      "   \t      \t----------------------------------------------------------\t-------------------------------\n",
      "gen\tnevals\tavg     \tmax     \tmin     \tstd       \tavg    \tmax\tmin\tstd    \n",
      "0  \t300   \t0.521968\t0.525517\t0.494558\t0.00486592\t3.81667\t14 \t2  \t2.47313\n",
      "1  \t178   \t0.524347\t0.525615\t0.497773\t0.00266829\t2.73333\t10 \t1  \t1.14698\n",
      "2  \t173   \t0.524291\t0.525615\t0.505085\t0.00296977\t2.64333\t8  \t1  \t1.05647\n",
      "3  \t152   \t0.525311\t0.525615\t0.514944\t0.00114593\t2.24   \t7  \t1  \t0.784687\n",
      "4  \t168   \t0.525276\t0.525615\t0.510555\t0.00156387\t2.23667\t8  \t1  \t0.748769\n",
      "5  \t161   \t0.525414\t0.525615\t0.518291\t0.000946117\t2.17   \t8  \t1  \t0.731049\n",
      "6  \t150   \t0.525334\t0.525615\t0.506562\t0.00162124 \t2.15   \t7  \t1  \t0.643558\n",
      "7  \t173   \t0.525123\t0.525615\t0.463862\t0.00383206 \t2.21333\t7  \t1  \t0.735633\n",
      "8  \t173   \t0.525384\t0.525615\t0.511625\t0.00115254 \t2.17   \t7  \t1  \t0.712577\n",
      "9  \t159   \t0.52504 \t0.525615\t0.467711\t0.00380492 \t2.22333\t8  \t1  \t0.890761\n",
      "10 \t170   \t0.52534 \t0.525615\t0.508384\t0.00156917 \t2.15667\t8  \t1  \t0.67734 \n"
     ]
    },
    {
     "name": "stderr",
     "output_type": "stream",
     "text": [
      "\r",
      " 90%|█████████ | 90/100 [124:55:58<13:52:53, 4997.31s/it]"
     ]
    },
    {
     "name": "stdout",
     "output_type": "stream",
     "text": [
      "   \t      \t                         fitness                          \t              size             \n",
      "   \t      \t----------------------------------------------------------\t-------------------------------\n",
      "gen\tnevals\tavg     \tmax     \tmin     \tstd       \tavg \tmax\tmin\tstd    \n",
      "0  \t300   \t0.521885\t0.525615\t0.477538\t0.00527671\t3.93\t14 \t2  \t2.39967\n",
      "1  \t145   \t0.524282\t0.525615\t0.496189\t0.00319261\t3.03\t12 \t1  \t1.6899 \n",
      "2  \t158   \t0.524323\t0.525659\t0.495556\t0.0032269 \t2.95333\t13 \t1  \t1.74102\n",
      "3  \t153   \t0.524341\t0.525659\t0.469009\t0.00517412\t3.12667\t11 \t1  \t2.1704 \n",
      "4  \t157   \t0.525045\t0.525708\t0.507706\t0.00186652\t4.17667\t14 \t1  \t2.85986\n",
      "5  \t160   \t0.525111\t0.525864\t0.516085\t0.00110082\t7.65333\t16 \t2  \t2.47921\n",
      "6  \t160   \t0.525121\t0.525864\t0.513023\t0.00126944\t7.99667\t16 \t1  \t2.37557\n",
      "7  \t163   \t0.525166\t0.525864\t0.515704\t0.00125812\t7.97   \t14 \t1  \t2.22915\n",
      "8  \t171   \t0.524947\t0.525864\t0.513329\t0.00163725\t7.92333\t16 \t1  \t1.89142\n",
      "9  \t178   \t0.524963\t0.525864\t0.506715\t0.00166718\t8.04667\t14 \t1  \t2.17818\n",
      "10 \t174   \t0.525065\t0.525864\t0.511854\t0.00157089\t8.10667\t16 \t1  \t2.44989\n"
     ]
    },
    {
     "name": "stderr",
     "output_type": "stream",
     "text": [
      "\r",
      " 91%|█████████ | 91/100 [126:42:31<12:31:53, 5012.66s/it]"
     ]
    },
    {
     "name": "stdout",
     "output_type": "stream",
     "text": [
      "   \t      \t                         fitness                          \t              size             \n",
      "   \t      \t----------------------------------------------------------\t-------------------------------\n",
      "gen\tnevals\tavg     \tmax     \tmin     \tstd       \tavg    \tmax\tmin\tstd    \n",
      "0  \t300   \t0.521189\t0.525489\t0.491998\t0.00568986\t4.03333\t14 \t2  \t2.68556\n",
      "1  \t161   \t0.524432\t0.525517\t0.498136\t0.00279903\t2.77667\t16 \t1  \t1.61456\n",
      "2  \t172   \t0.524573\t0.525615\t0.509533\t0.00262708\t2.48333\t11 \t1  \t1.01475\n",
      "3  \t173   \t0.524685\t0.525615\t0.509533\t0.00273308\t2.48   \t7  \t1  \t0.925347\n",
      "4  \t170   \t0.525257\t0.525615\t0.515033\t0.00134685\t2.24667\t7  \t1  \t0.738798\n",
      "5  \t173   \t0.5254  \t0.525615\t0.511924\t0.00106794\t2.23   \t7  \t1  \t0.714446\n",
      "6  \t163   \t0.525232\t0.525615\t0.496804\t0.00211371\t2.24667\t9  \t1  \t0.811884\n",
      "7  \t178   \t0.525164\t0.525615\t0.47218 \t0.00335186\t2.25667\t7  \t1  \t0.819017\n",
      "8  \t174   \t0.525204\t0.525615\t0.506204\t0.00195706\t2.31667\t7  \t1  \t0.896134\n",
      "9  \t180   \t0.525369\t0.525615\t0.515587\t0.00110703\t2.33   \t8  \t1  \t0.841289\n",
      "10 \t177   \t0.525263\t0.525615\t0.508384\t0.00156417\t2.32667\t6  \t1  \t0.702345\n"
     ]
    },
    {
     "name": "stderr",
     "output_type": "stream",
     "text": [
      "\r",
      " 92%|█████████▏| 92/100 [128:34:54<11:10:51, 5031.46s/it]"
     ]
    },
    {
     "name": "stdout",
     "output_type": "stream",
     "text": [
      "   \t      \t                     fitness                      \t              size             \n",
      "   \t      \t--------------------------------------------------\t-------------------------------\n",
      "gen\tnevals\tavg    \tmax     \tmin     \tstd       \tavg    \tmax\tmin\tstd    \n",
      "0  \t300   \t0.52192\t0.525517\t0.496666\t0.00452684\t3.96667\t14 \t2  \t2.57402\n",
      "1  \t169   \t0.524569\t0.525615\t0.504996\t0.00237881\t2.53   \t11 \t1  \t1.09959\n",
      "2  \t166   \t0.524673\t0.525615\t0.493966\t0.00272299\t2.56667\t7  \t1  \t0.986013\n",
      "3  \t178   \t0.525114\t0.525615\t0.496706\t0.00207893\t2.48667\t8  \t1  \t1.04075 \n",
      "4  \t159   \t0.525135\t0.525615\t0.503701\t0.00217041\t2.28667\t8  \t1  \t0.896933\n",
      "5  \t163   \t0.525261\t0.525615\t0.507029\t0.00185275\t2.24667\t7  \t1  \t0.851952\n",
      "6  \t159   \t0.525284\t0.525615\t0.509072\t0.0015296 \t2.22333\t8  \t1  \t0.725802\n",
      "7  \t162   \t0.525295\t0.525615\t0.492223\t0.00211583\t2.20333\t9  \t1  \t0.731657\n",
      "8  \t172   \t0.52527 \t0.525615\t0.508517\t0.00189676\t2.25667\t8  \t1  \t0.835138\n",
      "9  \t142   \t0.525364\t0.525615\t0.515911\t0.0011619 \t2.30667\t8  \t1  \t0.937704\n",
      "10 \t154   \t0.525396\t0.525615\t0.511924\t0.001048  \t2.20667\t8  \t1  \t0.737533\n"
     ]
    },
    {
     "name": "stderr",
     "output_type": "stream",
     "text": [
      "\r",
      " 93%|█████████▎| 93/100 [130:21:43<9:48:43, 5046.27s/it] "
     ]
    },
    {
     "name": "stdout",
     "output_type": "stream",
     "text": [
      "   \t      \t                         fitness                          \t              size             \n",
      "   \t      \t----------------------------------------------------------\t-------------------------------\n",
      "gen\tnevals\tavg     \tmax     \tmin     \tstd       \tavg    \tmax\tmin\tstd    \n",
      "0  \t300   \t0.521167\t0.525615\t0.491998\t0.00510025\t3.95667\t15 \t2  \t2.60924\n",
      "1  \t146   \t0.524306\t0.525615\t0.50373 \t0.00276883\t3.01   \t11 \t1  \t1.87347\n",
      "2  \t179   \t0.524392\t0.525615\t0.509163\t0.00255818\t3.20333\t10 \t1  \t1.67789\n",
      "3  \t162   \t0.524855\t0.525615\t0.508706\t0.00217407\t3.57   \t13 \t1  \t1.41837\n",
      "4  \t183   \t0.525081\t0.525615\t0.508298\t0.00181982\t3.58333\t7  \t1  \t1.19012\n",
      "5  \t163   \t0.52497 \t0.525615\t0.504035\t0.00232158\t3.67   \t9  \t1  \t1.28105\n",
      "6  \t159   \t0.525062\t0.525615\t0.508503\t0.00190126\t3.59333\t8  \t1  \t1.22799\n",
      "7  \t151   \t0.525111\t0.525615\t0.508854\t0.00189354\t3.60333\t6  \t1  \t1.19694\n",
      "8  \t177   \t0.524962\t0.525615\t0.474833\t0.00336812\t3.70667\t10 \t1  \t1.45394\n",
      "9  \t181   \t0.525241\t0.525615\t0.508278\t0.00153805\t3.64667\t8  \t1  \t1.33485\n",
      "10 \t182   \t0.525151\t0.525615\t0.507028\t0.00176275\t3.65333\t9  \t1  \t1.3564 \n"
     ]
    },
    {
     "name": "stderr",
     "output_type": "stream",
     "text": [
      "\r",
      " 94%|█████████▍| 94/100 [132:12:01<8:26:17, 5062.99s/it]"
     ]
    },
    {
     "name": "stdout",
     "output_type": "stream",
     "text": [
      "   \t      \t                         fitness                          \t              size             \n",
      "   \t      \t----------------------------------------------------------\t-------------------------------\n",
      "gen\tnevals\tavg     \tmax     \tmin     \tstd       \tavg    \tmax\tmin\tstd    \n",
      "0  \t300   \t0.521582\t0.525615\t0.491998\t0.00487691\t3.84333\t15 \t2  \t2.54666\n",
      "1  \t167   \t0.524343\t0.525615\t0.507171\t0.00251127\t3.06667\t16 \t1  \t1.9754 \n",
      "2  \t169   \t0.524771\t0.525615\t0.511088\t0.00220899\t2.83   \t11 \t1  \t1.7591 \n",
      "3  \t184   \t0.52522 \t0.525615\t0.51406 \t0.00132503\t2.25333\t8  \t1  \t0.849993\n",
      "4  \t150   \t0.52532 \t0.525615\t0.509812\t0.00156778\t2.14667\t6  \t1  \t0.677118\n",
      "5  \t150   \t0.525351\t0.525615\t0.508113\t0.00131725\t2.09667\t7  \t1  \t0.572121\n",
      "6  \t163   \t0.525454\t0.525615\t0.517487\t0.00084607\t2.07   \t6  \t1  \t0.481422\n",
      "7  \t158   \t0.525354\t0.525615\t0.508517\t0.00126776\t2.14333\t7  \t1  \t0.718416\n",
      "8  \t143   \t0.525398\t0.525615\t0.515192\t0.00102709\t2.09667\t6  \t1  \t0.483724\n",
      "9  \t174   \t0.525351\t0.525615\t0.511589\t0.00138378\t2.08333\t7  \t1  \t0.465176\n",
      "10 \t168   \t0.525193\t0.525836\t0.510799\t0.00177949\t2.18333\t8  \t1  \t0.75037 \n"
     ]
    },
    {
     "name": "stderr",
     "output_type": "stream",
     "text": [
      "\r",
      " 95%|█████████▌| 95/100 [135:19:20<7:07:20, 5128.01s/it]"
     ]
    },
    {
     "name": "stdout",
     "output_type": "stream",
     "text": [
      "   \t      \t                         fitness                          \t              size             \n",
      "   \t      \t----------------------------------------------------------\t-------------------------------\n",
      "gen\tnevals\tavg     \tmax     \tmin     \tstd       \tavg \tmax\tmin\tstd    \n",
      "0  \t300   \t0.521157\t0.525615\t0.468887\t0.00613407\t4.06\t15 \t2  \t2.73917\n",
      "1  \t180   \t0.524302\t0.525615\t0.498136\t0.00294449\t2.85\t13 \t1  \t1.56018\n",
      "2  \t153   \t0.524545\t0.525615\t0.490073\t0.00341734\t2.84333\t9  \t1  \t1.11001\n",
      "3  \t190   \t0.525036\t0.525615\t0.504412\t0.00243766\t2.92333\t9  \t1  \t0.992029\n",
      "4  \t171   \t0.525039\t0.525615\t0.498945\t0.00261495\t3.01333\t9  \t1  \t1.11646 \n",
      "5  \t164   \t0.525197\t0.525615\t0.507391\t0.0018094 \t2.93   \t8  \t1  \t1.0794  \n",
      "6  \t165   \t0.525315\t0.525615\t0.508278\t0.00154995\t2.9    \t7  \t1  \t0.974679\n",
      "7  \t182   \t0.525275\t0.525615\t0.50849 \t0.00171045\t2.9    \t8  \t1  \t1.06927 \n",
      "8  \t192   \t0.525322\t0.525615\t0.515587\t0.0011978 \t2.85667\t8  \t1  \t1.07523 \n",
      "9  \t175   \t0.525334\t0.525615\t0.511924\t0.00131247\t2.82333\t8  \t1  \t1.107   \n",
      "10 \t168   \t0.525322\t0.525615\t0.511924\t0.00128567\t2.87333\t8  \t1  \t1.19609 \n"
     ]
    },
    {
     "name": "stderr",
     "output_type": "stream",
     "text": [
      "\r",
      " 96%|█████████▌| 96/100 [142:06:54<5:55:17, 5329.32s/it]"
     ]
    },
    {
     "name": "stdout",
     "output_type": "stream",
     "text": [
      "   \t      \t                         fitness                          \t              size             \n",
      "   \t      \t----------------------------------------------------------\t-------------------------------\n",
      "gen\tnevals\tavg     \tmax     \tmin     \tstd       \tavg \tmax\tmin\tstd    \n",
      "0  \t300   \t0.521656\t0.525714\t0.471977\t0.00556658\t3.84\t14 \t2  \t2.51682\n",
      "1  \t163   \t0.524137\t0.525714\t0.498598\t0.00318969\t3.19667\t12 \t1  \t1.6945 \n",
      "2  \t158   \t0.524656\t0.525714\t0.508127\t0.00229338\t3.61333\t9  \t1  \t1.40374\n",
      "3  \t167   \t0.524481\t0.525714\t0.478485\t0.00356726\t4.48333\t10 \t1  \t1.66625\n",
      "4  \t174   \t0.524969\t0.525714\t0.492178\t0.00212173\t3.88667\t10 \t1  \t1.38582\n",
      "5  \t159   \t0.525405\t0.526045\t0.522148\t0.000593512\t3.10667\t8  \t1  \t0.717836\n",
      "6  \t156   \t0.525257\t0.526045\t0.503818\t0.00159117 \t3.16667\t9  \t1  \t0.760847\n",
      "7  \t148   \t0.52538 \t0.526045\t0.509057\t0.0011695  \t3.24667\t9  \t1  \t0.734272\n",
      "8  \t164   \t0.525227\t0.526045\t0.511733\t0.00162897 \t3.85   \t9  \t1  \t0.879867\n",
      "9  \t162   \t0.525255\t0.526045\t0.508802\t0.00173861 \t4.08667\t9  \t1  \t0.778346\n",
      "10 \t190   \t0.525247\t0.526045\t0.519306\t0.00140188 \t4.09667\t9  \t1  \t0.949029\n"
     ]
    },
    {
     "name": "stderr",
     "output_type": "stream",
     "text": [
      "\r",
      " 97%|█████████▋| 97/100 [147:49:32<4:34:18, 5486.32s/it]"
     ]
    },
    {
     "name": "stdout",
     "output_type": "stream",
     "text": [
      "   \t      \t                         fitness                          \t              size             \n",
      "   \t      \t----------------------------------------------------------\t-------------------------------\n",
      "gen\tnevals\tavg     \tmax     \tmin     \tstd       \tavg \tmax\tmin\tstd    \n",
      "0  \t300   \t0.521984\t0.525539\t0.475244\t0.00513394\t3.94\t15 \t2  \t2.61465\n",
      "1  \t175   \t0.524354\t0.525539\t0.507524\t0.00272749\t2.8 \t10 \t1  \t1.31909\n",
      "2  \t180   \t0.524342\t0.525615\t0.499852\t0.00341402\t2.86\t7  \t1  \t1.31418\n",
      "3  \t164   \t0.523817\t0.525615\t0.499782\t0.00367934\t4.05\t11 \t1  \t1.9581 \n",
      "4  \t171   \t0.524068\t0.525615\t0.510377\t0.00328733\t4.32\t11 \t1  \t2.07467\n",
      "5  \t174   \t0.524858\t0.525615\t0.492223\t0.00302935\t2.25333\t7  \t1  \t0.963927\n",
      "6  \t169   \t0.525309\t0.525615\t0.492223\t0.00213211\t2.13   \t7  \t1  \t0.668157\n",
      "7  \t154   \t0.525232\t0.525615\t0.500853\t0.00196159\t2.15333\t7  \t1  \t0.780911\n",
      "8  \t187   \t0.525301\t0.525615\t0.511934\t0.00142369\t2.17   \t8  \t1  \t0.783858\n",
      "9  \t172   \t0.525338\t0.525615\t0.511538\t0.00131273\t2.10667\t7  \t1  \t0.649581\n",
      "10 \t151   \t0.525461\t0.525615\t0.51458 \t0.000871319\t2.05667\t7  \t1  \t0.541715\n"
     ]
    },
    {
     "name": "stderr",
     "output_type": "stream",
     "text": [
      "\r",
      " 98%|█████████▊| 98/100 [157:53:41<3:13:20, 5800.22s/it]"
     ]
    },
    {
     "name": "stdout",
     "output_type": "stream",
     "text": [
      "   \t      \t                     fitness                      \t              size             \n",
      "   \t      \t--------------------------------------------------\t-------------------------------\n",
      "gen\tnevals\tavg     \tmax     \tmin    \tstd       \tavg    \tmax\tmin\tstd    \n",
      "0  \t300   \t0.521498\t0.525517\t0.48166\t0.00523512\t3.83333\t12 \t2  \t2.22386\n",
      "1  \t176   \t0.524253\t0.525714\t0.502341\t0.00268163\t3.00333\t10 \t1  \t1.38924\n",
      "2  \t158   \t0.524503\t0.525714\t0.511306\t0.00236582\t3.33667\t11 \t1  \t1.60312\n",
      "3  \t179   \t0.524917\t0.525714\t0.512383\t0.00160189\t2.58667\t8  \t1  \t0.984457\n",
      "4  \t178   \t0.524926\t0.525714\t0.508517\t0.00166991\t2.72333\t8  \t1  \t0.879463\n",
      "5  \t184   \t0.525245\t0.525714\t0.512127\t0.00119602\t3.06667\t7  \t1  \t0.659966\n",
      "6  \t165   \t0.525403\t0.525714\t0.521011\t0.000618591\t3.15   \t9  \t1  \t0.84113 \n",
      "7  \t174   \t0.525326\t0.525714\t0.521589\t0.000653092\t3.15   \t8  \t1  \t0.757738\n",
      "8  \t144   \t0.52537 \t0.525714\t0.520748\t0.000713893\t3.18   \t9  \t1  \t0.821137\n",
      "9  \t164   \t0.525331\t0.525714\t0.514925\t0.000935014\t3.12333\t8  \t1  \t0.722119\n",
      "10 \t150   \t0.52545 \t0.525714\t0.522091\t0.000491452\t3.10667\t9  \t1  \t0.731634\n"
     ]
    },
    {
     "name": "stderr",
     "output_type": "stream",
     "text": [
      "\r",
      " 99%|█████████▉| 99/100 [166:08:02<1:40:41, 6041.24s/it]"
     ]
    },
    {
     "name": "stdout",
     "output_type": "stream",
     "text": [
      "   \t      \t                         fitness                          \t              size             \n",
      "   \t      \t----------------------------------------------------------\t-------------------------------\n",
      "gen\tnevals\tavg     \tmax     \tmin     \tstd       \tavg    \tmax\tmin\tstd    \n",
      "0  \t300   \t0.521894\t0.525568\t0.480221\t0.00537136\t3.76333\t15 \t2  \t2.42226\n",
      "1  \t145   \t0.524114\t0.525568\t0.496185\t0.00336275\t2.91333\t10 \t1  \t1.59347\n",
      "2  \t150   \t0.524278\t0.525586\t0.506038\t0.00310932\t2.57667\t6  \t1  \t0.790014\n",
      "3  \t162   \t0.524102\t0.525586\t0.471977\t0.00472037\t2.87333\t9  \t1  \t0.954265\n",
      "4  \t150   \t0.524706\t0.525586\t0.505894\t0.00212723\t3.16667\t9  \t1  \t0.81172 \n",
      "5  \t163   \t0.524767\t0.525586\t0.464483\t0.00419952\t3.04333\t8  \t1  \t0.53677 \n",
      "6  \t156   \t0.525076\t0.525586\t0.478109\t0.00307974\t3.13667\t9  \t1  \t0.733477\n",
      "7  \t157   \t0.525174\t0.525586\t0.502257\t0.00201203\t3.13667\t9  \t1  \t0.781871\n",
      "8  \t167   \t0.525132\t0.525586\t0.511208\t0.00167627\t3.17333\t9  \t1  \t0.834639\n",
      "9  \t148   \t0.525284\t0.525586\t0.515588\t0.00109054\t3.12667\t8  \t1  \t0.686019\n",
      "10 \t157   \t0.524923\t0.525586\t0.475392\t0.00333782\t3.08667\t8  \t1  \t0.564939\n"
     ]
    },
    {
     "name": "stderr",
     "output_type": "stream",
     "text": [
      "100%|██████████| 100/100 [169:12:32<00:00, 6091.52s/it] \n"
     ]
    }
   ],
   "source": [
    "# model execute\n",
    "train_new, test_new, results, exprs  = GeneticFeature.GeneticMake(train = train,\n",
    "                                                                  test = test,\n",
    "                                                                  features = features,\n",
    "                                                                  params = params,\n",
    "                                                                  iteration=100,\n",
    "                                                                  feature_limit=100)"
   ]
  },
  {
   "cell_type": "code",
   "execution_count": 17,
   "metadata": {},
   "outputs": [
    {
     "data": {
      "text/plain": [
       "array(['X2', 'X3', 'X4', 'X6', 'X7', 'X8', 'X9', 'X10', 'X11',\n",
       "       'log_credit', 'boxcox_credit', 'scaler_credit', 'bins_ages',\n",
       "       'nopay_count', 'pay_count', 'revo_count', 'late_count',\n",
       "       'log_pay_9', 'log_pay_8', 'log_pay_7', 'log_pay_6', 'log_pay_5',\n",
       "       'log_pay_4', 'log_prepay_9', 'log_prepay_8', 'log_prepay_7',\n",
       "       'log_prepay_6', 'log_prepay_5', 'log_prepay_4', 'X2_X2', 'X2_X3',\n",
       "       'X2_X4', 'X3_X3', 'X3_X4', 'X4_X4'], dtype=object)"
      ]
     },
     "execution_count": 17,
     "metadata": {},
     "output_type": "execute_result"
    }
   ],
   "source": [
    "features"
   ]
  },
  {
   "cell_type": "markdown",
   "metadata": {},
   "source": [
    "# model comparing\n",
    "\n",
    "- base lightgbm + new lightgbm\n",
    "- base Decision Tree + new Decision Tree"
   ]
  },
  {
   "cell_type": "code",
   "execution_count": 14,
   "metadata": {},
   "outputs": [
    {
     "name": "stdout",
     "output_type": "stream",
     "text": [
      "fold n°1\n",
      "Training until validation scores don't improve for 200 rounds.\n",
      "[100]\ttraining's binary_error: 0.164099\tvalid_1's binary_error: 0.173481\n",
      "[200]\ttraining's binary_error: 0.151506\tvalid_1's binary_error: 0.176444\n",
      "[300]\ttraining's binary_error: 0.137877\tvalid_1's binary_error: 0.175704\n",
      "Early stopping, best iteration is:\n",
      "[119]\ttraining's binary_error: 0.161086\tvalid_1's binary_error: 0.172\n",
      "fold n°2\n",
      "Training until validation scores don't improve for 200 rounds.\n",
      "[100]\ttraining's binary_error: 0.16242\tvalid_1's binary_error: 0.181481\n",
      "[200]\ttraining's binary_error: 0.150272\tvalid_1's binary_error: 0.183704\n",
      "Early stopping, best iteration is:\n",
      "[46]\ttraining's binary_error: 0.168938\tvalid_1's binary_error: 0.178963\n",
      "fold n°3\n",
      "Training until validation scores don't improve for 200 rounds.\n",
      "[100]\ttraining's binary_error: 0.160593\tvalid_1's binary_error: 0.183556\n",
      "[200]\ttraining's binary_error: 0.148494\tvalid_1's binary_error: 0.186815\n",
      "Early stopping, best iteration is:\n",
      "[32]\ttraining's binary_error: 0.16958\tvalid_1's binary_error: 0.181481\n",
      "fold n°4\n",
      "Training until validation scores don't improve for 200 rounds.\n",
      "[100]\ttraining's binary_error: 0.161728\tvalid_1's binary_error: 0.182222\n",
      "[200]\ttraining's binary_error: 0.147506\tvalid_1's binary_error: 0.182963\n",
      "Early stopping, best iteration is:\n",
      "[63]\ttraining's binary_error: 0.165975\tvalid_1's binary_error: 0.181481\n"
     ]
    },
    {
     "data": {
      "image/png": "[encoded data removed]",
      "text/plain": [
       "<Figure size 1008x2880 with 1 Axes>"
      ]
     },
     "metadata": {
      "needs_background": "light"
     },
     "output_type": "display_data"
    }
   ],
   "source": [
    "# parameters\n",
    "tree_param = Process.open_parameter(file_name = 'Tree_classifer_param')\n",
    "lgb_param = Process.open_parameter(file_name = 'lgb_classifer_param')\n",
    "# features = test_new.columns.values\n",
    "# model\n",
    "lgb_base, importances_base = LightGBM.validation(train_base,features_base,lgb_param,name=\"Lightgbm base model\")\n",
    "# lgb_new, importances = LightGBM.validation(train_base,features_base,param,name=\"Lightgbm new model\")\n",
    "#lgb_new, importances_new = LightGBM.validation(train_new,features,lgb_param,name=\"Lightgbm new model\")\n",
    "tree_base = DecisionTree.validation(train_base,features_base,tree_param, name=\"Decision Tree base model\")\n",
    "#tree_new = DecisionTree.validation(train_new,features,tree_param, name=\"Decision Tree new model\")\n",
    "\n",
    "# result\n",
    "#performance = pd.concat([lgb_base,lgb_new,tree_base,tree_new])\n",
    "#g_normal = ggplot(performance,aes(x='fold',y='score',group = 'model',color = 'model')) + geom_point() + geom_line()\n",
    "#print(g_normal)\n",
    "\n",
    "# feature importance\n",
    "LightGBM.display_importances(importances_base, title=\"LightGBM feature importance\")"
   ]
  },
  {
   "cell_type": "code",
   "execution_count": 19,
   "metadata": {},
   "outputs": [
    {
     "name": "stdout",
     "output_type": "stream",
     "text": [
      "   fold                model     score\n",
      "0     1  Lightgbm base model  0.495437\n",
      "1     2  Lightgbm base model  0.482434\n",
      "2     3  Lightgbm base model  0.478057\n",
      "3     4  Lightgbm base model  0.469467\n",
      "   fold               model     score\n",
      "0     1  Lightgbm new model  0.477931\n",
      "1     2  Lightgbm new model  0.484228\n",
      "2     3  Lightgbm new model  0.463768\n",
      "3     4  Lightgbm new model  0.467826\n"
     ]
    }
   ],
   "source": [
    "print(lgb_base)\n",
    "print(lgb_new)"
   ]
  },
  {
   "cell_type": "code",
   "execution_count": 14,
   "metadata": {},
   "outputs": [
    {
     "data": {
      "text/html": [
       "<div>\n",
       "<style scoped>\n",
       "    .dataframe tbody tr th:only-of-type {\n",
       "        vertical-align: middle;\n",
       "    }\n",
       "\n",
       "    .dataframe tbody tr th {\n",
       "        vertical-align: top;\n",
       "    }\n",
       "\n",
       "    .dataframe thead th {\n",
       "        text-align: right;\n",
       "    }\n",
       "</style>\n",
       "<table border=\"1\" class=\"dataframe\">\n",
       "  <thead>\n",
       "    <tr style=\"text-align: right;\">\n",
       "      <th></th>\n",
       "      <th>fold</th>\n",
       "      <th>model</th>\n",
       "      <th>score</th>\n",
       "    </tr>\n",
       "  </thead>\n",
       "  <tbody>\n",
       "    <tr>\n",
       "      <th>0</th>\n",
       "      <td>1</td>\n",
       "      <td>Lightgbm base model</td>\n",
       "      <td>0.495437</td>\n",
       "    </tr>\n",
       "    <tr>\n",
       "      <th>1</th>\n",
       "      <td>2</td>\n",
       "      <td>Lightgbm base model</td>\n",
       "      <td>0.482434</td>\n",
       "    </tr>\n",
       "    <tr>\n",
       "      <th>2</th>\n",
       "      <td>3</td>\n",
       "      <td>Lightgbm base model</td>\n",
       "      <td>0.478057</td>\n",
       "    </tr>\n",
       "    <tr>\n",
       "      <th>3</th>\n",
       "      <td>4</td>\n",
       "      <td>Lightgbm base model</td>\n",
       "      <td>0.469467</td>\n",
       "    </tr>\n",
       "    <tr>\n",
       "      <th>0</th>\n",
       "      <td>1</td>\n",
       "      <td>Lightgbm new model</td>\n",
       "      <td>0.485249</td>\n",
       "    </tr>\n",
       "    <tr>\n",
       "      <th>1</th>\n",
       "      <td>2</td>\n",
       "      <td>Lightgbm new model</td>\n",
       "      <td>0.474783</td>\n",
       "    </tr>\n",
       "    <tr>\n",
       "      <th>2</th>\n",
       "      <td>3</td>\n",
       "      <td>Lightgbm new model</td>\n",
       "      <td>0.474839</td>\n",
       "    </tr>\n",
       "    <tr>\n",
       "      <th>3</th>\n",
       "      <td>4</td>\n",
       "      <td>Lightgbm new model</td>\n",
       "      <td>0.463478</td>\n",
       "    </tr>\n",
       "    <tr>\n",
       "      <th>0</th>\n",
       "      <td>1</td>\n",
       "      <td>Decision Tree base model</td>\n",
       "      <td>0.478222</td>\n",
       "    </tr>\n",
       "    <tr>\n",
       "      <th>1</th>\n",
       "      <td>2</td>\n",
       "      <td>Decision Tree base model</td>\n",
       "      <td>0.449578</td>\n",
       "    </tr>\n",
       "    <tr>\n",
       "      <th>2</th>\n",
       "      <td>3</td>\n",
       "      <td>Decision Tree base model</td>\n",
       "      <td>0.475138</td>\n",
       "    </tr>\n",
       "    <tr>\n",
       "      <th>3</th>\n",
       "      <td>4</td>\n",
       "      <td>Decision Tree base model</td>\n",
       "      <td>0.474450</td>\n",
       "    </tr>\n",
       "    <tr>\n",
       "      <th>0</th>\n",
       "      <td>1</td>\n",
       "      <td>Decision Tree new model</td>\n",
       "      <td>0.456916</td>\n",
       "    </tr>\n",
       "    <tr>\n",
       "      <th>1</th>\n",
       "      <td>2</td>\n",
       "      <td>Decision Tree new model</td>\n",
       "      <td>0.488722</td>\n",
       "    </tr>\n",
       "    <tr>\n",
       "      <th>2</th>\n",
       "      <td>3</td>\n",
       "      <td>Decision Tree new model</td>\n",
       "      <td>0.488163</td>\n",
       "    </tr>\n",
       "    <tr>\n",
       "      <th>3</th>\n",
       "      <td>4</td>\n",
       "      <td>Decision Tree new model</td>\n",
       "      <td>0.428571</td>\n",
       "    </tr>\n",
       "  </tbody>\n",
       "</table>\n",
       "</div>"
      ],
      "text/plain": [
       "   fold                     model     score\n",
       "0     1       Lightgbm base model  0.495437\n",
       "1     2       Lightgbm base model  0.482434\n",
       "2     3       Lightgbm base model  0.478057\n",
       "3     4       Lightgbm base model  0.469467\n",
       "0     1        Lightgbm new model  0.485249\n",
       "1     2        Lightgbm new model  0.474783\n",
       "2     3        Lightgbm new model  0.474839\n",
       "3     4        Lightgbm new model  0.463478\n",
       "0     1  Decision Tree base model  0.478222\n",
       "1     2  Decision Tree base model  0.449578\n",
       "2     3  Decision Tree base model  0.475138\n",
       "3     4  Decision Tree base model  0.474450\n",
       "0     1   Decision Tree new model  0.456916\n",
       "1     2   Decision Tree new model  0.488722\n",
       "2     3   Decision Tree new model  0.488163\n",
       "3     4   Decision Tree new model  0.428571"
      ]
     },
     "execution_count": 14,
     "metadata": {},
     "output_type": "execute_result"
    }
   ],
   "source": [
    "performance"
   ]
  },
  {
   "cell_type": "code",
   "execution_count": 16,
   "metadata": {},
   "outputs": [
    {
     "data": {
      "text/plain": [
       "array(['X2', 'X3', 'X4', 'X6', 'X7', 'X8', 'X9', 'X10', 'X11',\n",
       "       'log_credit', 'boxcox_credit', 'scaler_credit', 'bins_ages',\n",
       "       'nopay_count', 'pay_count', 'revo_count', 'late_count',\n",
       "       'log_pay_9', 'log_pay_8', 'log_pay_7', 'log_pay_6', 'log_pay_5',\n",
       "       'log_pay_4', 'log_prepay_9', 'log_prepay_8', 'log_prepay_7',\n",
       "       'log_prepay_6', 'log_prepay_5', 'log_prepay_4', 'X2_X2', 'X2_X3',\n",
       "       'X2_X4', 'X3_X3', 'X3_X4', 'X4_X4'], dtype=object)"
      ]
     },
     "execution_count": 16,
     "metadata": {},
     "output_type": "execute_result"
    }
   ],
   "source": [
    "features"
   ]
  },
  {
   "cell_type": "code",
   "execution_count": null,
   "metadata": {},
   "outputs": [],
   "source": []
  }
 ],
 "metadata": {
  "kernelspec": {
   "display_name": "py37",
   "language": "python",
   "name": "py37"
  },
  "language_info": {
   "codemirror_mode": {
    "name": "ipython",
    "version": 3
   },
   "file_extension": ".py",
   "mimetype": "text/x-python",
   "name": "python",
   "nbconvert_exporter": "python",
   "pygments_lexer": "ipython3",
   "version": "3.7.1"
  },
  "toc": {
   "base_numbering": 1,
   "nav_menu": {},
   "number_sections": true,
   "sideBar": true,
   "skip_h1_title": false,
   "title_cell": "Table of Contents",
   "title_sidebar": "Contents",
   "toc_cell": false,
   "toc_position": {},
   "toc_section_display": true,
   "toc_window_display": true
  }
 },
 "nbformat": 4,
 "nbformat_minor": 2
}
